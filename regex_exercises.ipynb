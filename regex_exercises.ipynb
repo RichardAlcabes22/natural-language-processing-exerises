{
 "cells": [
  {
   "cell_type": "code",
   "execution_count": 1,
   "id": "d8e8a5a2",
   "metadata": {},
   "outputs": [],
   "source": [
    "import pandas as pd\n",
    "import re # part of the python stdlib"
   ]
  },
  {
   "cell_type": "markdown",
   "id": "233bd8af",
   "metadata": {},
   "source": [
    "# 1 Write a function- is_vowel using regex that outputs a boolean value"
   ]
  },
  {
   "cell_type": "code",
   "execution_count": 2,
   "id": "be3fb862",
   "metadata": {},
   "outputs": [],
   "source": [
    "regexp = r'[aeiou]'\n",
    "subject = 'd'"
   ]
  },
  {
   "cell_type": "code",
   "execution_count": 3,
   "id": "52919bfe",
   "metadata": {},
   "outputs": [],
   "source": [
    "result = re.search(regexp,subject)\n",
    "\n",
    "result"
   ]
  },
  {
   "cell_type": "code",
   "execution_count": 4,
   "id": "17728de0",
   "metadata": {},
   "outputs": [
    {
     "name": "stdout",
     "output_type": "stream",
     "text": [
      "no\n"
     ]
    }
   ],
   "source": [
    "if result:\n",
    "    print('yes')\n",
    "else:\n",
    "    print('no')"
   ]
  },
  {
   "cell_type": "code",
   "execution_count": 5,
   "id": "72caca57",
   "metadata": {},
   "outputs": [],
   "source": [
    "def is_vowel(subject):\n",
    "    '''\n",
    "    Takes in a 1 CHARACTER string literal and outputs a Boolean value\n",
    "    '''\n",
    "    regexp = r'[aeiou]'\n",
    "    result = re.search(regexp,subject)\n",
    "    if result:\n",
    "        return 1\n",
    "    else:\n",
    "        return 0"
   ]
  },
  {
   "cell_type": "code",
   "execution_count": 6,
   "id": "c5adbc83",
   "metadata": {},
   "outputs": [
    {
     "data": {
      "text/plain": [
       "1"
      ]
     },
     "execution_count": 6,
     "metadata": {},
     "output_type": "execute_result"
    }
   ],
   "source": [
    "is_vowel('a')"
   ]
  },
  {
   "cell_type": "code",
   "execution_count": 7,
   "id": "9767d72e",
   "metadata": {
    "scrolled": true
   },
   "outputs": [
    {
     "data": {
      "text/plain": [
       "0"
      ]
     },
     "execution_count": 7,
     "metadata": {},
     "output_type": "execute_result"
    }
   ],
   "source": [
    "is_vowel('p')"
   ]
  },
  {
   "cell_type": "markdown",
   "id": "aa9a890f",
   "metadata": {},
   "source": [
    "# 2 Write a function- is_valid_username using regex that outputs (TRUE-FALSE)\n",
    "\n",
    "### starts with lowercase letter--consists of lowercase letters,numbers, and \"_\".  Max length 32 char"
   ]
  },
  {
   "cell_type": "code",
   "execution_count": 8,
   "id": "53e921bb",
   "metadata": {},
   "outputs": [],
   "source": [
    "regexp = r'^[a-z][a-z0-9_]{,31}'\n",
    "subject = 'dees_nutz 22'"
   ]
  },
  {
   "cell_type": "code",
   "execution_count": 9,
   "id": "75105d78",
   "metadata": {},
   "outputs": [
    {
     "data": {
      "text/plain": [
       "<re.Match object; span=(0, 9), match='dees_nutz'>"
      ]
     },
     "execution_count": 9,
     "metadata": {},
     "output_type": "execute_result"
    }
   ],
   "source": [
    "result = re.search(regexp,subject)\n",
    "result"
   ]
  },
  {
   "cell_type": "code",
   "execution_count": 10,
   "id": "ac641ac1",
   "metadata": {},
   "outputs": [
    {
     "name": "stdout",
     "output_type": "stream",
     "text": [
      "yes\n"
     ]
    }
   ],
   "source": [
    "if result:\n",
    "    print('yes')\n",
    "else:\n",
    "    print('no')"
   ]
  },
  {
   "cell_type": "code",
   "execution_count": 11,
   "id": "0bc93f77",
   "metadata": {},
   "outputs": [],
   "source": [
    "def is_valid_username(subject):\n",
    "    '''\n",
    "    Takes in a CHAR string literal and outputs a Boolean value\n",
    "    criteria must begin with lowercase, consists of only lowercase-numerals-\"_\"...max length 32\n",
    "    '''\n",
    "    regexp = r'^[a-z][a-z0-9_]{,31}$'\n",
    "    result = re.search(regexp,subject)\n",
    "    if result:\n",
    "        return True\n",
    "    else:\n",
    "        return False"
   ]
  },
  {
   "cell_type": "code",
   "execution_count": 12,
   "id": "bedb409e",
   "metadata": {},
   "outputs": [
    {
     "data": {
      "text/plain": [
       "True"
      ]
     },
     "execution_count": 12,
     "metadata": {},
     "output_type": "execute_result"
    }
   ],
   "source": [
    "is_valid_username('dees_nutz22')"
   ]
  },
  {
   "cell_type": "code",
   "execution_count": 13,
   "id": "5b829ac9",
   "metadata": {},
   "outputs": [
    {
     "data": {
      "text/plain": [
       "False"
      ]
     },
     "execution_count": 13,
     "metadata": {},
     "output_type": "execute_result"
    }
   ],
   "source": [
    "is_valid_username('deEes_nutz22')"
   ]
  },
  {
   "cell_type": "code",
   "execution_count": 14,
   "id": "05149e5a",
   "metadata": {},
   "outputs": [
    {
     "data": {
      "text/plain": [
       "False"
      ]
     },
     "execution_count": 14,
     "metadata": {},
     "output_type": "execute_result"
    }
   ],
   "source": [
    "is_valid_username('Bees_nutz22')"
   ]
  },
  {
   "cell_type": "code",
   "execution_count": 15,
   "id": "9fbd5824",
   "metadata": {},
   "outputs": [
    {
     "data": {
      "text/plain": [
       "False"
      ]
     },
     "execution_count": 15,
     "metadata": {},
     "output_type": "execute_result"
    }
   ],
   "source": [
    "is_valid_username('dees_nu<<tz22')"
   ]
  },
  {
   "cell_type": "code",
   "execution_count": 16,
   "id": "f730b340",
   "metadata": {},
   "outputs": [
    {
     "data": {
      "text/plain": [
       "False"
      ]
     },
     "execution_count": 16,
     "metadata": {},
     "output_type": "execute_result"
    }
   ],
   "source": [
    "is_valid_username('aaaaaaaaaaaaaaaaaaaaaaaaaaaaaaaaa')"
   ]
  },
  {
   "cell_type": "code",
   "execution_count": 17,
   "id": "6847f064",
   "metadata": {},
   "outputs": [
    {
     "data": {
      "text/plain": [
       "True"
      ]
     },
     "execution_count": 17,
     "metadata": {},
     "output_type": "execute_result"
    }
   ],
   "source": [
    "is_valid_username('codeup')"
   ]
  },
  {
   "cell_type": "code",
   "execution_count": 18,
   "id": "47a90f2d",
   "metadata": {},
   "outputs": [
    {
     "data": {
      "text/plain": [
       "False"
      ]
     },
     "execution_count": 18,
     "metadata": {},
     "output_type": "execute_result"
    }
   ],
   "source": [
    "is_valid_username('Codeup')"
   ]
  },
  {
   "cell_type": "code",
   "execution_count": 19,
   "id": "dddb5ca1",
   "metadata": {},
   "outputs": [
    {
     "data": {
      "text/plain": [
       "True"
      ]
     },
     "execution_count": 19,
     "metadata": {},
     "output_type": "execute_result"
    }
   ],
   "source": [
    "is_valid_username('codeup123')"
   ]
  },
  {
   "cell_type": "code",
   "execution_count": 20,
   "id": "b0b1f1f5",
   "metadata": {},
   "outputs": [
    {
     "data": {
      "text/plain": [
       "False"
      ]
     },
     "execution_count": 20,
     "metadata": {},
     "output_type": "execute_result"
    }
   ],
   "source": [
    "is_valid_username('1codeup')"
   ]
  },
  {
   "cell_type": "markdown",
   "id": "98b60536",
   "metadata": {},
   "source": [
    "# 3 Write a regex that captures phone numbers\n",
    "\n",
    "### must capture following:\n",
    "- (xxx) xxx xxxx\n",
    "- +1 xxx.xxx.xxxx\n",
    "- xxx-xxxx\n",
    "- xxx-xxx-xxxx"
   ]
  },
  {
   "cell_type": "code",
   "execution_count": 21,
   "id": "a16a1ea8",
   "metadata": {},
   "outputs": [],
   "source": [
    "regexp = r'^[\\s0-9()+]{,6}[\\s.-]?[0-9]{3}[\\s.-]?[0-9]{4}$'\n",
    "subject = '(210) 867 5309'\n",
    "subject2 = '+1 210.867.5309'\n",
    "subject3 = '867-5309'\n",
    "subject4 = '210-867-5309'"
   ]
  },
  {
   "cell_type": "code",
   "execution_count": 22,
   "id": "9814102b",
   "metadata": {},
   "outputs": [
    {
     "data": {
      "text/plain": [
       "(<re.Match object; span=(0, 14), match='(210) 867 5309'>,\n",
       " <re.Match object; span=(0, 15), match='+1 210.867.5309'>,\n",
       " <re.Match object; span=(0, 8), match='867-5309'>,\n",
       " <re.Match object; span=(0, 12), match='210-867-5309'>)"
      ]
     },
     "execution_count": 22,
     "metadata": {},
     "output_type": "execute_result"
    }
   ],
   "source": [
    "result = re.search(regexp,subject)\n",
    "result2 = re.search(regexp,subject2)\n",
    "result3 = re.search(regexp,subject3)\n",
    "result4 = re.search(regexp,subject4)\n",
    "result,result2,result3,result4,"
   ]
  },
  {
   "cell_type": "markdown",
   "id": "8c978b1f",
   "metadata": {},
   "source": [
    "# 4 Use a regex to convert dates to YYYY-mm-dd\n",
    "\n",
    "### example 2019-04-26"
   ]
  },
  {
   "cell_type": "code",
   "execution_count": 23,
   "id": "09a54123",
   "metadata": {},
   "outputs": [],
   "source": [
    "date = '02/04/19'"
   ]
  },
  {
   "cell_type": "code",
   "execution_count": 24,
   "id": "7701217d",
   "metadata": {},
   "outputs": [
    {
     "data": {
      "text/plain": [
       "'02/04/19'"
      ]
     },
     "execution_count": 24,
     "metadata": {},
     "output_type": "execute_result"
    }
   ],
   "source": [
    "date"
   ]
  },
  {
   "cell_type": "code",
   "execution_count": 25,
   "id": "d4a4eb90",
   "metadata": {},
   "outputs": [],
   "source": [
    "regexp = r'(\\d{2})/(\\d{2})/(\\d{2})'"
   ]
  },
  {
   "cell_type": "code",
   "execution_count": 26,
   "id": "0407b057",
   "metadata": {},
   "outputs": [
    {
     "data": {
      "text/plain": [
       "'2019-04-02'"
      ]
     },
     "execution_count": 26,
     "metadata": {},
     "output_type": "execute_result"
    }
   ],
   "source": [
    "re.sub(regexp,r'20\\3-\\2-\\1',date)"
   ]
  },
  {
   "cell_type": "code",
   "execution_count": null,
   "id": "2f09ae1d",
   "metadata": {},
   "outputs": [],
   "source": []
  },
  {
   "cell_type": "code",
   "execution_count": 27,
   "id": "3e3f1e44",
   "metadata": {},
   "outputs": [],
   "source": [
    "dates = pd.Series(['02/04/19',\n",
    "'02/05/19',\n",
    "'02/06/19',\n",
    "'02/07/19',\n",
    "'02/08/19',\n",
    "'02/09/19',\n",
    "'02/10/19'\n",
    "])"
   ]
  },
  {
   "cell_type": "code",
   "execution_count": 28,
   "id": "d366d89a",
   "metadata": {},
   "outputs": [],
   "source": [
    "regexp = r'(\\d{2})/(\\d{2})/(\\d{2})'"
   ]
  },
  {
   "cell_type": "code",
   "execution_count": 29,
   "id": "2fa5a371",
   "metadata": {},
   "outputs": [
    {
     "data": {
      "text/plain": [
       "'2019-04-02'"
      ]
     },
     "execution_count": 29,
     "metadata": {},
     "output_type": "execute_result"
    }
   ],
   "source": [
    "re.sub(regexp,r'20\\3-\\2-\\1',date)"
   ]
  },
  {
   "cell_type": "code",
   "execution_count": 30,
   "id": "49286d45",
   "metadata": {},
   "outputs": [
    {
     "data": {
      "text/plain": [
       "0    2019-04-02\n",
       "1    2019-05-02\n",
       "2    2019-06-02\n",
       "3    2019-07-02\n",
       "4    2019-08-02\n",
       "5    2019-09-02\n",
       "6    2019-10-02\n",
       "dtype: object"
      ]
     },
     "execution_count": 30,
     "metadata": {},
     "output_type": "execute_result"
    }
   ],
   "source": [
    "dates.str.replace(regexp, r'20\\3-\\2-\\1', regex=True)"
   ]
  },
  {
   "cell_type": "markdown",
   "id": "c7e037ab",
   "metadata": {},
   "source": [
    "# 5 Use a regex to extract parts of logfile lines\n"
   ]
  },
  {
   "cell_type": "code",
   "execution_count": 31,
   "id": "8a855f9b",
   "metadata": {},
   "outputs": [],
   "source": [
    "log_file_lines = '''\n",
    "\n",
    "GET /api/v1/sales?page=86 [16/Apr/2019:193452+0000] HTTP/1.1 {200} 510348 \"python-requests/2.21.0\" 97.105.19.58\n",
    "POST /users_accounts/file-upload [16/Apr/2019:193452+0000] HTTP/1.1 {201} 42 \"User-Agent: Mozilla/5.0 (X11; Fedora; Fedora; Linux x86_64) AppleWebKit/537.36 (KHTML, like Gecko) Chrome/73.0.3683.86 Safari/537.36\" 97.105.19.58\n",
    "GET /api/v1/items?page=3 [16/Apr/2019:193453+0000] HTTP/1.1 {429} 3561 \"python-requests/2.21.0\" 97.105.19.58\n",
    "\n",
    "'''"
   ]
  },
  {
   "cell_type": "code",
   "execution_count": 32,
   "id": "59ae620c",
   "metadata": {},
   "outputs": [],
   "source": [
    "lines = pd.Series(log_file_lines.strip().split('\\n'))"
   ]
  },
  {
   "cell_type": "code",
   "execution_count": 33,
   "id": "f4560a8a",
   "metadata": {},
   "outputs": [
    {
     "data": {
      "text/plain": [
       "0    GET /api/v1/sales?page=86 [16/Apr/2019:193452+...\n",
       "1    POST /users_accounts/file-upload [16/Apr/2019:...\n",
       "2    GET /api/v1/items?page=3 [16/Apr/2019:193453+0...\n",
       "dtype: object"
      ]
     },
     "execution_count": 33,
     "metadata": {},
     "output_type": "execute_result"
    }
   ],
   "source": [
    "lines"
   ]
  },
  {
   "cell_type": "code",
   "execution_count": 34,
   "id": "b7c35c66",
   "metadata": {},
   "outputs": [],
   "source": [
    "regex = r'(?P<method>[A-Z]*?)\\s(?P<path>.*?)\\s\\[(?P<timestamp>.*?)\\]\\s(?P<protocol>[HTTP/1.1]+)\\s(?P<status>[{}0-9]{5})\\s(?P<bytes_sent>\\d+)\\s\"(?P<user_agent>.*)\"\\s(?P<ip>[0-9.]*)$'\n"
   ]
  },
  {
   "cell_type": "code",
   "execution_count": 35,
   "id": "3204d43d",
   "metadata": {},
   "outputs": [],
   "source": [
    "regex = re.compile(regex,re.VERBOSE)"
   ]
  },
  {
   "cell_type": "code",
   "execution_count": 36,
   "id": "a98f8795",
   "metadata": {},
   "outputs": [
    {
     "data": {
      "text/html": [
       "<div>\n",
       "<style scoped>\n",
       "    .dataframe tbody tr th:only-of-type {\n",
       "        vertical-align: middle;\n",
       "    }\n",
       "\n",
       "    .dataframe tbody tr th {\n",
       "        vertical-align: top;\n",
       "    }\n",
       "\n",
       "    .dataframe thead th {\n",
       "        text-align: right;\n",
       "    }\n",
       "</style>\n",
       "<table border=\"1\" class=\"dataframe\">\n",
       "  <thead>\n",
       "    <tr style=\"text-align: right;\">\n",
       "      <th></th>\n",
       "      <th>method</th>\n",
       "      <th>path</th>\n",
       "      <th>timestamp</th>\n",
       "      <th>protocol</th>\n",
       "      <th>status</th>\n",
       "      <th>bytes_sent</th>\n",
       "      <th>user_agent</th>\n",
       "      <th>ip</th>\n",
       "    </tr>\n",
       "  </thead>\n",
       "  <tbody>\n",
       "    <tr>\n",
       "      <th>0</th>\n",
       "      <td>GET</td>\n",
       "      <td>/api/v1/sales?page=86</td>\n",
       "      <td>16/Apr/2019:193452+0000</td>\n",
       "      <td>HTTP/1.1</td>\n",
       "      <td>{200}</td>\n",
       "      <td>510348</td>\n",
       "      <td>python-requests/2.21.0</td>\n",
       "      <td>97.105.19.58</td>\n",
       "    </tr>\n",
       "    <tr>\n",
       "      <th>1</th>\n",
       "      <td>POST</td>\n",
       "      <td>/users_accounts/file-upload</td>\n",
       "      <td>16/Apr/2019:193452+0000</td>\n",
       "      <td>HTTP/1.1</td>\n",
       "      <td>{201}</td>\n",
       "      <td>42</td>\n",
       "      <td>User-Agent: Mozilla/5.0 (X11; Fedora; Fedora; ...</td>\n",
       "      <td>97.105.19.58</td>\n",
       "    </tr>\n",
       "    <tr>\n",
       "      <th>2</th>\n",
       "      <td>GET</td>\n",
       "      <td>/api/v1/items?page=3</td>\n",
       "      <td>16/Apr/2019:193453+0000</td>\n",
       "      <td>HTTP/1.1</td>\n",
       "      <td>{429}</td>\n",
       "      <td>3561</td>\n",
       "      <td>python-requests/2.21.0</td>\n",
       "      <td>97.105.19.58</td>\n",
       "    </tr>\n",
       "  </tbody>\n",
       "</table>\n",
       "</div>"
      ],
      "text/plain": [
       "  method                         path                timestamp  protocol  \\\n",
       "0    GET        /api/v1/sales?page=86  16/Apr/2019:193452+0000  HTTP/1.1   \n",
       "1   POST  /users_accounts/file-upload  16/Apr/2019:193452+0000  HTTP/1.1   \n",
       "2    GET         /api/v1/items?page=3  16/Apr/2019:193453+0000  HTTP/1.1   \n",
       "\n",
       "  status bytes_sent                                         user_agent  \\\n",
       "0  {200}     510348                             python-requests/2.21.0   \n",
       "1  {201}         42  User-Agent: Mozilla/5.0 (X11; Fedora; Fedora; ...   \n",
       "2  {429}       3561                             python-requests/2.21.0   \n",
       "\n",
       "             ip  \n",
       "0  97.105.19.58  \n",
       "1  97.105.19.58  \n",
       "2  97.105.19.58  "
      ]
     },
     "execution_count": 36,
     "metadata": {},
     "output_type": "execute_result"
    }
   ],
   "source": [
    "lines.str.extract(regex)"
   ]
  },
  {
   "cell_type": "code",
   "execution_count": null,
   "id": "963ab979",
   "metadata": {},
   "outputs": [],
   "source": []
  }
 ],
 "metadata": {
  "kernelspec": {
   "display_name": "Python 3 (ipykernel)",
   "language": "python",
   "name": "python3"
  },
  "language_info": {
   "codemirror_mode": {
    "name": "ipython",
    "version": 3
   },
   "file_extension": ".py",
   "mimetype": "text/x-python",
   "name": "python",
   "nbconvert_exporter": "python",
   "pygments_lexer": "ipython3",
   "version": "3.9.13"
  }
 },
 "nbformat": 4,
 "nbformat_minor": 5
}
