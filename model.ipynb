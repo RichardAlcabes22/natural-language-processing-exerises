{
 "cells": [
  {
   "cell_type": "code",
   "execution_count": 24,
   "id": "d271dc9a",
   "metadata": {},
   "outputs": [],
   "source": [
    "import matplotlib.pyplot as plt\n",
    "import seaborn as sns\n",
    "import pandas as pd\n",
    "import nltk\n",
    "import unicodedata\n",
    "import re\n",
    "import env\n",
    "from sklearn.model_selection import train_test_split\n",
    "from requests import get\n",
    "from bs4 import BeautifulSoup\n",
    "import os\n",
    "from pprint import pprint\n",
    "from sklearn.feature_extraction.text import CountVectorizer\n",
    "from sklearn.feature_extraction.text import TfidfVectorizer\n",
    "from sklearn.model_selection import train_test_split\n",
    "from sklearn.tree import DecisionTreeClassifier\n",
    "from sklearn.metrics import classification_report, accuracy_score,confusion_matrix, plot_confusion_matrix\n",
    "from sklearn.linear_model import LogisticRegression\n",
    "from sklearn.ensemble import RandomForestClassifier, GradientBoostingClassifier\n",
    "from sklearn.naive_bayes import MultinomialNB"
   ]
  },
  {
   "cell_type": "code",
   "execution_count": 2,
   "id": "8940fbee",
   "metadata": {},
   "outputs": [],
   "source": [
    "ADDITIONAL_STOPWORDS = ['r', 'u', '2', 'ltgt']\n",
    "def clean2(text):\n",
    "    'A simple function to cleanup text data'\n",
    "    wnl = nltk.stem.WordNetLemmatizer()\n",
    "    stopwords = nltk.corpus.stopwords.words('english') + ADDITIONAL_STOPWORDS\n",
    "    text = (unicodedata.normalize('NFKD', text)\n",
    "             .encode('ascii', 'ignore')\n",
    "             .decode('utf-8', 'ignore')\n",
    "             .lower())\n",
    "    words = re.sub(r'[^\\w\\s]', '', text).split()\n",
    "    return [wnl.lemmatize(word) for word in words if word not in stopwords]"
   ]
  },
  {
   "cell_type": "code",
   "execution_count": 3,
   "id": "1c0116ce",
   "metadata": {},
   "outputs": [],
   "source": [
    "df = pd.read_csv('ham.csv',index_col='id')"
   ]
  },
  {
   "cell_type": "code",
   "execution_count": 4,
   "id": "1eaeceba",
   "metadata": {},
   "outputs": [
    {
     "data": {
      "text/html": [
       "<div>\n",
       "<style scoped>\n",
       "    .dataframe tbody tr th:only-of-type {\n",
       "        vertical-align: middle;\n",
       "    }\n",
       "\n",
       "    .dataframe tbody tr th {\n",
       "        vertical-align: top;\n",
       "    }\n",
       "\n",
       "    .dataframe thead th {\n",
       "        text-align: right;\n",
       "    }\n",
       "</style>\n",
       "<table border=\"1\" class=\"dataframe\">\n",
       "  <thead>\n",
       "    <tr style=\"text-align: right;\">\n",
       "      <th></th>\n",
       "      <th>Unnamed: 0</th>\n",
       "      <th>label</th>\n",
       "      <th>text</th>\n",
       "    </tr>\n",
       "    <tr>\n",
       "      <th>id</th>\n",
       "      <th></th>\n",
       "      <th></th>\n",
       "      <th></th>\n",
       "    </tr>\n",
       "  </thead>\n",
       "  <tbody>\n",
       "    <tr>\n",
       "      <th>0</th>\n",
       "      <td>0</td>\n",
       "      <td>ham</td>\n",
       "      <td>Go until jurong point, crazy.. Available only ...</td>\n",
       "    </tr>\n",
       "    <tr>\n",
       "      <th>1</th>\n",
       "      <td>1</td>\n",
       "      <td>ham</td>\n",
       "      <td>Ok lar... Joking wif u oni...</td>\n",
       "    </tr>\n",
       "    <tr>\n",
       "      <th>2</th>\n",
       "      <td>2</td>\n",
       "      <td>spam</td>\n",
       "      <td>Free entry in 2 a wkly comp to win FA Cup fina...</td>\n",
       "    </tr>\n",
       "    <tr>\n",
       "      <th>3</th>\n",
       "      <td>3</td>\n",
       "      <td>ham</td>\n",
       "      <td>U dun say so early hor... U c already then say...</td>\n",
       "    </tr>\n",
       "    <tr>\n",
       "      <th>4</th>\n",
       "      <td>4</td>\n",
       "      <td>ham</td>\n",
       "      <td>Nah I don't think he goes to usf, he lives aro...</td>\n",
       "    </tr>\n",
       "  </tbody>\n",
       "</table>\n",
       "</div>"
      ],
      "text/plain": [
       "    Unnamed: 0 label                                               text\n",
       "id                                                                     \n",
       "0            0   ham  Go until jurong point, crazy.. Available only ...\n",
       "1            1   ham                      Ok lar... Joking wif u oni...\n",
       "2            2  spam  Free entry in 2 a wkly comp to win FA Cup fina...\n",
       "3            3   ham  U dun say so early hor... U c already then say...\n",
       "4            4   ham  Nah I don't think he goes to usf, he lives aro..."
      ]
     },
     "execution_count": 4,
     "metadata": {},
     "output_type": "execute_result"
    }
   ],
   "source": [
    "df.head()"
   ]
  },
  {
   "cell_type": "code",
   "execution_count": 5,
   "id": "c0e21e0c",
   "metadata": {},
   "outputs": [],
   "source": [
    "df = df.drop(columns=['Unnamed: 0'])"
   ]
  },
  {
   "cell_type": "code",
   "execution_count": 6,
   "id": "e0d89fb3",
   "metadata": {},
   "outputs": [
    {
     "data": {
      "text/html": [
       "<div>\n",
       "<style scoped>\n",
       "    .dataframe tbody tr th:only-of-type {\n",
       "        vertical-align: middle;\n",
       "    }\n",
       "\n",
       "    .dataframe tbody tr th {\n",
       "        vertical-align: top;\n",
       "    }\n",
       "\n",
       "    .dataframe thead th {\n",
       "        text-align: right;\n",
       "    }\n",
       "</style>\n",
       "<table border=\"1\" class=\"dataframe\">\n",
       "  <thead>\n",
       "    <tr style=\"text-align: right;\">\n",
       "      <th></th>\n",
       "      <th>label</th>\n",
       "      <th>text</th>\n",
       "    </tr>\n",
       "    <tr>\n",
       "      <th>id</th>\n",
       "      <th></th>\n",
       "      <th></th>\n",
       "    </tr>\n",
       "  </thead>\n",
       "  <tbody>\n",
       "    <tr>\n",
       "      <th>0</th>\n",
       "      <td>ham</td>\n",
       "      <td>Go until jurong point, crazy.. Available only ...</td>\n",
       "    </tr>\n",
       "    <tr>\n",
       "      <th>1</th>\n",
       "      <td>ham</td>\n",
       "      <td>Ok lar... Joking wif u oni...</td>\n",
       "    </tr>\n",
       "    <tr>\n",
       "      <th>2</th>\n",
       "      <td>spam</td>\n",
       "      <td>Free entry in 2 a wkly comp to win FA Cup fina...</td>\n",
       "    </tr>\n",
       "    <tr>\n",
       "      <th>3</th>\n",
       "      <td>ham</td>\n",
       "      <td>U dun say so early hor... U c already then say...</td>\n",
       "    </tr>\n",
       "    <tr>\n",
       "      <th>4</th>\n",
       "      <td>ham</td>\n",
       "      <td>Nah I don't think he goes to usf, he lives aro...</td>\n",
       "    </tr>\n",
       "  </tbody>\n",
       "</table>\n",
       "</div>"
      ],
      "text/plain": [
       "   label                                               text\n",
       "id                                                         \n",
       "0    ham  Go until jurong point, crazy.. Available only ...\n",
       "1    ham                      Ok lar... Joking wif u oni...\n",
       "2   spam  Free entry in 2 a wkly comp to win FA Cup fina...\n",
       "3    ham  U dun say so early hor... U c already then say...\n",
       "4    ham  Nah I don't think he goes to usf, he lives aro..."
      ]
     },
     "execution_count": 6,
     "metadata": {},
     "output_type": "execute_result"
    }
   ],
   "source": [
    "df.head()"
   ]
  },
  {
   "cell_type": "code",
   "execution_count": null,
   "id": "f7d91b83",
   "metadata": {},
   "outputs": [],
   "source": []
  },
  {
   "cell_type": "code",
   "execution_count": 7,
   "id": "133144d5",
   "metadata": {},
   "outputs": [],
   "source": [
    "def clean(text: str) -> list:\n",
    "    'A simple function to cleanup text data'\n",
    "    wnl = nltk.stem.WordNetLemmatizer()\n",
    "    stopwords = set(nltk.corpus.stopwords.words('english'))\n",
    "    text = (text.encode('ascii', 'ignore')\n",
    "             .decode('utf-8', 'ignore')\n",
    "             .lower())\n",
    "    words = re.sub(r'[^\\w\\s]', '', text).split() # tokenization\n",
    "    return [wnl.lemmatize(word) for word in words if word not in stopwords]"
   ]
  },
  {
   "cell_type": "code",
   "execution_count": 8,
   "id": "84f1a1ae",
   "metadata": {},
   "outputs": [],
   "source": [
    "df['clean_text'] = df.text.apply(clean).apply(' '.join)"
   ]
  },
  {
   "cell_type": "code",
   "execution_count": 9,
   "id": "6d316b5b",
   "metadata": {},
   "outputs": [
    {
     "data": {
      "text/html": [
       "<div>\n",
       "<style scoped>\n",
       "    .dataframe tbody tr th:only-of-type {\n",
       "        vertical-align: middle;\n",
       "    }\n",
       "\n",
       "    .dataframe tbody tr th {\n",
       "        vertical-align: top;\n",
       "    }\n",
       "\n",
       "    .dataframe thead th {\n",
       "        text-align: right;\n",
       "    }\n",
       "</style>\n",
       "<table border=\"1\" class=\"dataframe\">\n",
       "  <thead>\n",
       "    <tr style=\"text-align: right;\">\n",
       "      <th></th>\n",
       "      <th>label</th>\n",
       "      <th>text</th>\n",
       "      <th>clean_text</th>\n",
       "    </tr>\n",
       "    <tr>\n",
       "      <th>id</th>\n",
       "      <th></th>\n",
       "      <th></th>\n",
       "      <th></th>\n",
       "    </tr>\n",
       "  </thead>\n",
       "  <tbody>\n",
       "    <tr>\n",
       "      <th>0</th>\n",
       "      <td>ham</td>\n",
       "      <td>Go until jurong point, crazy.. Available only ...</td>\n",
       "      <td>go jurong point crazy available bugis n great ...</td>\n",
       "    </tr>\n",
       "    <tr>\n",
       "      <th>1</th>\n",
       "      <td>ham</td>\n",
       "      <td>Ok lar... Joking wif u oni...</td>\n",
       "      <td>ok lar joking wif u oni</td>\n",
       "    </tr>\n",
       "    <tr>\n",
       "      <th>2</th>\n",
       "      <td>spam</td>\n",
       "      <td>Free entry in 2 a wkly comp to win FA Cup fina...</td>\n",
       "      <td>free entry 2 wkly comp win fa cup final tkts 2...</td>\n",
       "    </tr>\n",
       "    <tr>\n",
       "      <th>3</th>\n",
       "      <td>ham</td>\n",
       "      <td>U dun say so early hor... U c already then say...</td>\n",
       "      <td>u dun say early hor u c already say</td>\n",
       "    </tr>\n",
       "    <tr>\n",
       "      <th>4</th>\n",
       "      <td>ham</td>\n",
       "      <td>Nah I don't think he goes to usf, he lives aro...</td>\n",
       "      <td>nah dont think go usf life around though</td>\n",
       "    </tr>\n",
       "  </tbody>\n",
       "</table>\n",
       "</div>"
      ],
      "text/plain": [
       "   label                                               text  \\\n",
       "id                                                            \n",
       "0    ham  Go until jurong point, crazy.. Available only ...   \n",
       "1    ham                      Ok lar... Joking wif u oni...   \n",
       "2   spam  Free entry in 2 a wkly comp to win FA Cup fina...   \n",
       "3    ham  U dun say so early hor... U c already then say...   \n",
       "4    ham  Nah I don't think he goes to usf, he lives aro...   \n",
       "\n",
       "                                           clean_text  \n",
       "id                                                     \n",
       "0   go jurong point crazy available bugis n great ...  \n",
       "1                             ok lar joking wif u oni  \n",
       "2   free entry 2 wkly comp win fa cup final tkts 2...  \n",
       "3                 u dun say early hor u c already say  \n",
       "4            nah dont think go usf life around though  "
      ]
     },
     "execution_count": 9,
     "metadata": {},
     "output_type": "execute_result"
    }
   ],
   "source": [
    "df.head()"
   ]
  },
  {
   "cell_type": "code",
   "execution_count": 10,
   "id": "d0a019f5",
   "metadata": {},
   "outputs": [],
   "source": [
    "train_validate, test = train_test_split(df,\n",
    "                                        random_state=1349,\n",
    "                                        train_size=0.8,\n",
    "                                       stratify=df.label)\n",
    "train, validate = train_test_split(train_validate,\n",
    "                                   random_state=1349,\n",
    "                                   train_size=0.7,\n",
    "                                  stratify=train_validate.label)"
   ]
  },
  {
   "cell_type": "code",
   "execution_count": 11,
   "id": "83cf94e3",
   "metadata": {},
   "outputs": [
    {
     "data": {
      "text/plain": [
       "((3119, 3), (1338, 3), (1115, 3))"
      ]
     },
     "execution_count": 11,
     "metadata": {},
     "output_type": "execute_result"
    }
   ],
   "source": [
    "train.shape,validate.shape,test.shape"
   ]
  },
  {
   "cell_type": "code",
   "execution_count": 12,
   "id": "3d277056",
   "metadata": {},
   "outputs": [],
   "source": [
    "X_train = train.clean_text\n",
    "y_train = train.label\n",
    "X_validate = validate.clean_text\n",
    "y_validate = validate.label\n",
    "X_test = test.clean_text\n",
    "y_test = test.label"
   ]
  },
  {
   "cell_type": "code",
   "execution_count": 13,
   "id": "c184dbb5",
   "metadata": {},
   "outputs": [
    {
     "data": {
      "text/plain": [
       "id\n",
       "4803    er hello thing didnt quite go plan limping slo...\n",
       "4345                       still around could use half8th\n",
       "4218                               anything lor go go lor\n",
       "1876                              watching tv got new job\n",
       "4052                                        slept timeyou\n",
       "Name: clean_text, dtype: object"
      ]
     },
     "execution_count": 13,
     "metadata": {},
     "output_type": "execute_result"
    }
   ],
   "source": [
    "X_train.head()"
   ]
  },
  {
   "cell_type": "code",
   "execution_count": 14,
   "id": "e475d00f",
   "metadata": {
    "scrolled": true
   },
   "outputs": [
    {
     "data": {
      "text/plain": [
       "id\n",
       "4803    ham\n",
       "4345    ham\n",
       "4218    ham\n",
       "1876    ham\n",
       "4052    ham\n",
       "Name: label, dtype: object"
      ]
     },
     "execution_count": 14,
     "metadata": {},
     "output_type": "execute_result"
    }
   ],
   "source": [
    "y_train.head()"
   ]
  },
  {
   "cell_type": "code",
   "execution_count": null,
   "id": "9dbcd942",
   "metadata": {},
   "outputs": [],
   "source": []
  },
  {
   "cell_type": "markdown",
   "id": "25de6a9f",
   "metadata": {},
   "source": [
    "## Model DTC"
   ]
  },
  {
   "cell_type": "code",
   "execution_count": 15,
   "id": "c1eed262",
   "metadata": {},
   "outputs": [],
   "source": [
    "tfidf = TfidfVectorizer()\n",
    "X_bow = tfidf.fit_transform(X_train)"
   ]
  },
  {
   "cell_type": "code",
   "execution_count": 16,
   "id": "83dc8f0c",
   "metadata": {},
   "outputs": [
    {
     "data": {
      "text/plain": [
       "0.9304264187239499"
      ]
     },
     "execution_count": 16,
     "metadata": {},
     "output_type": "execute_result"
    }
   ],
   "source": [
    "tree = DecisionTreeClassifier(max_depth=3)\n",
    "tree.fit(X_bow, y_train)\n",
    "tree.score(X_bow, y_train)"
   ]
  },
  {
   "cell_type": "code",
   "execution_count": 18,
   "id": "0216296c",
   "metadata": {},
   "outputs": [
    {
     "data": {
      "text/html": [
       "<div>\n",
       "<style scoped>\n",
       "    .dataframe tbody tr th:only-of-type {\n",
       "        vertical-align: middle;\n",
       "    }\n",
       "\n",
       "    .dataframe tbody tr th {\n",
       "        vertical-align: top;\n",
       "    }\n",
       "\n",
       "    .dataframe thead th {\n",
       "        text-align: right;\n",
       "    }\n",
       "</style>\n",
       "<table border=\"1\" class=\"dataframe\">\n",
       "  <thead>\n",
       "    <tr style=\"text-align: right;\">\n",
       "      <th>label</th>\n",
       "      <th>ham</th>\n",
       "      <th>spam</th>\n",
       "    </tr>\n",
       "    <tr>\n",
       "      <th>row_0</th>\n",
       "      <th></th>\n",
       "      <th></th>\n",
       "    </tr>\n",
       "  </thead>\n",
       "  <tbody>\n",
       "    <tr>\n",
       "      <th>ham</th>\n",
       "      <td>2649</td>\n",
       "      <td>165</td>\n",
       "    </tr>\n",
       "    <tr>\n",
       "      <th>spam</th>\n",
       "      <td>52</td>\n",
       "      <td>253</td>\n",
       "    </tr>\n",
       "  </tbody>\n",
       "</table>\n",
       "</div>"
      ],
      "text/plain": [
       "label   ham  spam\n",
       "row_0            \n",
       "ham    2649   165\n",
       "spam     52   253"
      ]
     },
     "execution_count": 18,
     "metadata": {},
     "output_type": "execute_result"
    }
   ],
   "source": [
    "tree_preds = tree.predict(X_bow)\n",
    "pd.crosstab(tree_preds,y_train)"
   ]
  },
  {
   "cell_type": "code",
   "execution_count": 20,
   "id": "3410025e",
   "metadata": {},
   "outputs": [
    {
     "data": {
      "text/plain": [
       "0.922272047832586"
      ]
     },
     "execution_count": 20,
     "metadata": {},
     "output_type": "execute_result"
    }
   ],
   "source": [
    "# as with any other sklearn transformation, \n",
    "# transform only on our validate and/or test, \n",
    "# only fit on train\n",
    "X_validate_bow = tfidf.transform(X_validate)\n",
    "tree.score(X_validate_bow, y_validate)"
   ]
  },
  {
   "cell_type": "code",
   "execution_count": 23,
   "id": "6130dad6",
   "metadata": {},
   "outputs": [
    {
     "name": "stdout",
     "output_type": "stream",
     "text": [
      "Accuracy-Train 0.9304\n",
      "Accuracy-Validate 0.9223\n",
      "              precision    recall  f1-score   support\n",
      "\n",
      "         ham       0.94      0.98      0.96      2701\n",
      "        spam       0.83      0.61      0.70       418\n",
      "\n",
      "    accuracy                           0.93      3119\n",
      "   macro avg       0.89      0.79      0.83      3119\n",
      "weighted avg       0.93      0.93      0.93      3119\n",
      "\n",
      "              precision    recall  f1-score   support\n",
      "\n",
      "         ham       0.93      0.98      0.96      1158\n",
      "        spam       0.83      0.53      0.65       180\n",
      "\n",
      "    accuracy                           0.92      1338\n",
      "   macro avg       0.88      0.76      0.80      1338\n",
      "weighted avg       0.92      0.92      0.91      1338\n",
      "\n"
     ]
    }
   ],
   "source": [
    "print(f'Accuracy-Train {round(tree.score(X_bow,y_train),4)}')\n",
    "print(f'Accuracy-Validate {round(tree.score(X_validate_bow,y_validate),4)}')\n",
    "print(classification_report(y_train,tree_preds))\n",
    "print(classification_report(y_validate,tree.predict(X_validate_bow)))"
   ]
  },
  {
   "cell_type": "markdown",
   "id": "1f358343",
   "metadata": {},
   "source": [
    "## Mutilnomial NB"
   ]
  },
  {
   "cell_type": "code",
   "execution_count": 26,
   "id": "c6c5329f",
   "metadata": {},
   "outputs": [
    {
     "data": {
      "text/plain": [
       "0.9721064443731965"
      ]
     },
     "execution_count": 26,
     "metadata": {},
     "output_type": "execute_result"
    }
   ],
   "source": [
    "mnb = MultinomialNB()\n",
    "mnb.fit(X_bow, y_train)\n",
    "mnb.score(X_bow, y_train)"
   ]
  },
  {
   "cell_type": "code",
   "execution_count": 27,
   "id": "8954c4f8",
   "metadata": {},
   "outputs": [
    {
     "data": {
      "text/html": [
       "<div>\n",
       "<style scoped>\n",
       "    .dataframe tbody tr th:only-of-type {\n",
       "        vertical-align: middle;\n",
       "    }\n",
       "\n",
       "    .dataframe tbody tr th {\n",
       "        vertical-align: top;\n",
       "    }\n",
       "\n",
       "    .dataframe thead th {\n",
       "        text-align: right;\n",
       "    }\n",
       "</style>\n",
       "<table border=\"1\" class=\"dataframe\">\n",
       "  <thead>\n",
       "    <tr style=\"text-align: right;\">\n",
       "      <th>label</th>\n",
       "      <th>ham</th>\n",
       "      <th>spam</th>\n",
       "    </tr>\n",
       "    <tr>\n",
       "      <th>row_0</th>\n",
       "      <th></th>\n",
       "      <th></th>\n",
       "    </tr>\n",
       "  </thead>\n",
       "  <tbody>\n",
       "    <tr>\n",
       "      <th>ham</th>\n",
       "      <td>2701</td>\n",
       "      <td>87</td>\n",
       "    </tr>\n",
       "    <tr>\n",
       "      <th>spam</th>\n",
       "      <td>0</td>\n",
       "      <td>331</td>\n",
       "    </tr>\n",
       "  </tbody>\n",
       "</table>\n",
       "</div>"
      ],
      "text/plain": [
       "label   ham  spam\n",
       "row_0            \n",
       "ham    2701    87\n",
       "spam      0   331"
      ]
     },
     "execution_count": 27,
     "metadata": {},
     "output_type": "execute_result"
    }
   ],
   "source": [
    "mnb_preds = mnb.predict(X_bow)\n",
    "pd.crosstab(mnb_preds,y_train)"
   ]
  },
  {
   "cell_type": "code",
   "execution_count": 28,
   "id": "5b51d8ba",
   "metadata": {},
   "outputs": [
    {
     "data": {
      "text/plain": [
       "0.9551569506726457"
      ]
     },
     "execution_count": 28,
     "metadata": {},
     "output_type": "execute_result"
    }
   ],
   "source": [
    "X_validate_bow = tfidf.transform(X_validate)\n",
    "mnb.score(X_validate_bow, y_validate)"
   ]
  },
  {
   "cell_type": "code",
   "execution_count": 29,
   "id": "1714a6a3",
   "metadata": {},
   "outputs": [
    {
     "name": "stdout",
     "output_type": "stream",
     "text": [
      "Accuracy-Train 0.9721\n",
      "Accuracy-Validate 0.9552\n",
      "              precision    recall  f1-score   support\n",
      "\n",
      "         ham       0.97      1.00      0.98      2701\n",
      "        spam       1.00      0.79      0.88       418\n",
      "\n",
      "    accuracy                           0.97      3119\n",
      "   macro avg       0.98      0.90      0.93      3119\n",
      "weighted avg       0.97      0.97      0.97      3119\n",
      "\n",
      "              precision    recall  f1-score   support\n",
      "\n",
      "         ham       0.95      1.00      0.97      1158\n",
      "        spam       1.00      0.67      0.80       180\n",
      "\n",
      "    accuracy                           0.96      1338\n",
      "   macro avg       0.98      0.83      0.89      1338\n",
      "weighted avg       0.96      0.96      0.95      1338\n",
      "\n"
     ]
    }
   ],
   "source": [
    "print(f'Accuracy-Train {round(mnb.score(X_bow,y_train),4)}')\n",
    "print(f'Accuracy-Validate {round(mnb.score(X_validate_bow,y_validate),4)}')\n",
    "print(classification_report(y_train,mnb_preds))\n",
    "print(classification_report(y_validate,mnb.predict(X_validate_bow)))"
   ]
  },
  {
   "cell_type": "markdown",
   "id": "88ceb205",
   "metadata": {},
   "source": [
    "## RFC maxDepth=6 "
   ]
  },
  {
   "cell_type": "code",
   "execution_count": 45,
   "id": "f987589c",
   "metadata": {},
   "outputs": [
    {
     "data": {
      "text/plain": [
       "0.8727156139788393"
      ]
     },
     "execution_count": 45,
     "metadata": {},
     "output_type": "execute_result"
    }
   ],
   "source": [
    "rf6 = RandomForestClassifier(n_estimators=201,max_depth=6,min_samples_leaf=1)\n",
    "rf6.fit(X_bow, y_train)\n",
    "rf6.score(X_bow, y_train)"
   ]
  },
  {
   "cell_type": "code",
   "execution_count": 46,
   "id": "920a2fce",
   "metadata": {},
   "outputs": [
    {
     "data": {
      "text/html": [
       "<div>\n",
       "<style scoped>\n",
       "    .dataframe tbody tr th:only-of-type {\n",
       "        vertical-align: middle;\n",
       "    }\n",
       "\n",
       "    .dataframe tbody tr th {\n",
       "        vertical-align: top;\n",
       "    }\n",
       "\n",
       "    .dataframe thead th {\n",
       "        text-align: right;\n",
       "    }\n",
       "</style>\n",
       "<table border=\"1\" class=\"dataframe\">\n",
       "  <thead>\n",
       "    <tr style=\"text-align: right;\">\n",
       "      <th>label</th>\n",
       "      <th>ham</th>\n",
       "      <th>spam</th>\n",
       "    </tr>\n",
       "    <tr>\n",
       "      <th>row_0</th>\n",
       "      <th></th>\n",
       "      <th></th>\n",
       "    </tr>\n",
       "  </thead>\n",
       "  <tbody>\n",
       "    <tr>\n",
       "      <th>ham</th>\n",
       "      <td>2701</td>\n",
       "      <td>397</td>\n",
       "    </tr>\n",
       "    <tr>\n",
       "      <th>spam</th>\n",
       "      <td>0</td>\n",
       "      <td>21</td>\n",
       "    </tr>\n",
       "  </tbody>\n",
       "</table>\n",
       "</div>"
      ],
      "text/plain": [
       "label   ham  spam\n",
       "row_0            \n",
       "ham    2701   397\n",
       "spam      0    21"
      ]
     },
     "execution_count": 46,
     "metadata": {},
     "output_type": "execute_result"
    }
   ],
   "source": [
    "rf6_preds = rf6.predict(X_bow)\n",
    "pd.crosstab(rf6_preds,y_train)"
   ]
  },
  {
   "cell_type": "code",
   "execution_count": 47,
   "id": "408057a3",
   "metadata": {},
   "outputs": [
    {
     "data": {
      "text/plain": [
       "0.8736920777279522"
      ]
     },
     "execution_count": 47,
     "metadata": {},
     "output_type": "execute_result"
    }
   ],
   "source": [
    "X_validate_bow = tfidf.transform(X_validate)\n",
    "rf6.score(X_validate_bow, y_validate)"
   ]
  },
  {
   "cell_type": "code",
   "execution_count": 48,
   "id": "b5ec5b89",
   "metadata": {},
   "outputs": [
    {
     "name": "stdout",
     "output_type": "stream",
     "text": [
      "Accuracy-Train 0.8727\n",
      "Accuracy-Validate 0.8737\n",
      "              precision    recall  f1-score   support\n",
      "\n",
      "         ham       0.87      1.00      0.93      2701\n",
      "        spam       1.00      0.05      0.10       418\n",
      "\n",
      "    accuracy                           0.87      3119\n",
      "   macro avg       0.94      0.53      0.51      3119\n",
      "weighted avg       0.89      0.87      0.82      3119\n",
      "\n",
      "              precision    recall  f1-score   support\n",
      "\n",
      "         ham       0.87      1.00      0.93      1158\n",
      "        spam       1.00      0.06      0.12       180\n",
      "\n",
      "    accuracy                           0.87      1338\n",
      "   macro avg       0.94      0.53      0.52      1338\n",
      "weighted avg       0.89      0.87      0.82      1338\n",
      "\n"
     ]
    }
   ],
   "source": [
    "print(f'Accuracy-Train {round(rf6.score(X_bow,y_train),4)}')\n",
    "print(f'Accuracy-Validate {round(rf6.score(X_validate_bow,y_validate),4)}')\n",
    "print(classification_report(y_train,rf6_preds))\n",
    "print(classification_report(y_validate,rf6.predict(X_validate_bow)))"
   ]
  },
  {
   "cell_type": "code",
   "execution_count": null,
   "id": "631c0604",
   "metadata": {},
   "outputs": [],
   "source": []
  },
  {
   "cell_type": "markdown",
   "id": "fed900d9",
   "metadata": {},
   "source": [
    "## Now use Bag of NGRAMS"
   ]
  },
  {
   "cell_type": "markdown",
   "id": "bfb4d403",
   "metadata": {},
   "source": [
    "## DTC"
   ]
  },
  {
   "cell_type": "code",
   "execution_count": 49,
   "id": "82fd8fc2",
   "metadata": {},
   "outputs": [],
   "source": [
    "tfidf2 = TfidfVectorizer(ngram_range=(2,2))\n",
    "X_bow = tfidf2.fit_transform(X_train)"
   ]
  },
  {
   "cell_type": "code",
   "execution_count": 50,
   "id": "7ae52701",
   "metadata": {},
   "outputs": [
    {
     "data": {
      "text/plain": [
       "0.8820134658544405"
      ]
     },
     "execution_count": 50,
     "metadata": {},
     "output_type": "execute_result"
    }
   ],
   "source": [
    "tree = DecisionTreeClassifier(max_depth=3)\n",
    "tree.fit(X_bow, y_train)\n",
    "tree.score(X_bow, y_train)"
   ]
  },
  {
   "cell_type": "code",
   "execution_count": 51,
   "id": "100ed982",
   "metadata": {},
   "outputs": [
    {
     "data": {
      "text/html": [
       "<div>\n",
       "<style scoped>\n",
       "    .dataframe tbody tr th:only-of-type {\n",
       "        vertical-align: middle;\n",
       "    }\n",
       "\n",
       "    .dataframe tbody tr th {\n",
       "        vertical-align: top;\n",
       "    }\n",
       "\n",
       "    .dataframe thead th {\n",
       "        text-align: right;\n",
       "    }\n",
       "</style>\n",
       "<table border=\"1\" class=\"dataframe\">\n",
       "  <thead>\n",
       "    <tr style=\"text-align: right;\">\n",
       "      <th>label</th>\n",
       "      <th>ham</th>\n",
       "      <th>spam</th>\n",
       "    </tr>\n",
       "    <tr>\n",
       "      <th>row_0</th>\n",
       "      <th></th>\n",
       "      <th></th>\n",
       "    </tr>\n",
       "  </thead>\n",
       "  <tbody>\n",
       "    <tr>\n",
       "      <th>ham</th>\n",
       "      <td>2701</td>\n",
       "      <td>368</td>\n",
       "    </tr>\n",
       "    <tr>\n",
       "      <th>spam</th>\n",
       "      <td>0</td>\n",
       "      <td>50</td>\n",
       "    </tr>\n",
       "  </tbody>\n",
       "</table>\n",
       "</div>"
      ],
      "text/plain": [
       "label   ham  spam\n",
       "row_0            \n",
       "ham    2701   368\n",
       "spam      0    50"
      ]
     },
     "execution_count": 51,
     "metadata": {},
     "output_type": "execute_result"
    }
   ],
   "source": [
    "tree_preds = tree.predict(X_bow)\n",
    "pd.crosstab(tree_preds,y_train)"
   ]
  },
  {
   "cell_type": "code",
   "execution_count": 53,
   "id": "292d774d",
   "metadata": {},
   "outputs": [
    {
     "data": {
      "text/plain": [
       "0.8796711509715994"
      ]
     },
     "execution_count": 53,
     "metadata": {},
     "output_type": "execute_result"
    }
   ],
   "source": [
    "# as with any other sklearn transformation, \n",
    "# transform only on our validate and/or test, \n",
    "# only fit on train\n",
    "X_validate_bow = tfidf2.transform(X_validate)\n",
    "tree.score(X_validate_bow, y_validate)"
   ]
  },
  {
   "cell_type": "code",
   "execution_count": 54,
   "id": "7da9639e",
   "metadata": {},
   "outputs": [
    {
     "name": "stdout",
     "output_type": "stream",
     "text": [
      "Accuracy-Train 0.882\n",
      "Accuracy-Validate 0.8797\n",
      "              precision    recall  f1-score   support\n",
      "\n",
      "         ham       0.88      1.00      0.94      2701\n",
      "        spam       1.00      0.12      0.21       418\n",
      "\n",
      "    accuracy                           0.88      3119\n",
      "   macro avg       0.94      0.56      0.57      3119\n",
      "weighted avg       0.90      0.88      0.84      3119\n",
      "\n",
      "              precision    recall  f1-score   support\n",
      "\n",
      "         ham       0.88      1.00      0.93      1158\n",
      "        spam       0.91      0.12      0.21       180\n",
      "\n",
      "    accuracy                           0.88      1338\n",
      "   macro avg       0.90      0.56      0.57      1338\n",
      "weighted avg       0.88      0.88      0.84      1338\n",
      "\n"
     ]
    }
   ],
   "source": [
    "print(f'Accuracy-Train {round(tree.score(X_bow,y_train),4)}')\n",
    "print(f'Accuracy-Validate {round(tree.score(X_validate_bow,y_validate),4)}')\n",
    "print(classification_report(y_train,tree_preds))\n",
    "print(classification_report(y_validate,tree.predict(X_validate_bow)))"
   ]
  },
  {
   "cell_type": "code",
   "execution_count": null,
   "id": "be730392",
   "metadata": {},
   "outputs": [],
   "source": []
  },
  {
   "cell_type": "markdown",
   "id": "6209db38",
   "metadata": {},
   "source": [
    "## Mutilnomial NB"
   ]
  },
  {
   "cell_type": "code",
   "execution_count": 55,
   "id": "7f3bc851",
   "metadata": {},
   "outputs": [
    {
     "data": {
      "text/plain": [
       "0.9628085924975954"
      ]
     },
     "execution_count": 55,
     "metadata": {},
     "output_type": "execute_result"
    }
   ],
   "source": [
    "mnb = MultinomialNB()\n",
    "mnb.fit(X_bow, y_train)\n",
    "mnb.score(X_bow, y_train)"
   ]
  },
  {
   "cell_type": "code",
   "execution_count": 56,
   "id": "bb99a64f",
   "metadata": {},
   "outputs": [
    {
     "data": {
      "text/html": [
       "<div>\n",
       "<style scoped>\n",
       "    .dataframe tbody tr th:only-of-type {\n",
       "        vertical-align: middle;\n",
       "    }\n",
       "\n",
       "    .dataframe tbody tr th {\n",
       "        vertical-align: top;\n",
       "    }\n",
       "\n",
       "    .dataframe thead th {\n",
       "        text-align: right;\n",
       "    }\n",
       "</style>\n",
       "<table border=\"1\" class=\"dataframe\">\n",
       "  <thead>\n",
       "    <tr style=\"text-align: right;\">\n",
       "      <th>label</th>\n",
       "      <th>ham</th>\n",
       "      <th>spam</th>\n",
       "    </tr>\n",
       "    <tr>\n",
       "      <th>row_0</th>\n",
       "      <th></th>\n",
       "      <th></th>\n",
       "    </tr>\n",
       "  </thead>\n",
       "  <tbody>\n",
       "    <tr>\n",
       "      <th>ham</th>\n",
       "      <td>2701</td>\n",
       "      <td>116</td>\n",
       "    </tr>\n",
       "    <tr>\n",
       "      <th>spam</th>\n",
       "      <td>0</td>\n",
       "      <td>302</td>\n",
       "    </tr>\n",
       "  </tbody>\n",
       "</table>\n",
       "</div>"
      ],
      "text/plain": [
       "label   ham  spam\n",
       "row_0            \n",
       "ham    2701   116\n",
       "spam      0   302"
      ]
     },
     "execution_count": 56,
     "metadata": {},
     "output_type": "execute_result"
    }
   ],
   "source": [
    "mnb_preds = mnb.predict(X_bow)\n",
    "pd.crosstab(mnb_preds,y_train)"
   ]
  },
  {
   "cell_type": "code",
   "execution_count": 57,
   "id": "6c99c1bc",
   "metadata": {},
   "outputs": [
    {
     "data": {
      "text/plain": [
       "0.9252615844544095"
      ]
     },
     "execution_count": 57,
     "metadata": {},
     "output_type": "execute_result"
    }
   ],
   "source": [
    "X_validate_bow = tfidf2.transform(X_validate)\n",
    "mnb.score(X_validate_bow, y_validate)"
   ]
  },
  {
   "cell_type": "code",
   "execution_count": 58,
   "id": "08686218",
   "metadata": {},
   "outputs": [
    {
     "name": "stdout",
     "output_type": "stream",
     "text": [
      "Accuracy-Train 0.9628\n",
      "Accuracy-Validate 0.9253\n",
      "              precision    recall  f1-score   support\n",
      "\n",
      "         ham       0.96      1.00      0.98      2701\n",
      "        spam       1.00      0.72      0.84       418\n",
      "\n",
      "    accuracy                           0.96      3119\n",
      "   macro avg       0.98      0.86      0.91      3119\n",
      "weighted avg       0.96      0.96      0.96      3119\n",
      "\n",
      "              precision    recall  f1-score   support\n",
      "\n",
      "         ham       0.92      1.00      0.96      1158\n",
      "        spam       1.00      0.44      0.62       180\n",
      "\n",
      "    accuracy                           0.93      1338\n",
      "   macro avg       0.96      0.72      0.79      1338\n",
      "weighted avg       0.93      0.93      0.91      1338\n",
      "\n"
     ]
    }
   ],
   "source": [
    "print(f'Accuracy-Train {round(mnb.score(X_bow,y_train),4)}')\n",
    "print(f'Accuracy-Validate {round(mnb.score(X_validate_bow,y_validate),4)}')\n",
    "print(classification_report(y_train,mnb_preds))\n",
    "print(classification_report(y_validate,mnb.predict(X_validate_bow)))"
   ]
  },
  {
   "cell_type": "code",
   "execution_count": null,
   "id": "722f1ac1",
   "metadata": {},
   "outputs": [],
   "source": []
  },
  {
   "cell_type": "markdown",
   "id": "0648de7d",
   "metadata": {},
   "source": [
    "## Logistic Regression"
   ]
  },
  {
   "cell_type": "code",
   "execution_count": 60,
   "id": "b27c557e",
   "metadata": {},
   "outputs": [
    {
     "data": {
      "text/plain": [
       "0.8794485411991023"
      ]
     },
     "execution_count": 60,
     "metadata": {},
     "output_type": "execute_result"
    }
   ],
   "source": [
    "logit = LogisticRegression()\n",
    "logit.fit(X_bow, y_train)\n",
    "logit.score(X_bow, y_train)"
   ]
  },
  {
   "cell_type": "code",
   "execution_count": 61,
   "id": "1dee33c1",
   "metadata": {},
   "outputs": [
    {
     "data": {
      "text/html": [
       "<div>\n",
       "<style scoped>\n",
       "    .dataframe tbody tr th:only-of-type {\n",
       "        vertical-align: middle;\n",
       "    }\n",
       "\n",
       "    .dataframe tbody tr th {\n",
       "        vertical-align: top;\n",
       "    }\n",
       "\n",
       "    .dataframe thead th {\n",
       "        text-align: right;\n",
       "    }\n",
       "</style>\n",
       "<table border=\"1\" class=\"dataframe\">\n",
       "  <thead>\n",
       "    <tr style=\"text-align: right;\">\n",
       "      <th>label</th>\n",
       "      <th>ham</th>\n",
       "      <th>spam</th>\n",
       "    </tr>\n",
       "    <tr>\n",
       "      <th>row_0</th>\n",
       "      <th></th>\n",
       "      <th></th>\n",
       "    </tr>\n",
       "  </thead>\n",
       "  <tbody>\n",
       "    <tr>\n",
       "      <th>ham</th>\n",
       "      <td>2701</td>\n",
       "      <td>376</td>\n",
       "    </tr>\n",
       "    <tr>\n",
       "      <th>spam</th>\n",
       "      <td>0</td>\n",
       "      <td>42</td>\n",
       "    </tr>\n",
       "  </tbody>\n",
       "</table>\n",
       "</div>"
      ],
      "text/plain": [
       "label   ham  spam\n",
       "row_0            \n",
       "ham    2701   376\n",
       "spam      0    42"
      ]
     },
     "execution_count": 61,
     "metadata": {},
     "output_type": "execute_result"
    }
   ],
   "source": [
    "logit_preds = logit.predict(X_bow)\n",
    "pd.crosstab(logit_preds,y_train)"
   ]
  },
  {
   "cell_type": "code",
   "execution_count": 62,
   "id": "dfd374d5",
   "metadata": {},
   "outputs": [
    {
     "data": {
      "text/plain": [
       "0.8804185351270553"
      ]
     },
     "execution_count": 62,
     "metadata": {},
     "output_type": "execute_result"
    }
   ],
   "source": [
    "X_validate_bow = tfidf2.transform(X_validate)\n",
    "logit.score(X_validate_bow, y_validate)"
   ]
  },
  {
   "cell_type": "code",
   "execution_count": 63,
   "id": "b2b00469",
   "metadata": {},
   "outputs": [
    {
     "name": "stdout",
     "output_type": "stream",
     "text": [
      "Accuracy-Train 0.8794\n",
      "Accuracy-Validate 0.8804\n",
      "              precision    recall  f1-score   support\n",
      "\n",
      "         ham       0.88      1.00      0.93      2701\n",
      "        spam       1.00      0.10      0.18       418\n",
      "\n",
      "    accuracy                           0.88      3119\n",
      "   macro avg       0.94      0.55      0.56      3119\n",
      "weighted avg       0.89      0.88      0.83      3119\n",
      "\n",
      "              precision    recall  f1-score   support\n",
      "\n",
      "         ham       0.88      1.00      0.94      1158\n",
      "        spam       1.00      0.11      0.20       180\n",
      "\n",
      "    accuracy                           0.88      1338\n",
      "   macro avg       0.94      0.56      0.57      1338\n",
      "weighted avg       0.89      0.88      0.84      1338\n",
      "\n"
     ]
    }
   ],
   "source": [
    "print(f'Accuracy-Train {round(logit.score(X_bow,y_train),4)}')\n",
    "print(f'Accuracy-Validate {round(logit.score(X_validate_bow,y_validate),4)}')\n",
    "print(classification_report(y_train,logit_preds))\n",
    "print(classification_report(y_validate,logit.predict(X_validate_bow)))"
   ]
  },
  {
   "cell_type": "code",
   "execution_count": null,
   "id": "02d328d8",
   "metadata": {},
   "outputs": [],
   "source": []
  },
  {
   "cell_type": "code",
   "execution_count": null,
   "id": "22a8b5cb",
   "metadata": {},
   "outputs": [],
   "source": []
  },
  {
   "cell_type": "code",
   "execution_count": null,
   "id": "a166f884",
   "metadata": {},
   "outputs": [],
   "source": []
  }
 ],
 "metadata": {
  "kernelspec": {
   "display_name": "Python 3 (ipykernel)",
   "language": "python",
   "name": "python3"
  },
  "language_info": {
   "codemirror_mode": {
    "name": "ipython",
    "version": 3
   },
   "file_extension": ".py",
   "mimetype": "text/x-python",
   "name": "python",
   "nbconvert_exporter": "python",
   "pygments_lexer": "ipython3",
   "version": "3.9.13"
  }
 },
 "nbformat": 4,
 "nbformat_minor": 5
}
