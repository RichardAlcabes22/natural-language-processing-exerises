{
 "cells": [
  {
   "cell_type": "code",
   "execution_count": 1,
   "id": "784834ff",
   "metadata": {},
   "outputs": [],
   "source": [
    "#standard imports\n",
    "import pandas as pd\n",
    "import numpy as np\n",
    "import unicodedata\n",
    "import re\n",
    "import nltk\n",
    "from bs4 import BeautifulSoup\n",
    "import requests"
   ]
  },
  {
   "cell_type": "code",
   "execution_count": 2,
   "id": "c9cc8d9c",
   "metadata": {},
   "outputs": [],
   "source": [
    "original = \"Paul Erdős and George Pólya were influential Hungarian mathematicians who contributed \\\n",
    "a lot to the field. Erdős's name contains the Hungarian letter 'ő' ('o' with double acute accent), \\\n",
    "but is often incorrectly written as Erdos or Erdös either by mistake or out of typographical necessity\""
   ]
  },
  {
   "cell_type": "code",
   "execution_count": 3,
   "id": "9be24f90",
   "metadata": {},
   "outputs": [
    {
     "data": {
      "text/plain": [
       "\"Paul Erdős and George Pólya were influential Hungarian mathematicians who contributed a lot to the field. Erdős's name contains the Hungarian letter 'ő' ('o' with double acute accent), but is often incorrectly written as Erdos or Erdös either by mistake or out of typographical necessity\""
      ]
     },
     "execution_count": 3,
     "metadata": {},
     "output_type": "execute_result"
    }
   ],
   "source": [
    "original"
   ]
  },
  {
   "cell_type": "markdown",
   "id": "c63b8888",
   "metadata": {},
   "source": [
    "## 1 Function: basic_clean"
   ]
  },
  {
   "cell_type": "markdown",
   "id": "1db99976",
   "metadata": {},
   "source": [
    "### lowercase"
   ]
  },
  {
   "cell_type": "code",
   "execution_count": 4,
   "id": "7bb8cd91",
   "metadata": {},
   "outputs": [],
   "source": [
    "lowered = original.lower()"
   ]
  },
  {
   "cell_type": "code",
   "execution_count": 5,
   "id": "03637dfc",
   "metadata": {},
   "outputs": [
    {
     "data": {
      "text/plain": [
       "\"paul erdős and george pólya were influential hungarian mathematicians who contributed a lot to the field. erdős's name contains the hungarian letter 'ő' ('o' with double acute accent), but is often incorrectly written as erdos or erdös either by mistake or out of typographical necessity\""
      ]
     },
     "execution_count": 5,
     "metadata": {},
     "output_type": "execute_result"
    }
   ],
   "source": [
    "lowered"
   ]
  },
  {
   "cell_type": "markdown",
   "id": "6d5ea784",
   "metadata": {},
   "source": [
    "### normalize into unicode (utf-8)"
   ]
  },
  {
   "cell_type": "code",
   "execution_count": 6,
   "id": "06a74e2a",
   "metadata": {},
   "outputs": [],
   "source": [
    "normalized = unicodedata.normalize('NFKD', lowered).encode('ascii','ignore').decode('utf-8')"
   ]
  },
  {
   "cell_type": "code",
   "execution_count": 7,
   "id": "fb9d0303",
   "metadata": {},
   "outputs": [
    {
     "data": {
      "text/plain": [
       "\"paul erdos and george polya were influential hungarian mathematicians who contributed a lot to the field. erdos's name contains the hungarian letter 'o' ('o' with double acute accent), but is often incorrectly written as erdos or erdos either by mistake or out of typographical necessity\""
      ]
     },
     "execution_count": 7,
     "metadata": {},
     "output_type": "execute_result"
    }
   ],
   "source": [
    "normalized"
   ]
  },
  {
   "cell_type": "markdown",
   "id": "bf27e3ec",
   "metadata": {},
   "source": [
    "### replace non-word, single space and single-quote chars"
   ]
  },
  {
   "cell_type": "code",
   "execution_count": 8,
   "id": "79744e12",
   "metadata": {},
   "outputs": [
    {
     "data": {
      "text/plain": [
       "\"paul erdos and george polya were influential hungarian mathematicians who contributed a lot to the field erdos's name contains the hungarian letter 'o' 'o' with double acute accent but is often incorrectly written as erdos or erdos either by mistake or out of typographical necessity\""
      ]
     },
     "execution_count": 8,
     "metadata": {},
     "output_type": "execute_result"
    }
   ],
   "source": [
    "re.sub(r'[^a-zA-Z0-9\\'\\s]', '', normalized)"
   ]
  },
  {
   "cell_type": "code",
   "execution_count": 9,
   "id": "5cb240fe",
   "metadata": {},
   "outputs": [],
   "source": [
    "basicly_clean = re.sub(r'[^a-zA-Z0-9\\'\\s]', '', normalized)"
   ]
  },
  {
   "cell_type": "code",
   "execution_count": 10,
   "id": "0db3f4f4",
   "metadata": {},
   "outputs": [
    {
     "data": {
      "text/plain": [
       "\"paul erdos and george polya were influential hungarian mathematicians who contributed a lot to the field erdos's name contains the hungarian letter 'o' 'o' with double acute accent but is often incorrectly written as erdos or erdos either by mistake or out of typographical necessity\""
      ]
     },
     "execution_count": 10,
     "metadata": {},
     "output_type": "execute_result"
    }
   ],
   "source": [
    "basicly_clean"
   ]
  },
  {
   "cell_type": "markdown",
   "id": "1516fca7",
   "metadata": {},
   "source": [
    "### now functionalize this..."
   ]
  },
  {
   "cell_type": "code",
   "execution_count": 11,
   "id": "7af6d70c",
   "metadata": {},
   "outputs": [],
   "source": [
    "def basic_clean(string):\n",
    "    '''\n",
    "    takes in a string and outputs a basic-cleaned version:\n",
    "                    -lowercase\n",
    "                    -normalized to unicode set\n",
    "                    -replaced non-word and non-singlespace,non-singlequote chars with ''\n",
    "    '''\n",
    "    lowered = string.lower()\n",
    "    normalized = unicodedata.normalize('NFKD', lowered).encode('ascii','ignore').decode('utf-8')\n",
    "    basic_clean = re.sub(r'[^a-zA-Z0-9\\'\\s]', '', normalized)\n",
    "    return basic_clean"
   ]
  },
  {
   "cell_type": "code",
   "execution_count": 12,
   "id": "06a53edd",
   "metadata": {},
   "outputs": [],
   "source": [
    "test = 'here sis some wsrttroing of sa./23;l3r2892390*(*()*\\U0001F601())'"
   ]
  },
  {
   "cell_type": "code",
   "execution_count": 13,
   "id": "3f96a159",
   "metadata": {},
   "outputs": [
    {
     "data": {
      "text/plain": [
       "'here sis some wsrttroing of sa./23;l3r2892390*(*()*😁())'"
      ]
     },
     "execution_count": 13,
     "metadata": {},
     "output_type": "execute_result"
    }
   ],
   "source": [
    "test"
   ]
  },
  {
   "cell_type": "code",
   "execution_count": 14,
   "id": "f083de1e",
   "metadata": {},
   "outputs": [],
   "source": [
    "test_clean = basic_clean(test)"
   ]
  },
  {
   "cell_type": "code",
   "execution_count": 15,
   "id": "bfaac04b",
   "metadata": {},
   "outputs": [
    {
     "data": {
      "text/plain": [
       "'here sis some wsrttroing of sa23l3r2892390'"
      ]
     },
     "execution_count": 15,
     "metadata": {},
     "output_type": "execute_result"
    }
   ],
   "source": [
    "test_clean"
   ]
  },
  {
   "cell_type": "markdown",
   "id": "0bab7813",
   "metadata": {},
   "source": [
    "## 2 Function: tokenize"
   ]
  },
  {
   "cell_type": "code",
   "execution_count": 16,
   "id": "07b6c428",
   "metadata": {},
   "outputs": [
    {
     "data": {
      "text/plain": [
       "<nltk.tokenize.toktok.ToktokTokenizer at 0x11ddd0070>"
      ]
     },
     "execution_count": 16,
     "metadata": {},
     "output_type": "execute_result"
    }
   ],
   "source": [
    "tokenizer = nltk.tokenize.ToktokTokenizer()\n",
    "tokenizer"
   ]
  },
  {
   "cell_type": "code",
   "execution_count": 17,
   "id": "810f380c",
   "metadata": {},
   "outputs": [],
   "source": [
    "tokenized = tokenizer.tokenize(basicly_clean, return_str=True)"
   ]
  },
  {
   "cell_type": "code",
   "execution_count": 18,
   "id": "13c00b31",
   "metadata": {},
   "outputs": [
    {
     "data": {
      "text/plain": [
       "\"paul erdos and george polya were influential hungarian mathematicians who contributed a lot to the field erdos ' s name contains the hungarian letter ' o ' ' o ' with double acute accent but is often incorrectly written as erdos or erdos either by mistake or out of typographical necessity\""
      ]
     },
     "execution_count": 18,
     "metadata": {},
     "output_type": "execute_result"
    }
   ],
   "source": [
    "tokenized"
   ]
  },
  {
   "cell_type": "markdown",
   "id": "d4b46308",
   "metadata": {},
   "source": [
    "### now functionalize this..."
   ]
  },
  {
   "cell_type": "code",
   "execution_count": 19,
   "id": "e771ce6b",
   "metadata": {},
   "outputs": [],
   "source": [
    "def tokenize(string):\n",
    "    '''\n",
    "    takes in a string and outputs a tokenized version:\n",
    "    \n",
    "    '''\n",
    "    tokenizer = nltk.tokenize.ToktokTokenizer()\n",
    "    tokenized = tokenizer.tokenize(string, return_str=True)\n",
    "    return tokenized"
   ]
  },
  {
   "cell_type": "code",
   "execution_count": 20,
   "id": "8451071b",
   "metadata": {},
   "outputs": [],
   "source": [
    "test_token = tokenize(test_clean)"
   ]
  },
  {
   "cell_type": "code",
   "execution_count": 21,
   "id": "5541b618",
   "metadata": {},
   "outputs": [
    {
     "data": {
      "text/plain": [
       "'here sis some wsrttroing of sa23l3r2892390'"
      ]
     },
     "execution_count": 21,
     "metadata": {},
     "output_type": "execute_result"
    }
   ],
   "source": [
    "test_token"
   ]
  },
  {
   "cell_type": "markdown",
   "id": "e3cc5008",
   "metadata": {},
   "source": [
    "## 3 Function: stem"
   ]
  },
  {
   "cell_type": "code",
   "execution_count": 22,
   "id": "1f2d4435",
   "metadata": {},
   "outputs": [],
   "source": [
    "stemmer = nltk.porter.PorterStemmer()"
   ]
  },
  {
   "cell_type": "code",
   "execution_count": 23,
   "id": "8b4c7da7",
   "metadata": {},
   "outputs": [
    {
     "data": {
      "text/plain": [
       "<PorterStemmer>"
      ]
     },
     "execution_count": 23,
     "metadata": {},
     "output_type": "execute_result"
    }
   ],
   "source": [
    "stemmer"
   ]
  },
  {
   "cell_type": "code",
   "execution_count": 24,
   "id": "53742894",
   "metadata": {},
   "outputs": [
    {
     "data": {
      "text/plain": [
       "\"paul erdos and george polya were influential hungarian mathematicians who contributed a lot to the field erdos ' s name contains the hungarian letter ' o ' ' o ' with double acute accent but is often incorrectly written as erdos or erdos either by mistake or out of typographical necess\""
      ]
     },
     "execution_count": 24,
     "metadata": {},
     "output_type": "execute_result"
    }
   ],
   "source": [
    "stemmer.stem(tokenized)"
   ]
  },
  {
   "cell_type": "code",
   "execution_count": 25,
   "id": "cea68f27",
   "metadata": {},
   "outputs": [
    {
     "data": {
      "text/plain": [
       "\"paul erdo and georg polya were influenti hungarian mathematician who contribut a lot to the field erdo ' s name contain the hungarian letter ' o ' ' o ' with doubl acut accent but is often incorrectli written as erdo or erdo either by mistak or out of typograph necess\""
      ]
     },
     "execution_count": 25,
     "metadata": {},
     "output_type": "execute_result"
    }
   ],
   "source": [
    "' '.join([stemmer.stem(word) for word in tokenized.split()])"
   ]
  },
  {
   "cell_type": "markdown",
   "id": "906c3e06",
   "metadata": {},
   "source": [
    "### now functionalize this..."
   ]
  },
  {
   "cell_type": "code",
   "execution_count": 26,
   "id": "49f3c078",
   "metadata": {},
   "outputs": [],
   "source": [
    "def stem(string):\n",
    "    '''\n",
    "    takes in a string and outputs a stemmed (Porter) version:\n",
    "    \n",
    "    '''\n",
    "    stemmer = nltk.porter.PorterStemmer()\n",
    "    stemmed = ' '.join([stemmer.stem(word) for word in string.split()])\n",
    "    return stemmed"
   ]
  },
  {
   "cell_type": "code",
   "execution_count": 27,
   "id": "7de3d8a3",
   "metadata": {},
   "outputs": [
    {
     "data": {
      "text/plain": [
       "'here si some wsrttro of sa23l3r2892390'"
      ]
     },
     "execution_count": 27,
     "metadata": {},
     "output_type": "execute_result"
    }
   ],
   "source": [
    "stem(test_token)"
   ]
  },
  {
   "cell_type": "markdown",
   "id": "2d34f5b7",
   "metadata": {},
   "source": [
    "## 4 Function: lemmatize"
   ]
  },
  {
   "cell_type": "code",
   "execution_count": 28,
   "id": "1d25c54f",
   "metadata": {},
   "outputs": [],
   "source": [
    "lemmatizer = nltk.stem.WordNetLemmatizer()"
   ]
  },
  {
   "cell_type": "code",
   "execution_count": 29,
   "id": "bbcef5b1",
   "metadata": {},
   "outputs": [],
   "source": [
    "lemmatized = [lemmatizer.lemmatize(word) for word in tokenized.split()]"
   ]
  },
  {
   "cell_type": "code",
   "execution_count": 30,
   "id": "a1ded955",
   "metadata": {
    "scrolled": true
   },
   "outputs": [
    {
     "data": {
      "text/plain": [
       "['paul',\n",
       " 'erdos',\n",
       " 'and',\n",
       " 'george',\n",
       " 'polya',\n",
       " 'were',\n",
       " 'influential',\n",
       " 'hungarian',\n",
       " 'mathematician',\n",
       " 'who',\n",
       " 'contributed',\n",
       " 'a',\n",
       " 'lot',\n",
       " 'to',\n",
       " 'the',\n",
       " 'field',\n",
       " 'erdos',\n",
       " \"'\",\n",
       " 's',\n",
       " 'name',\n",
       " 'contains',\n",
       " 'the',\n",
       " 'hungarian',\n",
       " 'letter',\n",
       " \"'\",\n",
       " 'o',\n",
       " \"'\",\n",
       " \"'\",\n",
       " 'o',\n",
       " \"'\",\n",
       " 'with',\n",
       " 'double',\n",
       " 'acute',\n",
       " 'accent',\n",
       " 'but',\n",
       " 'is',\n",
       " 'often',\n",
       " 'incorrectly',\n",
       " 'written',\n",
       " 'a',\n",
       " 'erdos',\n",
       " 'or',\n",
       " 'erdos',\n",
       " 'either',\n",
       " 'by',\n",
       " 'mistake',\n",
       " 'or',\n",
       " 'out',\n",
       " 'of',\n",
       " 'typographical',\n",
       " 'necessity']"
      ]
     },
     "execution_count": 30,
     "metadata": {},
     "output_type": "execute_result"
    }
   ],
   "source": [
    "lemmatized"
   ]
  },
  {
   "cell_type": "markdown",
   "id": "584ae0a3",
   "metadata": {},
   "source": [
    "### now functionalize this..."
   ]
  },
  {
   "cell_type": "code",
   "execution_count": 31,
   "id": "5c0c145d",
   "metadata": {},
   "outputs": [],
   "source": [
    "def lemmatize(string):\n",
    "    '''\n",
    "    takes in a string and outputs a lemmatized version:\n",
    "    \n",
    "    '''\n",
    "    lemmatizer = nltk.stem.WordNetLemmatizer()\n",
    "    lemmatized = ' '.join([lemmatizer.lemmatize(word) for word in string.split()])\n",
    "    return lemmatized"
   ]
  },
  {
   "cell_type": "code",
   "execution_count": 32,
   "id": "089959c5",
   "metadata": {},
   "outputs": [],
   "source": [
    "test_lemma = lemmatize(test_token)"
   ]
  },
  {
   "cell_type": "code",
   "execution_count": 33,
   "id": "68be8c81",
   "metadata": {},
   "outputs": [
    {
     "data": {
      "text/plain": [
       "'here si some wsrttroing of sa23l3r2892390'"
      ]
     },
     "execution_count": 33,
     "metadata": {},
     "output_type": "execute_result"
    }
   ],
   "source": [
    "test_lemma"
   ]
  },
  {
   "cell_type": "markdown",
   "id": "a3f58703",
   "metadata": {},
   "source": [
    "## 5 Function: remove_stopwords"
   ]
  },
  {
   "cell_type": "code",
   "execution_count": 34,
   "id": "3c1baa0e",
   "metadata": {},
   "outputs": [],
   "source": [
    "stopwords = nltk.corpus.stopwords"
   ]
  },
  {
   "cell_type": "code",
   "execution_count": 35,
   "id": "2f5de643",
   "metadata": {},
   "outputs": [
    {
     "data": {
      "text/plain": [
       "<WordListCorpusReader in '/Users/richardalcabes/nltk_data/corpora/stopwords'>"
      ]
     },
     "execution_count": 35,
     "metadata": {},
     "output_type": "execute_result"
    }
   ],
   "source": [
    "stopwords"
   ]
  },
  {
   "cell_type": "code",
   "execution_count": 36,
   "id": "52d9821d",
   "metadata": {},
   "outputs": [
    {
     "data": {
      "text/plain": [
       "['i',\n",
       " 'me',\n",
       " 'my',\n",
       " 'myself',\n",
       " 'we',\n",
       " 'our',\n",
       " 'ours',\n",
       " 'ourselves',\n",
       " 'you',\n",
       " \"you're\",\n",
       " \"you've\",\n",
       " \"you'll\",\n",
       " \"you'd\",\n",
       " 'your',\n",
       " 'yours',\n",
       " 'yourself',\n",
       " 'yourselves',\n",
       " 'he',\n",
       " 'him',\n",
       " 'his']"
      ]
     },
     "execution_count": 36,
     "metadata": {},
     "output_type": "execute_result"
    }
   ],
   "source": [
    "stopwords.words('english')[:20]"
   ]
  },
  {
   "cell_type": "code",
   "execution_count": 37,
   "id": "d1ce2dc0",
   "metadata": {},
   "outputs": [],
   "source": [
    "garbage = ['words','word','wording']"
   ]
  },
  {
   "cell_type": "code",
   "execution_count": 38,
   "id": "96dd4281",
   "metadata": {},
   "outputs": [],
   "source": [
    "stopper = stopwords.words('english')"
   ]
  },
  {
   "cell_type": "code",
   "execution_count": 39,
   "id": "782b2d81",
   "metadata": {},
   "outputs": [
    {
     "data": {
      "text/plain": [
       "list"
      ]
     },
     "execution_count": 39,
     "metadata": {},
     "output_type": "execute_result"
    }
   ],
   "source": [
    "type(stopper)"
   ]
  },
  {
   "cell_type": "code",
   "execution_count": 40,
   "id": "282634b4",
   "metadata": {},
   "outputs": [],
   "source": [
    "dunzo_text = ' '.join([word for word in lemmatized \n",
    "                         if word not in stopwords.words('english')])"
   ]
  },
  {
   "cell_type": "code",
   "execution_count": 41,
   "id": "d7d13a33",
   "metadata": {},
   "outputs": [
    {
     "data": {
      "text/plain": [
       "\"paul erdos george polya influential hungarian mathematician contributed lot field erdos ' name contains hungarian letter ' ' ' ' double acute accent often incorrectly written erdos erdos either mistake typographical necessity\""
      ]
     },
     "execution_count": 41,
     "metadata": {},
     "output_type": "execute_result"
    }
   ],
   "source": [
    "dunzo_text"
   ]
  },
  {
   "cell_type": "markdown",
   "id": "c727c8ea",
   "metadata": {},
   "source": [
    "### now functionalize this..."
   ]
  },
  {
   "cell_type": "code",
   "execution_count": 42,
   "id": "16450257",
   "metadata": {},
   "outputs": [],
   "source": [
    "def remove_stopwords(token_list,extra=[]):\n",
    "    '''\n",
    "    takes in a list of tokens and outputs a version with standard english stopwords removed\n",
    "    additional arguments 'extra_words'  *list of strings* allow user to add to stopword dictionary\n",
    "                         'exclude_words' *list of strings* allow user to remove word from standard stopword dict\n",
    "    \n",
    "    '''\n",
    "    stopwords = nltk.corpus.stopwords\n",
    "    stopw = stopwords.words('english') + extra\n",
    "    dunzo_text = ' '.join([word for word in token_list \n",
    "                         if word not in stopw])\n",
    "    return dunzo_text"
   ]
  },
  {
   "cell_type": "code",
   "execution_count": 43,
   "id": "68290254",
   "metadata": {
    "scrolled": true
   },
   "outputs": [
    {
     "data": {
      "text/plain": [
       "'h e r e     e   w r r n g   f   2 3 l 3 r 2 8 9 2 3 9 0'"
      ]
     },
     "execution_count": 43,
     "metadata": {},
     "output_type": "execute_result"
    }
   ],
   "source": [
    "remove_stopwords(test_lemma,extra=['si','wsrttroing'])"
   ]
  },
  {
   "cell_type": "markdown",
   "id": "2a37e143",
   "metadata": {},
   "source": [
    "## 6 acquire news_df"
   ]
  },
  {
   "cell_type": "code",
   "execution_count": 44,
   "id": "b63d72a9",
   "metadata": {
    "scrolled": true
   },
   "outputs": [],
   "source": [
    "url = 'https://inshorts.com/en/read/'\n",
    "response = requests.get(url)\n",
    "soup = BeautifulSoup(response.content, 'html.parser')\n",
    "news_div = soup.find_all('div',class_='news-card-content news-right-box')"
   ]
  },
  {
   "cell_type": "code",
   "execution_count": 45,
   "id": "2736f6c4",
   "metadata": {},
   "outputs": [],
   "source": [
    "content = []\n",
    "for i in range(0,len(news_div)):\n",
    "    url= 'https://inshorts.com/en/read/'\n",
    "    #headers = {'User-Agent': 'Codeup Data Science'}\n",
    "    response = requests.get(url)\n",
    "    soup = BeautifulSoup(response.content, 'html.parser')\n",
    "    news_div = soup.find_all('div',class_='news-card-content news-right-box')\n",
    "    gacha = news_div[i].text\n",
    "    content.append(gacha)"
   ]
  },
  {
   "cell_type": "code",
   "execution_count": 46,
   "id": "7731ccd2",
   "metadata": {},
   "outputs": [],
   "source": [
    "titles = []\n",
    "for i in range(0,len(news_div)):\n",
    "    url= 'https://inshorts.com/en/read/'\n",
    "    #headers = {'User-Agent': 'Codeup Data Science'}\n",
    "    response = requests.get(url)\n",
    "    soup = BeautifulSoup(response.content, 'html.parser')\n",
    "    headline = soup.find_all('span',itemprop='headline')\n",
    "    gacha = headline[i].text\n",
    "    titles.append(gacha)"
   ]
  },
  {
   "cell_type": "code",
   "execution_count": 47,
   "id": "e81eb161",
   "metadata": {},
   "outputs": [],
   "source": [
    "dictionary = {titles[i]:content[i] for i in range(len(news_div))}"
   ]
  },
  {
   "cell_type": "code",
   "execution_count": 48,
   "id": "550ab561",
   "metadata": {},
   "outputs": [
    {
     "data": {
      "text/plain": [
       "{\"RR's Yashasvi Jaiswal smashes fastest fifty in IPL history\": '\\nRajasthan Royals (RR) opener Yashasvi Jaiswal on Thursday broke the record for slamming the fastest fifty in the history of IPL. The 21-year-old reached his half-century off 13 deliveries against Kolkata Knight Riders (KKR) at Eden Gardens in Kolkata. The previous record was jointly held by KL Rahul and Pat Cummins, who had taken 14 deliveries each.\\n\\n\\n\\n\\n\\n\\n\\nshort by Anmol Sharma / \\n      10:03 pm on 11 May\\n\\n',\n",
       " 'Rajasthan Royals record biggest win of IPL 2023 in terms of balls remaining': '\\nRajasthan Royals (RR) on Thursday recorded the biggest win of IPL 2023 in terms of balls remaining. RR chased down a target of 150 against Kolkata Knight Riders (KKR) at Eden Gardens in Kolkata with 41 balls remaining. With the win, RR ended their three-match losing streak and jumped to the third spot on the points table.\\n\\nshort by Anmol Sharma / \\n      10:52 pm on 11 May\\n\\n',\n",
       " 'RR break record for scoring most runs in 1st over of IPL innings without extras': \"\\nRR on Thursday broke the record for scoring most runs in the first over of an IPL innings without extras. RR scored 26 runs on the bowling of KKR captain Nitish Rana in their first over with all the runs coming through Yashasvi Jaiswal's bat. The previous record was held by RCB (23 runs against RR in IPL 2019).\\n\\nshort by Anmol Sharma / \\n      10:50 pm on 11 May\\n\\n\",\n",
       " 'Which Indians have smashed fifty off 15 or less deliveries in T20 cricket history?': \"\\nRR's Yashasvi Jaiswal today slammed the fastest fifty in IPL history off 13 deliveries against KKR. Ex-India all-rounder Yuvraj Singh holds the record for the fastest-ever T20 fifty (12 deliveries for India against England in 2007). Other Indians to have hit T20 fifty off 15 or less deliveries are KL Rahul (14), Robin Uthappa (15) and Yusuf Pathan (15).\\n\\nshort by Anmol Sharma / \\n      11:04 pm on 11 May\\n\\n\",\n",
       " \"Laxman Sivaramakrishnan mocks Kamal Haasan over his 'I don't follow sports' remark\": '\\nEx-India spinner Laxman Sivaramakrishnan took a dig at actor-politician Kamal Haasan over his \"I don\\'t follow sports\" remark. Sharing screenshot of an article showing Haasan praising a Tamil Nadu minister for organising \"huge sports matches\", Laxman revealed that during the King\\'s Coronation Day, Haasan had told him that he doesn\\'t follow sports. \"The greatest actor of all time,\" Laxman tweeted.\\n\\nshort by Anmol Sharma / \\n      10:46 pm on 11 May\\n\\n',\n",
       " '2 killed in shooting at Mercedes plant in Germany, suspect held': \"\\nTwo persons were killed in a shooting inside a Mercedes-Benz plant in Germany's Sindelfingen. The 53-year-old suspect has been arrested by police. Production at one of the company's factory halls in Sindelfingen has been suspended until the end of the week. The gunman and the two victims belonged to an external services provider, Mercedes said reacting to the shooting.\\n\\nshort by Disha Jana / \\n      09:51 pm on 11 May\\n\\n\",\n",
       " 'PM Modi shares video on 25th anniversary of Pokhran nuclear tests': '\\nOn the 25th anniversary of Pokhran nuclear tests on Thursday, PM Narendra Modi shared a video of the historic event with excerpts of then PM Atal Bihari Vajpayee\\'s speeches. \"Even though the world stood against it (detonation of the first three bombs on May 11, 1998), Vajpayee went on to conduct two more explosions two days later,\" said PM Modi.\\n\\nshort by Saurabh Sinha / \\n      11:03 pm on 11 May\\n\\n',\n",
       " \"99 jail officials transferred after gangster's murder in Tihar\": '\\nAs many as 99 jail officials in Delhi were transferred days after gangster Tillu Tajpuriya was stabbed to death inside Tihar jail. The order was issued by Director General (Prisons) Sanjay Beniwal. According to a senior official, the murder was viewed seriously by the authorities. A footage had surfaced that purportedly showed Tajpuriya being attacked in front of security personnel.\\n\\nshort by Saurabh Sinha / \\n      10:41 pm on 11 May\\n\\n',\n",
       " '3-storey building collapses in Guj; 4 feared trapped & 26 rescued': '\\nA 3-storey building collapsed in the Vejalpur area of Ahmedabad in Gujarat on Thursday night. As per reports, four persons are feared buried under the debris of the building, while 26 others have been rescued. Rescue operation is being carried out by police and fire brigade personnel. A video footage from the site of the incident has surfaced online.\\n\\nshort by Shreyasi Banerjee / \\n      10:55 pm on 11 May\\n\\n',\n",
       " 'Commando martyred, 5 injured in shootout with militants in Manipur': \"\\nAt least one Manipur police commando lost his life and five others sustained bullet injuries in a shootout between security forces and suspected Kuki militants in Tronglaobi in Manipur's Bishnupur district early on Thursday, police said. As per reports, the police team was patrolling the area when the incident took place. The injured were evacuated to different hospitals in Imphal.\\n\\nshort by Shreyasi Banerjee / \\n      10:39 pm on 11 May\\n\\n\",\n",
       " \"Power of Bhutto's house goes off during presser against Pak's ex-PM Imran\": '\\nThe electricity of Pakistan\\'s Foreign Minister Bilawal Bhutto Zardari\\'s house went off during his presser against the country\\'s former Prime Minister Imran Khan on Thursday. \"He (Imran Khan) thought he could cross every red line that he wants,\" Bhutto said before the power went off. \"Well, at least it\\'s proven now that even Bilawal House suffers load shedding,\" Bhutto said. \\n\\nshort by Pragya Swastik / \\n      10:51 pm on 11 May\\n\\n',\n",
       " 'Father was alcoholic, I sold pens on footpath: Johny on childhood': '\\nComedian-actor Johny Lever opened up about difficult times he faced while growing up in Dharavi slums and shared that since his father was an alcoholic, his family found it tough to manage household expenses. \"When I came back from school, I [worked] at...liquor shop,\" he said. \"I used to sell pens on...footpath. When...pens wouldn\\'t sell, I\\'d mimic...actors and...make...sale,\" he added.\\n\\nshort by Swati Dubey / \\n      10:25 pm on 11 May\\n\\n',\n",
       " 'Scammer sells AI-generated Frank Ocean songs for $9,600: Report': '\\nA scammer has reportedly made around $13,000 CAD (about $9,600) by selling AI-generated songs that used vocals of Grammy-winning singer Frank Ocean. The fraudster falsely claimed that the songs were leaked tracks and sold them in an underground music forum, Vice reported. At least one of the tracks was real to build credibility, the scammer told the publication.\\n\\nshort by Mansi Agarwal / \\n      11:05 pm on 11 May\\n\\n',\n",
       " \"One of the most dramatic 3 overs I've called: Harsha on Jaiswal\": '\\nTalking about RR opener Yashasvi Jaiswal who slammed the fastest fifty in IPL history off 13 deliveries, commentator Harsha Bhogle tweeted, \"That has to be one of the most dramatic 3 overs I have called.\" \"Special knock. Special player. Take a bow,\" read a tweet from MI batter Suryakumar Yadav. Yashasvi recorded this feat against KKR at Eden Gardens.\\n\\nshort by Arnab Mukherji  / \\n      10:42 pm on 11 May\\n\\n',\n",
       " \"Pathirana's brutal at 20, I hadn't understood bowling then: Bishop\": '\\nEx-West Indies pacer Ian Bishop said CSK pacer Matheesha Pathirana is \"exciting as heck\" at the age of 20, adding that the delivery bowled by Pathirana to dismiss DC\\'s Manish Pandey recently was \"brutal\". \"What was I doing at 20? I didn\\'t understand bowling [then],\" stated Bishop. \"I haven\\'t seen Pathirana look intimidated so far this season,\" he said.\\n\\nshort by Arnab Mukherji  / \\n      10:08 pm on 11 May\\n\\n',\n",
       " \"Would've taken Jaiswal as Rahul replacement: Vaughan on WTC final\": '\\nFormer England captain Michael Vaughan took to Twitter to state that he would have selected RR opener Yashasvi Jaiswal as KL Rahul\\'s replacement in India\\'s squad for the upcoming World Test Championship (WTC) final. \"Jaiswal is going to be a superstar,\" added Vaughan. Jaiswal smashed the fastest fifty in the history of IPL off 13 deliveries against KKR on Thursday.\\n\\nshort by Arnab Mukherji  / \\n      11:30 pm on 11 May\\n\\n',\n",
       " 'Joining ONDC will become market compulsion for e-comm giants: CEO': '\\nOpen Network for Digital Commerce (ONDC) CEO T Koshy said it will become a \"market compulsion\" for e-commerce giants like Amazon and Flipkart to join the government-backed network. \"As a policy, we encourage everyone to come to ONDC with their main platforms...We never force anyone to do anything...In the long run, our intention is to bring everyone onboard,\" Koshy said.\\n\\n\\nshort by Srishty Choudhury / \\n      09:54 pm on 11 May\\n\\n',\n",
       " 'Japanese soft drinks firm to test CO2 absorbing vending machines  ': '\\nJapan-based Asahi Soft Drinks has announced it would start testing CO2 absorbing vending machines next month. The machines will be equipped with a special material that will allow them to absorb CO2 when they draw in ambient air to keep drinks inside hot or cool, Asahi said. The company further plans to use the absorbed CO2 in various industrial applications.\\n\\nshort by Mansi Agarwal / \\n      11:01 pm on 11 May\\n\\n',\n",
       " 'Jurassic-era sea giants were twice as big as killer whale: Study': '\\nJurassic-era giant animals that lived in seas were twice as big as killer whales, a study stated. The animal was pliosaur or closely related to it. Pliosaur was large, carnivorous reptile with a massive head and streamlined body. It had short neck, four flippers that served as powerful paddles\\n and lived between 200 million to 65.5 million years ago.\\n\\nshort by Swati Dubey / \\n      11:01 pm on 11 May\\n\\n',\n",
       " 'Kerala train fire accused inspired by preacher Zakir Naik: NIA': \"\\nThe National Investigation Agency (NIA), which is probing the train arson case which killed three persons in Kerala, said that accused Shahrukh Saifi was inspired by Islamic preacher Zakir Naik. As part of the investigation, NIA conducted searches at ten locations in Delhi's Shaheen Bagh area, where the accused hails from, and covered the properties of Saifi besides other suspects.\\n\\nshort by Apoorva Shankar / \\n      09:59 pm on 11 May\\n\\n\",\n",
       " \"Ahmedabad BJP organises screenings of 'Kerala Story' for members\": '\\nBJP\\'s Ahmedabad city unit on Thursday organised screenings of \\'The Kerala Story\\' for its workers. BJP\\'s MLAs, MPs, councillors, office-bearers and members of its women\\'s cell attended the screenings. \"Our objective behind organising screenings...is to make women aware about this issue. It\\'s our collective responsibility to ensure that our women don\\'t get trapped in love jihad,\" a BJP leader said.\\n\\nshort by Apoorva Shankar / \\n      10:20 pm on 11 May\\n\\n',\n",
       " '3 Indian-origin men sell drugs on dark web in UK, convicted': '\\nAn Indian-origin father-son duo and another person have been convicted for running a fake pharmaceutical firm in the UK. The accused, identified as Allen, Roshan and Krunal, sold drugs on the dark web in exchange for cryptocurrency. The trio reportedly made approximately £3.5 million (approximately ₹36 crore) by producing and selling Benzodiazepines, a type of sedative.\\n\\nshort by Disha Jana / \\n      09:59 pm on 11 May\\n\\n',\n",
       " \"Dutch man keeps 101-yr-old father's body in freezer for 18 months\": '\\nA man from the Netherlands reportedly kept his 101-year-old father\\'s dead body in a freezer for 18 months so that he could \"still talk to him\". The man, aged 82 years, claimed that he didn\\'t want to lose his father and miss him. Police are investigating the matter. They, however, don\\'t suspect any foul play in the man\\'s death.\\n\\nshort by Swati Dubey / \\n      10:48 pm on 11 May\\n\\n',\n",
       " 'Body of teen found who was lost in New Zealand cave amid floods': '\\nA body has been found in a New Zealand cave where a teenager went missing during a school trip on Tuesday. The deceased teen was accompanied by a group of 15 students and two adults, but the others managed to make it out of the cave safely. A state of emergency was issued for Auckland following the floods.\\n\\nshort by Disha Jana / \\n      10:15 pm on 11 May\\n\\n',\n",
       " 'ONGC discovers oil, gas in 2 Mumbai offshore blocks in Arabian Sea': \"\\nOil and Natural Gas Corporation (ONGC) made discoveries of oil and gas in two Mumbai offshore blocks in the Arabian Sea. The discoveries, which have been named 'Amrit' and 'Moonga', were made in the blocks that the company won in recent open acreage licensing rounds. ONGC's discoveries in both rounds carry significant importance towards energy security by bolstering domestic production.\\n\\n\\n\\nshort by Srishty Choudhury / \\n      10:55 pm on 11 May\\n\\n\"}"
      ]
     },
     "execution_count": 48,
     "metadata": {},
     "output_type": "execute_result"
    }
   ],
   "source": [
    "dictionary"
   ]
  },
  {
   "cell_type": "code",
   "execution_count": 49,
   "id": "ff9296a6",
   "metadata": {},
   "outputs": [],
   "source": [
    "news_df = pd.DataFrame(dictionary.items(), columns=['title', 'original'])"
   ]
  },
  {
   "cell_type": "code",
   "execution_count": 50,
   "id": "aa779baf",
   "metadata": {
    "scrolled": true
   },
   "outputs": [
    {
     "data": {
      "text/html": [
       "<div>\n",
       "<style scoped>\n",
       "    .dataframe tbody tr th:only-of-type {\n",
       "        vertical-align: middle;\n",
       "    }\n",
       "\n",
       "    .dataframe tbody tr th {\n",
       "        vertical-align: top;\n",
       "    }\n",
       "\n",
       "    .dataframe thead th {\n",
       "        text-align: right;\n",
       "    }\n",
       "</style>\n",
       "<table border=\"1\" class=\"dataframe\">\n",
       "  <thead>\n",
       "    <tr style=\"text-align: right;\">\n",
       "      <th></th>\n",
       "      <th>title</th>\n",
       "      <th>original</th>\n",
       "    </tr>\n",
       "  </thead>\n",
       "  <tbody>\n",
       "    <tr>\n",
       "      <th>0</th>\n",
       "      <td>RR's Yashasvi Jaiswal smashes fastest fifty in...</td>\n",
       "      <td>\\nRajasthan Royals (RR) opener Yashasvi Jaiswa...</td>\n",
       "    </tr>\n",
       "    <tr>\n",
       "      <th>1</th>\n",
       "      <td>Rajasthan Royals record biggest win of IPL 202...</td>\n",
       "      <td>\\nRajasthan Royals (RR) on Thursday recorded t...</td>\n",
       "    </tr>\n",
       "    <tr>\n",
       "      <th>2</th>\n",
       "      <td>RR break record for scoring most runs in 1st o...</td>\n",
       "      <td>\\nRR on Thursday broke the record for scoring ...</td>\n",
       "    </tr>\n",
       "    <tr>\n",
       "      <th>3</th>\n",
       "      <td>Which Indians have smashed fifty off 15 or les...</td>\n",
       "      <td>\\nRR's Yashasvi Jaiswal today slammed the fast...</td>\n",
       "    </tr>\n",
       "    <tr>\n",
       "      <th>4</th>\n",
       "      <td>Laxman Sivaramakrishnan mocks Kamal Haasan ove...</td>\n",
       "      <td>\\nEx-India spinner Laxman Sivaramakrishnan too...</td>\n",
       "    </tr>\n",
       "    <tr>\n",
       "      <th>5</th>\n",
       "      <td>2 killed in shooting at Mercedes plant in Germ...</td>\n",
       "      <td>\\nTwo persons were killed in a shooting inside...</td>\n",
       "    </tr>\n",
       "    <tr>\n",
       "      <th>6</th>\n",
       "      <td>PM Modi shares video on 25th anniversary of Po...</td>\n",
       "      <td>\\nOn the 25th anniversary of Pokhran nuclear t...</td>\n",
       "    </tr>\n",
       "    <tr>\n",
       "      <th>7</th>\n",
       "      <td>99 jail officials transferred after gangster's...</td>\n",
       "      <td>\\nAs many as 99 jail officials in Delhi were t...</td>\n",
       "    </tr>\n",
       "    <tr>\n",
       "      <th>8</th>\n",
       "      <td>3-storey building collapses in Guj; 4 feared t...</td>\n",
       "      <td>\\nA 3-storey building collapsed in the Vejalpu...</td>\n",
       "    </tr>\n",
       "    <tr>\n",
       "      <th>9</th>\n",
       "      <td>Commando martyred, 5 injured in shootout with ...</td>\n",
       "      <td>\\nAt least one Manipur police commando lost hi...</td>\n",
       "    </tr>\n",
       "    <tr>\n",
       "      <th>10</th>\n",
       "      <td>Power of Bhutto's house goes off during presse...</td>\n",
       "      <td>\\nThe electricity of Pakistan's Foreign Minist...</td>\n",
       "    </tr>\n",
       "    <tr>\n",
       "      <th>11</th>\n",
       "      <td>Father was alcoholic, I sold pens on footpath:...</td>\n",
       "      <td>\\nComedian-actor Johny Lever opened up about d...</td>\n",
       "    </tr>\n",
       "    <tr>\n",
       "      <th>12</th>\n",
       "      <td>Scammer sells AI-generated Frank Ocean songs f...</td>\n",
       "      <td>\\nA scammer has reportedly made around $13,000...</td>\n",
       "    </tr>\n",
       "    <tr>\n",
       "      <th>13</th>\n",
       "      <td>One of the most dramatic 3 overs I've called: ...</td>\n",
       "      <td>\\nTalking about RR opener Yashasvi Jaiswal who...</td>\n",
       "    </tr>\n",
       "    <tr>\n",
       "      <th>14</th>\n",
       "      <td>Pathirana's brutal at 20, I hadn't understood ...</td>\n",
       "      <td>\\nEx-West Indies pacer Ian Bishop said CSK pac...</td>\n",
       "    </tr>\n",
       "    <tr>\n",
       "      <th>15</th>\n",
       "      <td>Would've taken Jaiswal as Rahul replacement: V...</td>\n",
       "      <td>\\nFormer England captain Michael Vaughan took ...</td>\n",
       "    </tr>\n",
       "    <tr>\n",
       "      <th>16</th>\n",
       "      <td>Joining ONDC will become market compulsion for...</td>\n",
       "      <td>\\nOpen Network for Digital Commerce (ONDC) CEO...</td>\n",
       "    </tr>\n",
       "    <tr>\n",
       "      <th>17</th>\n",
       "      <td>Japanese soft drinks firm to test CO2 absorbin...</td>\n",
       "      <td>\\nJapan-based Asahi Soft Drinks has announced ...</td>\n",
       "    </tr>\n",
       "    <tr>\n",
       "      <th>18</th>\n",
       "      <td>Jurassic-era sea giants were twice as big as k...</td>\n",
       "      <td>\\nJurassic-era giant animals that lived in sea...</td>\n",
       "    </tr>\n",
       "    <tr>\n",
       "      <th>19</th>\n",
       "      <td>Kerala train fire accused inspired by preacher...</td>\n",
       "      <td>\\nThe National Investigation Agency (NIA), whi...</td>\n",
       "    </tr>\n",
       "    <tr>\n",
       "      <th>20</th>\n",
       "      <td>Ahmedabad BJP organises screenings of 'Kerala ...</td>\n",
       "      <td>\\nBJP's Ahmedabad city unit on Thursday organi...</td>\n",
       "    </tr>\n",
       "    <tr>\n",
       "      <th>21</th>\n",
       "      <td>3 Indian-origin men sell drugs on dark web in ...</td>\n",
       "      <td>\\nAn Indian-origin father-son duo and another ...</td>\n",
       "    </tr>\n",
       "    <tr>\n",
       "      <th>22</th>\n",
       "      <td>Dutch man keeps 101-yr-old father's body in fr...</td>\n",
       "      <td>\\nA man from the Netherlands reportedly kept h...</td>\n",
       "    </tr>\n",
       "    <tr>\n",
       "      <th>23</th>\n",
       "      <td>Body of teen found who was lost in New Zealand...</td>\n",
       "      <td>\\nA body has been found in a New Zealand cave ...</td>\n",
       "    </tr>\n",
       "    <tr>\n",
       "      <th>24</th>\n",
       "      <td>ONGC discovers oil, gas in 2 Mumbai offshore b...</td>\n",
       "      <td>\\nOil and Natural Gas Corporation (ONGC) made ...</td>\n",
       "    </tr>\n",
       "  </tbody>\n",
       "</table>\n",
       "</div>"
      ],
      "text/plain": [
       "                                                title  \\\n",
       "0   RR's Yashasvi Jaiswal smashes fastest fifty in...   \n",
       "1   Rajasthan Royals record biggest win of IPL 202...   \n",
       "2   RR break record for scoring most runs in 1st o...   \n",
       "3   Which Indians have smashed fifty off 15 or les...   \n",
       "4   Laxman Sivaramakrishnan mocks Kamal Haasan ove...   \n",
       "5   2 killed in shooting at Mercedes plant in Germ...   \n",
       "6   PM Modi shares video on 25th anniversary of Po...   \n",
       "7   99 jail officials transferred after gangster's...   \n",
       "8   3-storey building collapses in Guj; 4 feared t...   \n",
       "9   Commando martyred, 5 injured in shootout with ...   \n",
       "10  Power of Bhutto's house goes off during presse...   \n",
       "11  Father was alcoholic, I sold pens on footpath:...   \n",
       "12  Scammer sells AI-generated Frank Ocean songs f...   \n",
       "13  One of the most dramatic 3 overs I've called: ...   \n",
       "14  Pathirana's brutal at 20, I hadn't understood ...   \n",
       "15  Would've taken Jaiswal as Rahul replacement: V...   \n",
       "16  Joining ONDC will become market compulsion for...   \n",
       "17  Japanese soft drinks firm to test CO2 absorbin...   \n",
       "18  Jurassic-era sea giants were twice as big as k...   \n",
       "19  Kerala train fire accused inspired by preacher...   \n",
       "20  Ahmedabad BJP organises screenings of 'Kerala ...   \n",
       "21  3 Indian-origin men sell drugs on dark web in ...   \n",
       "22  Dutch man keeps 101-yr-old father's body in fr...   \n",
       "23  Body of teen found who was lost in New Zealand...   \n",
       "24  ONGC discovers oil, gas in 2 Mumbai offshore b...   \n",
       "\n",
       "                                             original  \n",
       "0   \\nRajasthan Royals (RR) opener Yashasvi Jaiswa...  \n",
       "1   \\nRajasthan Royals (RR) on Thursday recorded t...  \n",
       "2   \\nRR on Thursday broke the record for scoring ...  \n",
       "3   \\nRR's Yashasvi Jaiswal today slammed the fast...  \n",
       "4   \\nEx-India spinner Laxman Sivaramakrishnan too...  \n",
       "5   \\nTwo persons were killed in a shooting inside...  \n",
       "6   \\nOn the 25th anniversary of Pokhran nuclear t...  \n",
       "7   \\nAs many as 99 jail officials in Delhi were t...  \n",
       "8   \\nA 3-storey building collapsed in the Vejalpu...  \n",
       "9   \\nAt least one Manipur police commando lost hi...  \n",
       "10  \\nThe electricity of Pakistan's Foreign Minist...  \n",
       "11  \\nComedian-actor Johny Lever opened up about d...  \n",
       "12  \\nA scammer has reportedly made around $13,000...  \n",
       "13  \\nTalking about RR opener Yashasvi Jaiswal who...  \n",
       "14  \\nEx-West Indies pacer Ian Bishop said CSK pac...  \n",
       "15  \\nFormer England captain Michael Vaughan took ...  \n",
       "16  \\nOpen Network for Digital Commerce (ONDC) CEO...  \n",
       "17  \\nJapan-based Asahi Soft Drinks has announced ...  \n",
       "18  \\nJurassic-era giant animals that lived in sea...  \n",
       "19  \\nThe National Investigation Agency (NIA), whi...  \n",
       "20  \\nBJP's Ahmedabad city unit on Thursday organi...  \n",
       "21  \\nAn Indian-origin father-son duo and another ...  \n",
       "22  \\nA man from the Netherlands reportedly kept h...  \n",
       "23  \\nA body has been found in a New Zealand cave ...  \n",
       "24  \\nOil and Natural Gas Corporation (ONGC) made ...  "
      ]
     },
     "execution_count": 50,
     "metadata": {},
     "output_type": "execute_result"
    }
   ],
   "source": [
    "news_df"
   ]
  },
  {
   "cell_type": "markdown",
   "id": "7c964650",
   "metadata": {},
   "source": [
    "## 7 acquire codeup_df"
   ]
  },
  {
   "cell_type": "code",
   "execution_count": null,
   "id": "805231fd",
   "metadata": {},
   "outputs": [],
   "source": []
  },
  {
   "cell_type": "code",
   "execution_count": null,
   "id": "5e8925bc",
   "metadata": {},
   "outputs": [],
   "source": []
  },
  {
   "cell_type": "code",
   "execution_count": 51,
   "id": "73083f01",
   "metadata": {},
   "outputs": [],
   "source": [
    "url = 'https://www.codeup.com/blog/'\n",
    "url4content = 'https://codeup.com/featured/women-in-tech-panelist-spotlight/'\n",
    "headers = {'User-Agent': 'Codeup Data Science'}\n",
    "response = requests.get(url, headers=headers)\n",
    "soup = BeautifulSoup(response.content, 'html.parser')\n",
    "entry_ctnt = soup.find_all('div',class_='entry-content')"
   ]
  },
  {
   "cell_type": "code",
   "execution_count": null,
   "id": "252f3a4f",
   "metadata": {},
   "outputs": [],
   "source": []
  },
  {
   "cell_type": "code",
   "execution_count": null,
   "id": "f3b95fbb",
   "metadata": {},
   "outputs": [],
   "source": []
  },
  {
   "cell_type": "code",
   "execution_count": 52,
   "id": "01bf09d2",
   "metadata": {},
   "outputs": [],
   "source": [
    "list_of_h2 = soup.find_all('h2',class_='entry-title')"
   ]
  },
  {
   "cell_type": "code",
   "execution_count": 53,
   "id": "05bae680",
   "metadata": {},
   "outputs": [],
   "source": [
    "a_list= []\n",
    "for i in range(0,len(list_of_h2)):\n",
    "    a = list_of_h2[i].find_all('a',href=True)\n",
    "    a_list.append(a)"
   ]
  },
  {
   "cell_type": "code",
   "execution_count": 54,
   "id": "3ff8af16",
   "metadata": {},
   "outputs": [
    {
     "data": {
      "text/plain": [
       "6"
      ]
     },
     "execution_count": 54,
     "metadata": {},
     "output_type": "execute_result"
    }
   ],
   "source": [
    "len(a_list)"
   ]
  },
  {
   "cell_type": "code",
   "execution_count": 55,
   "id": "38a2166e",
   "metadata": {},
   "outputs": [],
   "source": [
    "titles = []\n",
    "for i in range(0,len(a_list)):\n",
    "    a = a_list[i][0].text\n",
    "    titles.append(a)"
   ]
  },
  {
   "cell_type": "code",
   "execution_count": 56,
   "id": "47e5a275",
   "metadata": {},
   "outputs": [
    {
     "data": {
      "text/plain": [
       "6"
      ]
     },
     "execution_count": 56,
     "metadata": {},
     "output_type": "execute_result"
    }
   ],
   "source": [
    "len(titles)"
   ]
  },
  {
   "cell_type": "code",
   "execution_count": 57,
   "id": "adba93fc",
   "metadata": {},
   "outputs": [],
   "source": [
    "href = []\n",
    "for i in range(0,len(a_list)):\n",
    "    h = a_list[i][0]['href']\n",
    "    href.append(h)"
   ]
  },
  {
   "cell_type": "code",
   "execution_count": 58,
   "id": "b4a0b5c1",
   "metadata": {},
   "outputs": [
    {
     "data": {
      "text/plain": [
       "6"
      ]
     },
     "execution_count": 58,
     "metadata": {},
     "output_type": "execute_result"
    }
   ],
   "source": [
    "len(href)"
   ]
  },
  {
   "cell_type": "code",
   "execution_count": 59,
   "id": "1fd8de7e",
   "metadata": {},
   "outputs": [],
   "source": [
    "content = []\n",
    "for i in range(0,len(href)):\n",
    "    url4content = href[i]\n",
    "    headers = {'User-Agent': 'Codeup Data Science'}\n",
    "    response = requests.get(url4content, headers=headers)\n",
    "    soup = BeautifulSoup(response.content, 'html.parser')\n",
    "    entry_ctnt = soup.find_all('div',class_='entry-content')\n",
    "    gacha = entry_ctnt[0].text\n",
    "    content.append(gacha)"
   ]
  },
  {
   "cell_type": "code",
   "execution_count": 60,
   "id": "651cb32e",
   "metadata": {},
   "outputs": [],
   "source": [
    "dictionary = {titles[i]:content[i] for i in range(len(titles[0:6]))}"
   ]
  },
  {
   "cell_type": "code",
   "execution_count": 61,
   "id": "a959cc94",
   "metadata": {},
   "outputs": [
    {
     "data": {
      "text/plain": [
       "{'Women in tech: Panelist Spotlight – Magdalena Rahn': '\\nWomen in tech: Panelist Spotlight – Magdalena Rahn\\nCodeup is hosting a Women in Tech Panel in honor of Women’s History Month on March 29th, 2023! To further celebrate, we’d like to spotlight each of our panelists leading up to the discussion to learn a bit about their respective experiences as women in the tech industry!\\n\\nMeet Magdalena!\\nMagdalena Rahn is a current Codeup student in a Data Science cohort in San Antonio, Texas. She has a professional background in cross-cultural communications, international business development, the wine industry and journalism. After serving in the US Navy, she decided to complement her professional skill set by attending the Data Science program at Codeup; she is set to graduate in March 2023. Magdalena is fluent in French, Bulgarian, Chinese-Mandarin, Spanish and Italian.\\nWe asked Magdalena how Codeup impacted her career, and she replied “Codeup has provided a solid foundation in analytical processes, programming and data science methods, and it’s been an encouragement to have such supportive instructors and wonderful classmates.”\\nDon’t forget to tune in on March 29th to sit in on an insightful conversation with Magdalena.\\n',\n",
       " 'Women in tech: Panelist Spotlight – Rachel Robbins-Mayhill': '\\nWomen in tech: Panelist Spotlight – Rachel Robbins-Mayhill\\nCodeup is hosting a Women in Tech Panel in honor of Women’s History Month on March 29th, 2023! To further celebrate, we’d like to spotlight each of our panelists leading up to the discussion to learn a bit about their respective experiences as women in the tech industry! Meet Rachel!\\n\\nRachel Robbins-Mayhill is a Decision Science Analyst I in San Antonio, Texas. Rachel has had a varied career that includes counseling, teaching, training, community development, and military operations. Her focus has always been on assessing needs, identifying solutions, and educating individuals and groups on aligning needs and solutions in different contexts. Rachel’s passion for data science stems from her belief that data is a powerful tool for communicating patterns that can lead to hope and growth in the future.\\nIn June 2022, Rachel graduated from Codeup’s Innis cohort, where she honed her skills in data science. Shortly after, she started working as a Data Science Technical Writer with Apex Systems as a Contractor for USAA in July 2022. Her unconventional role allowed her to understand where her skills could be best utilized to support USAA in a non-contract role.\\nRachel recently joined USAA’s Data Science Delivery team as a Decision Science Analyst I in February 2023. The team is focused on delivering machine learning models for fraud prevention, and Rachel’s particular role centers around providing strategic process solutions for the team in collaboration with Operational and Model Risk components.\\nIn addition to her career, Rachel is currently pursuing a master’s degree in Applied Data Science from Syracuse University, further expanding her knowledge and skills in the field. Rachel is passionate about collaborating with individuals who share her belief in the potential of others and strive to achieve growth through logical, informed action. She welcomes LinkedIn connections and is excited about supporting the network of CodeUp alumni!\\nWe asked Rachel how Codeup impacted her career, and she replied “Codeup delivered a comprehensive education in all facets of the data science pipeline, laying a strong foundation for me to build upon. Through repeated hands-on practice, I developed a reliable process that was immediately applicable in my job. Collaborative group projects were instrumental in helping me hone my skills in project management, allowing me to navigate complex data science projects with comfortability. Thanks to this invaluable experience, I was able to make significant strides in my career within just six months of graduating from Codeup.”\\nDon’t forget to tune in on March 29th to sit in on an insightful conversation.\\n',\n",
       " 'Women in Tech: Panelist Spotlight – Sarah Mellor': '\\nWomen in tech: Panelist Spotlight – Sarah Mellor\\xa0\\nCodeup is hosting a Women in Tech Panel in honor of Women’s History Month on March 29th, 2023! To further celebrate, we’d like to spotlight each of our panelists leading up to the discussion to learn a bit about their respective experiences as women in the tech industry!\\nMeet Sarah!\\nSarah Mellor currently works as the Director of People Operations. She joined Codeup four and a half years ago as an Admissions Manager. She went on to build out and lead the Marketing and Admissions team, while picking up People Ops tasks and projects here and there until moving over to lead the People Ops team two years ago. Prior to Codeup, she worked at education-focused non-profits in Washington, DC and Boulder, Colorado. She graduated from Wake Forest University.\\nWe asked Sarah how Codeup has impacted her career, and her response was “I have absolutely loved having the privilege to grow alongside Codeup. In my time here across multiple different roles and departments, I’ve seen a lot of change. The consistent things have always been the high quality of passionate and hardworking people I get to work with; the impactful mission we get to work on; and the inspiring students who trust us with their career change.”\\nDon’t forget to tune in on March 29th to sit in on an insightful conversation.\\n',\n",
       " 'Women in Tech: Panelist Spotlight – Madeleine Capper': '\\nWomen in tech: Panelist Spotlight – Madeleine Capper\\nCodeup is hosting a Women in Tech Panel in honor of Women’s History Month on March 29th, 2023! To further celebrate, we’d like to spotlight each of our panelists leading up to the discussion to learn a bit about their respective experiences as women in the tech industry!\\nMeet Madeleine!\\nMadeleine Capper is a Data Scientist in San Antonio, Texas. A long-standing San Antonio resident, she studied mathematics at the University of Texas San Antonio and has worked as a Data Scientist for Booz Allen Hamilton. Madeleine currently teaches Data Science at Codeup, where she works daily with burgeoning data professionals to help them actualize their career aspirations through technical education.\\nMadeleine attended Codeup as a student in early 2019 as a pupil in the very first Codeup Data Science cohort. The program proved immediately effective and she was the first student to obtain a data career out of the program. After working at Booz Allen Hamilton, Madeleine’s passion for education in conjunction with her appreciation for Codeup’s capacity for transformative life change brought her back to the institution in an instructional capacity, where she has been teaching for two years.\\nDon’t forget to tune in on March 29th to sit in on an insightful conversation.\\n',\n",
       " 'Black Excellence in Tech: Panelist Spotlight – Wilmarie De La Cruz Mejia': '\\nBlack excellence in tech: Panelist Spotlight – Wilmarie De La Cruz Mejia\\n\\nCodeup is hosting a Black Excellence in Tech Panel in honor of Black History Month on February 22, 2023! To further celebrate, we’d like to spotlight each of our panelists leading up to the discussion to learn a bit about their respective experiences as black leaders in the tech industry!\\xa0\\xa0\\nMeet Wilmarie!\\nWilmarie De\\xa0La Cruz Mejia is a current Codeup student on the path to becoming a Full-Stack Web Developer at our Dallas, TX campus.\\xa0\\nWilmarie is a veteran expanding her knowledge of programming languages and technologies on her journey with Codeup.\\xa0\\nWe asked Wilmarie to share more about her experience at Codeup. She shares, “I was able to meet other people who were passionate about coding and be in a positive learning environment.”\\nWe hope you can join us on February 22nd to sit in on an insightful conversation with Wilmarie and all of our panelists!\\n',\n",
       " 'Black excellence in tech: Panelist Spotlight – Stephanie Jones': '\\nBlack excellence in tech: Panelist Spotlight – Stephanie Jones\\nCodeup is hosting our second Black Excellence in Tech Panel in honor of Black History Month on February 22, 2023! To further celebrate, we’d like to spotlight each of our panelists leading up to the discussion to learn a bit about their respective experiences as black leaders in the tech industry!\\xa0\\xa0\\nMeet Stephanie!\\n\\nStephanie Jones is an Alumna of Codeup’s Data Science Program (March 2022) and currently works as a Business Intelligence Developer for Victory Capital, a global investment management firm based in San Antonio, TX.\\xa0\\nStephanie is passionate about visual storytelling and, as a late “tech bloomer,” is also an advocate for equitable access and educational opportunities in technology for underserved communities.\\nWe asked Stephanie to share more about her experience at Codeup. She shares, “I have always been a creative and Codeup opened up a world of possibilities by exposing me to advanced technical concepts and career opportunities.” Stephanie also speaks to the community of support in the program and beyond.\\xa0 “The network and support from instructors, mentors, and peers began during the application phase (which was intense), before the program even started, and has carried over even after completing the program and entering into the workforce.”\\nWe hope you can join us on February 22nd to sit in on an insightful conversation with Stephanie and all of our panelists!\\n'}"
      ]
     },
     "execution_count": 61,
     "metadata": {},
     "output_type": "execute_result"
    }
   ],
   "source": [
    "dictionary"
   ]
  },
  {
   "cell_type": "code",
   "execution_count": 62,
   "id": "924a3977",
   "metadata": {},
   "outputs": [],
   "source": [
    "codeup_df = pd.DataFrame(dictionary.items(), columns=['title', 'original'])"
   ]
  },
  {
   "cell_type": "code",
   "execution_count": 63,
   "id": "0ace8de3",
   "metadata": {},
   "outputs": [
    {
     "data": {
      "text/plain": [
       "'\\nWomen in tech: Panelist Spotlight – Magdalena Rahn\\nCodeup is hosting a Women in Tech Panel in honor of Women’s History Month on March 29th, 2023! To further celebrate, we’d like to spotlight each of our panelists leading up to the discussion to learn a bit about their respective experiences as women in the tech industry!\\n\\nMeet Magdalena!\\nMagdalena Rahn is a current Codeup student in a Data Science cohort in San Antonio, Texas. She has a professional background in cross-cultural communications, international business development, the wine industry and journalism. After serving in the US Navy, she decided to complement her professional skill set by attending the Data Science program at Codeup; she is set to graduate in March 2023. Magdalena is fluent in French, Bulgarian, Chinese-Mandarin, Spanish and Italian.\\nWe asked Magdalena how Codeup impacted her career, and she replied “Codeup has provided a solid foundation in analytical processes, programming and data science methods, and it’s been an encouragement to have such supportive instructors and wonderful classmates.”\\nDon’t forget to tune in on March 29th to sit in on an insightful conversation with Magdalena.\\n'"
      ]
     },
     "execution_count": 63,
     "metadata": {},
     "output_type": "execute_result"
    }
   ],
   "source": [
    "codeup_df.iloc[0,1]"
   ]
  },
  {
   "cell_type": "code",
   "execution_count": 64,
   "id": "17af0041",
   "metadata": {},
   "outputs": [
    {
     "data": {
      "text/html": [
       "<div>\n",
       "<style scoped>\n",
       "    .dataframe tbody tr th:only-of-type {\n",
       "        vertical-align: middle;\n",
       "    }\n",
       "\n",
       "    .dataframe tbody tr th {\n",
       "        vertical-align: top;\n",
       "    }\n",
       "\n",
       "    .dataframe thead th {\n",
       "        text-align: right;\n",
       "    }\n",
       "</style>\n",
       "<table border=\"1\" class=\"dataframe\">\n",
       "  <thead>\n",
       "    <tr style=\"text-align: right;\">\n",
       "      <th></th>\n",
       "      <th>title</th>\n",
       "      <th>original</th>\n",
       "    </tr>\n",
       "  </thead>\n",
       "  <tbody>\n",
       "    <tr>\n",
       "      <th>0</th>\n",
       "      <td>Women in tech: Panelist Spotlight – Magdalena ...</td>\n",
       "      <td>\\nWomen in tech: Panelist Spotlight – Magdalen...</td>\n",
       "    </tr>\n",
       "    <tr>\n",
       "      <th>1</th>\n",
       "      <td>Women in tech: Panelist Spotlight – Rachel Rob...</td>\n",
       "      <td>\\nWomen in tech: Panelist Spotlight – Rachel R...</td>\n",
       "    </tr>\n",
       "    <tr>\n",
       "      <th>2</th>\n",
       "      <td>Women in Tech: Panelist Spotlight – Sarah Mellor</td>\n",
       "      <td>\\nWomen in tech: Panelist Spotlight – Sarah Me...</td>\n",
       "    </tr>\n",
       "    <tr>\n",
       "      <th>3</th>\n",
       "      <td>Women in Tech: Panelist Spotlight – Madeleine ...</td>\n",
       "      <td>\\nWomen in tech: Panelist Spotlight – Madelein...</td>\n",
       "    </tr>\n",
       "    <tr>\n",
       "      <th>4</th>\n",
       "      <td>Black Excellence in Tech: Panelist Spotlight –...</td>\n",
       "      <td>\\nBlack excellence in tech: Panelist Spotlight...</td>\n",
       "    </tr>\n",
       "    <tr>\n",
       "      <th>5</th>\n",
       "      <td>Black excellence in tech: Panelist Spotlight –...</td>\n",
       "      <td>\\nBlack excellence in tech: Panelist Spotlight...</td>\n",
       "    </tr>\n",
       "  </tbody>\n",
       "</table>\n",
       "</div>"
      ],
      "text/plain": [
       "                                               title  \\\n",
       "0  Women in tech: Panelist Spotlight – Magdalena ...   \n",
       "1  Women in tech: Panelist Spotlight – Rachel Rob...   \n",
       "2   Women in Tech: Panelist Spotlight – Sarah Mellor   \n",
       "3  Women in Tech: Panelist Spotlight – Madeleine ...   \n",
       "4  Black Excellence in Tech: Panelist Spotlight –...   \n",
       "5  Black excellence in tech: Panelist Spotlight –...   \n",
       "\n",
       "                                            original  \n",
       "0  \\nWomen in tech: Panelist Spotlight – Magdalen...  \n",
       "1  \\nWomen in tech: Panelist Spotlight – Rachel R...  \n",
       "2  \\nWomen in tech: Panelist Spotlight – Sarah Me...  \n",
       "3  \\nWomen in tech: Panelist Spotlight – Madelein...  \n",
       "4  \\nBlack excellence in tech: Panelist Spotlight...  \n",
       "5  \\nBlack excellence in tech: Panelist Spotlight...  "
      ]
     },
     "execution_count": 64,
     "metadata": {},
     "output_type": "execute_result"
    }
   ],
   "source": [
    "codeup_df"
   ]
  },
  {
   "cell_type": "markdown",
   "id": "062b611c",
   "metadata": {},
   "source": [
    "### 8 dataframes with new columns"
   ]
  },
  {
   "cell_type": "code",
   "execution_count": 65,
   "id": "53919be1",
   "metadata": {},
   "outputs": [],
   "source": [
    "#news_df codeup_df"
   ]
  },
  {
   "cell_type": "code",
   "execution_count": 66,
   "id": "879d2895",
   "metadata": {},
   "outputs": [],
   "source": [
    "news_df['clean'] = news_df['original'].apply(basic_clean)"
   ]
  },
  {
   "cell_type": "code",
   "execution_count": 67,
   "id": "0cee91e1",
   "metadata": {},
   "outputs": [
    {
     "data": {
      "text/html": [
       "<div>\n",
       "<style scoped>\n",
       "    .dataframe tbody tr th:only-of-type {\n",
       "        vertical-align: middle;\n",
       "    }\n",
       "\n",
       "    .dataframe tbody tr th {\n",
       "        vertical-align: top;\n",
       "    }\n",
       "\n",
       "    .dataframe thead th {\n",
       "        text-align: right;\n",
       "    }\n",
       "</style>\n",
       "<table border=\"1\" class=\"dataframe\">\n",
       "  <thead>\n",
       "    <tr style=\"text-align: right;\">\n",
       "      <th></th>\n",
       "      <th>title</th>\n",
       "      <th>original</th>\n",
       "      <th>clean</th>\n",
       "    </tr>\n",
       "  </thead>\n",
       "  <tbody>\n",
       "    <tr>\n",
       "      <th>0</th>\n",
       "      <td>RR's Yashasvi Jaiswal smashes fastest fifty in...</td>\n",
       "      <td>\\nRajasthan Royals (RR) opener Yashasvi Jaiswa...</td>\n",
       "      <td>\\nrajasthan royals rr opener yashasvi jaiswal ...</td>\n",
       "    </tr>\n",
       "    <tr>\n",
       "      <th>1</th>\n",
       "      <td>Rajasthan Royals record biggest win of IPL 202...</td>\n",
       "      <td>\\nRajasthan Royals (RR) on Thursday recorded t...</td>\n",
       "      <td>\\nrajasthan royals rr on thursday recorded the...</td>\n",
       "    </tr>\n",
       "    <tr>\n",
       "      <th>2</th>\n",
       "      <td>RR break record for scoring most runs in 1st o...</td>\n",
       "      <td>\\nRR on Thursday broke the record for scoring ...</td>\n",
       "      <td>\\nrr on thursday broke the record for scoring ...</td>\n",
       "    </tr>\n",
       "    <tr>\n",
       "      <th>3</th>\n",
       "      <td>Which Indians have smashed fifty off 15 or les...</td>\n",
       "      <td>\\nRR's Yashasvi Jaiswal today slammed the fast...</td>\n",
       "      <td>\\nrr's yashasvi jaiswal today slammed the fast...</td>\n",
       "    </tr>\n",
       "    <tr>\n",
       "      <th>4</th>\n",
       "      <td>Laxman Sivaramakrishnan mocks Kamal Haasan ove...</td>\n",
       "      <td>\\nEx-India spinner Laxman Sivaramakrishnan too...</td>\n",
       "      <td>\\nexindia spinner laxman sivaramakrishnan took...</td>\n",
       "    </tr>\n",
       "    <tr>\n",
       "      <th>5</th>\n",
       "      <td>2 killed in shooting at Mercedes plant in Germ...</td>\n",
       "      <td>\\nTwo persons were killed in a shooting inside...</td>\n",
       "      <td>\\ntwo persons were killed in a shooting inside...</td>\n",
       "    </tr>\n",
       "    <tr>\n",
       "      <th>6</th>\n",
       "      <td>PM Modi shares video on 25th anniversary of Po...</td>\n",
       "      <td>\\nOn the 25th anniversary of Pokhran nuclear t...</td>\n",
       "      <td>\\non the 25th anniversary of pokhran nuclear t...</td>\n",
       "    </tr>\n",
       "    <tr>\n",
       "      <th>7</th>\n",
       "      <td>99 jail officials transferred after gangster's...</td>\n",
       "      <td>\\nAs many as 99 jail officials in Delhi were t...</td>\n",
       "      <td>\\nas many as 99 jail officials in delhi were t...</td>\n",
       "    </tr>\n",
       "    <tr>\n",
       "      <th>8</th>\n",
       "      <td>3-storey building collapses in Guj; 4 feared t...</td>\n",
       "      <td>\\nA 3-storey building collapsed in the Vejalpu...</td>\n",
       "      <td>\\na 3storey building collapsed in the vejalpur...</td>\n",
       "    </tr>\n",
       "    <tr>\n",
       "      <th>9</th>\n",
       "      <td>Commando martyred, 5 injured in shootout with ...</td>\n",
       "      <td>\\nAt least one Manipur police commando lost hi...</td>\n",
       "      <td>\\nat least one manipur police commando lost hi...</td>\n",
       "    </tr>\n",
       "    <tr>\n",
       "      <th>10</th>\n",
       "      <td>Power of Bhutto's house goes off during presse...</td>\n",
       "      <td>\\nThe electricity of Pakistan's Foreign Minist...</td>\n",
       "      <td>\\nthe electricity of pakistan's foreign minist...</td>\n",
       "    </tr>\n",
       "    <tr>\n",
       "      <th>11</th>\n",
       "      <td>Father was alcoholic, I sold pens on footpath:...</td>\n",
       "      <td>\\nComedian-actor Johny Lever opened up about d...</td>\n",
       "      <td>\\ncomedianactor johny lever opened up about di...</td>\n",
       "    </tr>\n",
       "    <tr>\n",
       "      <th>12</th>\n",
       "      <td>Scammer sells AI-generated Frank Ocean songs f...</td>\n",
       "      <td>\\nA scammer has reportedly made around $13,000...</td>\n",
       "      <td>\\na scammer has reportedly made around 13000 c...</td>\n",
       "    </tr>\n",
       "    <tr>\n",
       "      <th>13</th>\n",
       "      <td>One of the most dramatic 3 overs I've called: ...</td>\n",
       "      <td>\\nTalking about RR opener Yashasvi Jaiswal who...</td>\n",
       "      <td>\\ntalking about rr opener yashasvi jaiswal who...</td>\n",
       "    </tr>\n",
       "    <tr>\n",
       "      <th>14</th>\n",
       "      <td>Pathirana's brutal at 20, I hadn't understood ...</td>\n",
       "      <td>\\nEx-West Indies pacer Ian Bishop said CSK pac...</td>\n",
       "      <td>\\nexwest indies pacer ian bishop said csk pace...</td>\n",
       "    </tr>\n",
       "    <tr>\n",
       "      <th>15</th>\n",
       "      <td>Would've taken Jaiswal as Rahul replacement: V...</td>\n",
       "      <td>\\nFormer England captain Michael Vaughan took ...</td>\n",
       "      <td>\\nformer england captain michael vaughan took ...</td>\n",
       "    </tr>\n",
       "    <tr>\n",
       "      <th>16</th>\n",
       "      <td>Joining ONDC will become market compulsion for...</td>\n",
       "      <td>\\nOpen Network for Digital Commerce (ONDC) CEO...</td>\n",
       "      <td>\\nopen network for digital commerce ondc ceo t...</td>\n",
       "    </tr>\n",
       "    <tr>\n",
       "      <th>17</th>\n",
       "      <td>Japanese soft drinks firm to test CO2 absorbin...</td>\n",
       "      <td>\\nJapan-based Asahi Soft Drinks has announced ...</td>\n",
       "      <td>\\njapanbased asahi soft drinks has announced i...</td>\n",
       "    </tr>\n",
       "    <tr>\n",
       "      <th>18</th>\n",
       "      <td>Jurassic-era sea giants were twice as big as k...</td>\n",
       "      <td>\\nJurassic-era giant animals that lived in sea...</td>\n",
       "      <td>\\njurassicera giant animals that lived in seas...</td>\n",
       "    </tr>\n",
       "    <tr>\n",
       "      <th>19</th>\n",
       "      <td>Kerala train fire accused inspired by preacher...</td>\n",
       "      <td>\\nThe National Investigation Agency (NIA), whi...</td>\n",
       "      <td>\\nthe national investigation agency nia which ...</td>\n",
       "    </tr>\n",
       "    <tr>\n",
       "      <th>20</th>\n",
       "      <td>Ahmedabad BJP organises screenings of 'Kerala ...</td>\n",
       "      <td>\\nBJP's Ahmedabad city unit on Thursday organi...</td>\n",
       "      <td>\\nbjp's ahmedabad city unit on thursday organi...</td>\n",
       "    </tr>\n",
       "    <tr>\n",
       "      <th>21</th>\n",
       "      <td>3 Indian-origin men sell drugs on dark web in ...</td>\n",
       "      <td>\\nAn Indian-origin father-son duo and another ...</td>\n",
       "      <td>\\nan indianorigin fatherson duo and another pe...</td>\n",
       "    </tr>\n",
       "    <tr>\n",
       "      <th>22</th>\n",
       "      <td>Dutch man keeps 101-yr-old father's body in fr...</td>\n",
       "      <td>\\nA man from the Netherlands reportedly kept h...</td>\n",
       "      <td>\\na man from the netherlands reportedly kept h...</td>\n",
       "    </tr>\n",
       "    <tr>\n",
       "      <th>23</th>\n",
       "      <td>Body of teen found who was lost in New Zealand...</td>\n",
       "      <td>\\nA body has been found in a New Zealand cave ...</td>\n",
       "      <td>\\na body has been found in a new zealand cave ...</td>\n",
       "    </tr>\n",
       "    <tr>\n",
       "      <th>24</th>\n",
       "      <td>ONGC discovers oil, gas in 2 Mumbai offshore b...</td>\n",
       "      <td>\\nOil and Natural Gas Corporation (ONGC) made ...</td>\n",
       "      <td>\\noil and natural gas corporation ongc made di...</td>\n",
       "    </tr>\n",
       "  </tbody>\n",
       "</table>\n",
       "</div>"
      ],
      "text/plain": [
       "                                                title  \\\n",
       "0   RR's Yashasvi Jaiswal smashes fastest fifty in...   \n",
       "1   Rajasthan Royals record biggest win of IPL 202...   \n",
       "2   RR break record for scoring most runs in 1st o...   \n",
       "3   Which Indians have smashed fifty off 15 or les...   \n",
       "4   Laxman Sivaramakrishnan mocks Kamal Haasan ove...   \n",
       "5   2 killed in shooting at Mercedes plant in Germ...   \n",
       "6   PM Modi shares video on 25th anniversary of Po...   \n",
       "7   99 jail officials transferred after gangster's...   \n",
       "8   3-storey building collapses in Guj; 4 feared t...   \n",
       "9   Commando martyred, 5 injured in shootout with ...   \n",
       "10  Power of Bhutto's house goes off during presse...   \n",
       "11  Father was alcoholic, I sold pens on footpath:...   \n",
       "12  Scammer sells AI-generated Frank Ocean songs f...   \n",
       "13  One of the most dramatic 3 overs I've called: ...   \n",
       "14  Pathirana's brutal at 20, I hadn't understood ...   \n",
       "15  Would've taken Jaiswal as Rahul replacement: V...   \n",
       "16  Joining ONDC will become market compulsion for...   \n",
       "17  Japanese soft drinks firm to test CO2 absorbin...   \n",
       "18  Jurassic-era sea giants were twice as big as k...   \n",
       "19  Kerala train fire accused inspired by preacher...   \n",
       "20  Ahmedabad BJP organises screenings of 'Kerala ...   \n",
       "21  3 Indian-origin men sell drugs on dark web in ...   \n",
       "22  Dutch man keeps 101-yr-old father's body in fr...   \n",
       "23  Body of teen found who was lost in New Zealand...   \n",
       "24  ONGC discovers oil, gas in 2 Mumbai offshore b...   \n",
       "\n",
       "                                             original  \\\n",
       "0   \\nRajasthan Royals (RR) opener Yashasvi Jaiswa...   \n",
       "1   \\nRajasthan Royals (RR) on Thursday recorded t...   \n",
       "2   \\nRR on Thursday broke the record for scoring ...   \n",
       "3   \\nRR's Yashasvi Jaiswal today slammed the fast...   \n",
       "4   \\nEx-India spinner Laxman Sivaramakrishnan too...   \n",
       "5   \\nTwo persons were killed in a shooting inside...   \n",
       "6   \\nOn the 25th anniversary of Pokhran nuclear t...   \n",
       "7   \\nAs many as 99 jail officials in Delhi were t...   \n",
       "8   \\nA 3-storey building collapsed in the Vejalpu...   \n",
       "9   \\nAt least one Manipur police commando lost hi...   \n",
       "10  \\nThe electricity of Pakistan's Foreign Minist...   \n",
       "11  \\nComedian-actor Johny Lever opened up about d...   \n",
       "12  \\nA scammer has reportedly made around $13,000...   \n",
       "13  \\nTalking about RR opener Yashasvi Jaiswal who...   \n",
       "14  \\nEx-West Indies pacer Ian Bishop said CSK pac...   \n",
       "15  \\nFormer England captain Michael Vaughan took ...   \n",
       "16  \\nOpen Network for Digital Commerce (ONDC) CEO...   \n",
       "17  \\nJapan-based Asahi Soft Drinks has announced ...   \n",
       "18  \\nJurassic-era giant animals that lived in sea...   \n",
       "19  \\nThe National Investigation Agency (NIA), whi...   \n",
       "20  \\nBJP's Ahmedabad city unit on Thursday organi...   \n",
       "21  \\nAn Indian-origin father-son duo and another ...   \n",
       "22  \\nA man from the Netherlands reportedly kept h...   \n",
       "23  \\nA body has been found in a New Zealand cave ...   \n",
       "24  \\nOil and Natural Gas Corporation (ONGC) made ...   \n",
       "\n",
       "                                                clean  \n",
       "0   \\nrajasthan royals rr opener yashasvi jaiswal ...  \n",
       "1   \\nrajasthan royals rr on thursday recorded the...  \n",
       "2   \\nrr on thursday broke the record for scoring ...  \n",
       "3   \\nrr's yashasvi jaiswal today slammed the fast...  \n",
       "4   \\nexindia spinner laxman sivaramakrishnan took...  \n",
       "5   \\ntwo persons were killed in a shooting inside...  \n",
       "6   \\non the 25th anniversary of pokhran nuclear t...  \n",
       "7   \\nas many as 99 jail officials in delhi were t...  \n",
       "8   \\na 3storey building collapsed in the vejalpur...  \n",
       "9   \\nat least one manipur police commando lost hi...  \n",
       "10  \\nthe electricity of pakistan's foreign minist...  \n",
       "11  \\ncomedianactor johny lever opened up about di...  \n",
       "12  \\na scammer has reportedly made around 13000 c...  \n",
       "13  \\ntalking about rr opener yashasvi jaiswal who...  \n",
       "14  \\nexwest indies pacer ian bishop said csk pace...  \n",
       "15  \\nformer england captain michael vaughan took ...  \n",
       "16  \\nopen network for digital commerce ondc ceo t...  \n",
       "17  \\njapanbased asahi soft drinks has announced i...  \n",
       "18  \\njurassicera giant animals that lived in seas...  \n",
       "19  \\nthe national investigation agency nia which ...  \n",
       "20  \\nbjp's ahmedabad city unit on thursday organi...  \n",
       "21  \\nan indianorigin fatherson duo and another pe...  \n",
       "22  \\na man from the netherlands reportedly kept h...  \n",
       "23  \\na body has been found in a new zealand cave ...  \n",
       "24  \\noil and natural gas corporation ongc made di...  "
      ]
     },
     "execution_count": 67,
     "metadata": {},
     "output_type": "execute_result"
    }
   ],
   "source": [
    "news_df"
   ]
  },
  {
   "cell_type": "code",
   "execution_count": 68,
   "id": "773f9038",
   "metadata": {},
   "outputs": [],
   "source": [
    "news_df['temp'] = news_df['clean'].apply(tokenize)"
   ]
  },
  {
   "cell_type": "code",
   "execution_count": 69,
   "id": "2acb7286",
   "metadata": {},
   "outputs": [],
   "source": [
    "news_df['stemmed'] = news_df['temp'].apply(stem)"
   ]
  },
  {
   "cell_type": "code",
   "execution_count": 70,
   "id": "8f656690",
   "metadata": {},
   "outputs": [
    {
     "data": {
      "text/html": [
       "<div>\n",
       "<style scoped>\n",
       "    .dataframe tbody tr th:only-of-type {\n",
       "        vertical-align: middle;\n",
       "    }\n",
       "\n",
       "    .dataframe tbody tr th {\n",
       "        vertical-align: top;\n",
       "    }\n",
       "\n",
       "    .dataframe thead th {\n",
       "        text-align: right;\n",
       "    }\n",
       "</style>\n",
       "<table border=\"1\" class=\"dataframe\">\n",
       "  <thead>\n",
       "    <tr style=\"text-align: right;\">\n",
       "      <th></th>\n",
       "      <th>title</th>\n",
       "      <th>original</th>\n",
       "      <th>clean</th>\n",
       "      <th>temp</th>\n",
       "      <th>stemmed</th>\n",
       "    </tr>\n",
       "  </thead>\n",
       "  <tbody>\n",
       "    <tr>\n",
       "      <th>0</th>\n",
       "      <td>RR's Yashasvi Jaiswal smashes fastest fifty in...</td>\n",
       "      <td>\\nRajasthan Royals (RR) opener Yashasvi Jaiswa...</td>\n",
       "      <td>\\nrajasthan royals rr opener yashasvi jaiswal ...</td>\n",
       "      <td>rajasthan royals rr opener yashasvi jaiswal on...</td>\n",
       "      <td>rajasthan royal rr open yashasvi jaiswal on th...</td>\n",
       "    </tr>\n",
       "    <tr>\n",
       "      <th>1</th>\n",
       "      <td>Rajasthan Royals record biggest win of IPL 202...</td>\n",
       "      <td>\\nRajasthan Royals (RR) on Thursday recorded t...</td>\n",
       "      <td>\\nrajasthan royals rr on thursday recorded the...</td>\n",
       "      <td>rajasthan royals rr on thursday recorded the b...</td>\n",
       "      <td>rajasthan royal rr on thursday record the bigg...</td>\n",
       "    </tr>\n",
       "    <tr>\n",
       "      <th>2</th>\n",
       "      <td>RR break record for scoring most runs in 1st o...</td>\n",
       "      <td>\\nRR on Thursday broke the record for scoring ...</td>\n",
       "      <td>\\nrr on thursday broke the record for scoring ...</td>\n",
       "      <td>rr on thursday broke the record for scoring mo...</td>\n",
       "      <td>rr on thursday broke the record for score most...</td>\n",
       "    </tr>\n",
       "    <tr>\n",
       "      <th>3</th>\n",
       "      <td>Which Indians have smashed fifty off 15 or les...</td>\n",
       "      <td>\\nRR's Yashasvi Jaiswal today slammed the fast...</td>\n",
       "      <td>\\nrr's yashasvi jaiswal today slammed the fast...</td>\n",
       "      <td>rr ' s yashasvi jaiswal today slammed the fast...</td>\n",
       "      <td>rr ' s yashasvi jaiswal today slam the fastest...</td>\n",
       "    </tr>\n",
       "    <tr>\n",
       "      <th>4</th>\n",
       "      <td>Laxman Sivaramakrishnan mocks Kamal Haasan ove...</td>\n",
       "      <td>\\nEx-India spinner Laxman Sivaramakrishnan too...</td>\n",
       "      <td>\\nexindia spinner laxman sivaramakrishnan took...</td>\n",
       "      <td>exindia spinner laxman sivaramakrishnan took a...</td>\n",
       "      <td>exindia spinner laxman sivaramakrishnan took a...</td>\n",
       "    </tr>\n",
       "    <tr>\n",
       "      <th>5</th>\n",
       "      <td>2 killed in shooting at Mercedes plant in Germ...</td>\n",
       "      <td>\\nTwo persons were killed in a shooting inside...</td>\n",
       "      <td>\\ntwo persons were killed in a shooting inside...</td>\n",
       "      <td>two persons were killed in a shooting inside a...</td>\n",
       "      <td>two person were kill in a shoot insid a merced...</td>\n",
       "    </tr>\n",
       "    <tr>\n",
       "      <th>6</th>\n",
       "      <td>PM Modi shares video on 25th anniversary of Po...</td>\n",
       "      <td>\\nOn the 25th anniversary of Pokhran nuclear t...</td>\n",
       "      <td>\\non the 25th anniversary of pokhran nuclear t...</td>\n",
       "      <td>on the 25th anniversary of pokhran nuclear tes...</td>\n",
       "      <td>on the 25th anniversari of pokhran nuclear tes...</td>\n",
       "    </tr>\n",
       "    <tr>\n",
       "      <th>7</th>\n",
       "      <td>99 jail officials transferred after gangster's...</td>\n",
       "      <td>\\nAs many as 99 jail officials in Delhi were t...</td>\n",
       "      <td>\\nas many as 99 jail officials in delhi were t...</td>\n",
       "      <td>as many as 99 jail officials in delhi were tra...</td>\n",
       "      <td>as mani as 99 jail offici in delhi were transf...</td>\n",
       "    </tr>\n",
       "    <tr>\n",
       "      <th>8</th>\n",
       "      <td>3-storey building collapses in Guj; 4 feared t...</td>\n",
       "      <td>\\nA 3-storey building collapsed in the Vejalpu...</td>\n",
       "      <td>\\na 3storey building collapsed in the vejalpur...</td>\n",
       "      <td>a 3storey building collapsed in the vejalpur a...</td>\n",
       "      <td>a 3storey build collaps in the vejalpur area o...</td>\n",
       "    </tr>\n",
       "    <tr>\n",
       "      <th>9</th>\n",
       "      <td>Commando martyred, 5 injured in shootout with ...</td>\n",
       "      <td>\\nAt least one Manipur police commando lost hi...</td>\n",
       "      <td>\\nat least one manipur police commando lost hi...</td>\n",
       "      <td>at least one manipur police commando lost his ...</td>\n",
       "      <td>at least one manipur polic commando lost hi li...</td>\n",
       "    </tr>\n",
       "    <tr>\n",
       "      <th>10</th>\n",
       "      <td>Power of Bhutto's house goes off during presse...</td>\n",
       "      <td>\\nThe electricity of Pakistan's Foreign Minist...</td>\n",
       "      <td>\\nthe electricity of pakistan's foreign minist...</td>\n",
       "      <td>the electricity of pakistan ' s foreign minist...</td>\n",
       "      <td>the electr of pakistan ' s foreign minist bila...</td>\n",
       "    </tr>\n",
       "    <tr>\n",
       "      <th>11</th>\n",
       "      <td>Father was alcoholic, I sold pens on footpath:...</td>\n",
       "      <td>\\nComedian-actor Johny Lever opened up about d...</td>\n",
       "      <td>\\ncomedianactor johny lever opened up about di...</td>\n",
       "      <td>comedianactor johny lever opened up about diff...</td>\n",
       "      <td>comedianactor johni lever open up about diffic...</td>\n",
       "    </tr>\n",
       "    <tr>\n",
       "      <th>12</th>\n",
       "      <td>Scammer sells AI-generated Frank Ocean songs f...</td>\n",
       "      <td>\\nA scammer has reportedly made around $13,000...</td>\n",
       "      <td>\\na scammer has reportedly made around 13000 c...</td>\n",
       "      <td>a scammer has reportedly made around 13000 cad...</td>\n",
       "      <td>a scammer ha reportedli made around 13000 cad ...</td>\n",
       "    </tr>\n",
       "    <tr>\n",
       "      <th>13</th>\n",
       "      <td>One of the most dramatic 3 overs I've called: ...</td>\n",
       "      <td>\\nTalking about RR opener Yashasvi Jaiswal who...</td>\n",
       "      <td>\\ntalking about rr opener yashasvi jaiswal who...</td>\n",
       "      <td>talking about rr opener yashasvi jaiswal who s...</td>\n",
       "      <td>talk about rr open yashasvi jaiswal who slam t...</td>\n",
       "    </tr>\n",
       "    <tr>\n",
       "      <th>14</th>\n",
       "      <td>Pathirana's brutal at 20, I hadn't understood ...</td>\n",
       "      <td>\\nEx-West Indies pacer Ian Bishop said CSK pac...</td>\n",
       "      <td>\\nexwest indies pacer ian bishop said csk pace...</td>\n",
       "      <td>exwest indies pacer ian bishop said csk pacer ...</td>\n",
       "      <td>exwest indi pacer ian bishop said csk pacer ma...</td>\n",
       "    </tr>\n",
       "    <tr>\n",
       "      <th>15</th>\n",
       "      <td>Would've taken Jaiswal as Rahul replacement: V...</td>\n",
       "      <td>\\nFormer England captain Michael Vaughan took ...</td>\n",
       "      <td>\\nformer england captain michael vaughan took ...</td>\n",
       "      <td>former england captain michael vaughan took to...</td>\n",
       "      <td>former england captain michael vaughan took to...</td>\n",
       "    </tr>\n",
       "    <tr>\n",
       "      <th>16</th>\n",
       "      <td>Joining ONDC will become market compulsion for...</td>\n",
       "      <td>\\nOpen Network for Digital Commerce (ONDC) CEO...</td>\n",
       "      <td>\\nopen network for digital commerce ondc ceo t...</td>\n",
       "      <td>open network for digital commerce ondc ceo t k...</td>\n",
       "      <td>open network for digit commerc ondc ceo t kosh...</td>\n",
       "    </tr>\n",
       "    <tr>\n",
       "      <th>17</th>\n",
       "      <td>Japanese soft drinks firm to test CO2 absorbin...</td>\n",
       "      <td>\\nJapan-based Asahi Soft Drinks has announced ...</td>\n",
       "      <td>\\njapanbased asahi soft drinks has announced i...</td>\n",
       "      <td>japanbased asahi soft drinks has announced it ...</td>\n",
       "      <td>japanbas asahi soft drink ha announc it would ...</td>\n",
       "    </tr>\n",
       "    <tr>\n",
       "      <th>18</th>\n",
       "      <td>Jurassic-era sea giants were twice as big as k...</td>\n",
       "      <td>\\nJurassic-era giant animals that lived in sea...</td>\n",
       "      <td>\\njurassicera giant animals that lived in seas...</td>\n",
       "      <td>jurassicera giant animals that lived in seas w...</td>\n",
       "      <td>jurassicera giant anim that live in sea were t...</td>\n",
       "    </tr>\n",
       "    <tr>\n",
       "      <th>19</th>\n",
       "      <td>Kerala train fire accused inspired by preacher...</td>\n",
       "      <td>\\nThe National Investigation Agency (NIA), whi...</td>\n",
       "      <td>\\nthe national investigation agency nia which ...</td>\n",
       "      <td>the national investigation agency nia which is...</td>\n",
       "      <td>the nation investig agenc nia which is probe t...</td>\n",
       "    </tr>\n",
       "    <tr>\n",
       "      <th>20</th>\n",
       "      <td>Ahmedabad BJP organises screenings of 'Kerala ...</td>\n",
       "      <td>\\nBJP's Ahmedabad city unit on Thursday organi...</td>\n",
       "      <td>\\nbjp's ahmedabad city unit on thursday organi...</td>\n",
       "      <td>bjp ' s ahmedabad city unit on thursday organi...</td>\n",
       "      <td>bjp ' s ahmedabad citi unit on thursday organi...</td>\n",
       "    </tr>\n",
       "    <tr>\n",
       "      <th>21</th>\n",
       "      <td>3 Indian-origin men sell drugs on dark web in ...</td>\n",
       "      <td>\\nAn Indian-origin father-son duo and another ...</td>\n",
       "      <td>\\nan indianorigin fatherson duo and another pe...</td>\n",
       "      <td>an indianorigin fatherson duo and another pers...</td>\n",
       "      <td>an indianorigin fatherson duo and anoth person...</td>\n",
       "    </tr>\n",
       "    <tr>\n",
       "      <th>22</th>\n",
       "      <td>Dutch man keeps 101-yr-old father's body in fr...</td>\n",
       "      <td>\\nA man from the Netherlands reportedly kept h...</td>\n",
       "      <td>\\na man from the netherlands reportedly kept h...</td>\n",
       "      <td>a man from the netherlands reportedly kept his...</td>\n",
       "      <td>a man from the netherland reportedli kept hi 1...</td>\n",
       "    </tr>\n",
       "    <tr>\n",
       "      <th>23</th>\n",
       "      <td>Body of teen found who was lost in New Zealand...</td>\n",
       "      <td>\\nA body has been found in a New Zealand cave ...</td>\n",
       "      <td>\\na body has been found in a new zealand cave ...</td>\n",
       "      <td>a body has been found in a new zealand cave wh...</td>\n",
       "      <td>a bodi ha been found in a new zealand cave whe...</td>\n",
       "    </tr>\n",
       "    <tr>\n",
       "      <th>24</th>\n",
       "      <td>ONGC discovers oil, gas in 2 Mumbai offshore b...</td>\n",
       "      <td>\\nOil and Natural Gas Corporation (ONGC) made ...</td>\n",
       "      <td>\\noil and natural gas corporation ongc made di...</td>\n",
       "      <td>oil and natural gas corporation ongc made disc...</td>\n",
       "      <td>oil and natur ga corpor ongc made discoveri of...</td>\n",
       "    </tr>\n",
       "  </tbody>\n",
       "</table>\n",
       "</div>"
      ],
      "text/plain": [
       "                                                title  \\\n",
       "0   RR's Yashasvi Jaiswal smashes fastest fifty in...   \n",
       "1   Rajasthan Royals record biggest win of IPL 202...   \n",
       "2   RR break record for scoring most runs in 1st o...   \n",
       "3   Which Indians have smashed fifty off 15 or les...   \n",
       "4   Laxman Sivaramakrishnan mocks Kamal Haasan ove...   \n",
       "5   2 killed in shooting at Mercedes plant in Germ...   \n",
       "6   PM Modi shares video on 25th anniversary of Po...   \n",
       "7   99 jail officials transferred after gangster's...   \n",
       "8   3-storey building collapses in Guj; 4 feared t...   \n",
       "9   Commando martyred, 5 injured in shootout with ...   \n",
       "10  Power of Bhutto's house goes off during presse...   \n",
       "11  Father was alcoholic, I sold pens on footpath:...   \n",
       "12  Scammer sells AI-generated Frank Ocean songs f...   \n",
       "13  One of the most dramatic 3 overs I've called: ...   \n",
       "14  Pathirana's brutal at 20, I hadn't understood ...   \n",
       "15  Would've taken Jaiswal as Rahul replacement: V...   \n",
       "16  Joining ONDC will become market compulsion for...   \n",
       "17  Japanese soft drinks firm to test CO2 absorbin...   \n",
       "18  Jurassic-era sea giants were twice as big as k...   \n",
       "19  Kerala train fire accused inspired by preacher...   \n",
       "20  Ahmedabad BJP organises screenings of 'Kerala ...   \n",
       "21  3 Indian-origin men sell drugs on dark web in ...   \n",
       "22  Dutch man keeps 101-yr-old father's body in fr...   \n",
       "23  Body of teen found who was lost in New Zealand...   \n",
       "24  ONGC discovers oil, gas in 2 Mumbai offshore b...   \n",
       "\n",
       "                                             original  \\\n",
       "0   \\nRajasthan Royals (RR) opener Yashasvi Jaiswa...   \n",
       "1   \\nRajasthan Royals (RR) on Thursday recorded t...   \n",
       "2   \\nRR on Thursday broke the record for scoring ...   \n",
       "3   \\nRR's Yashasvi Jaiswal today slammed the fast...   \n",
       "4   \\nEx-India spinner Laxman Sivaramakrishnan too...   \n",
       "5   \\nTwo persons were killed in a shooting inside...   \n",
       "6   \\nOn the 25th anniversary of Pokhran nuclear t...   \n",
       "7   \\nAs many as 99 jail officials in Delhi were t...   \n",
       "8   \\nA 3-storey building collapsed in the Vejalpu...   \n",
       "9   \\nAt least one Manipur police commando lost hi...   \n",
       "10  \\nThe electricity of Pakistan's Foreign Minist...   \n",
       "11  \\nComedian-actor Johny Lever opened up about d...   \n",
       "12  \\nA scammer has reportedly made around $13,000...   \n",
       "13  \\nTalking about RR opener Yashasvi Jaiswal who...   \n",
       "14  \\nEx-West Indies pacer Ian Bishop said CSK pac...   \n",
       "15  \\nFormer England captain Michael Vaughan took ...   \n",
       "16  \\nOpen Network for Digital Commerce (ONDC) CEO...   \n",
       "17  \\nJapan-based Asahi Soft Drinks has announced ...   \n",
       "18  \\nJurassic-era giant animals that lived in sea...   \n",
       "19  \\nThe National Investigation Agency (NIA), whi...   \n",
       "20  \\nBJP's Ahmedabad city unit on Thursday organi...   \n",
       "21  \\nAn Indian-origin father-son duo and another ...   \n",
       "22  \\nA man from the Netherlands reportedly kept h...   \n",
       "23  \\nA body has been found in a New Zealand cave ...   \n",
       "24  \\nOil and Natural Gas Corporation (ONGC) made ...   \n",
       "\n",
       "                                                clean  \\\n",
       "0   \\nrajasthan royals rr opener yashasvi jaiswal ...   \n",
       "1   \\nrajasthan royals rr on thursday recorded the...   \n",
       "2   \\nrr on thursday broke the record for scoring ...   \n",
       "3   \\nrr's yashasvi jaiswal today slammed the fast...   \n",
       "4   \\nexindia spinner laxman sivaramakrishnan took...   \n",
       "5   \\ntwo persons were killed in a shooting inside...   \n",
       "6   \\non the 25th anniversary of pokhran nuclear t...   \n",
       "7   \\nas many as 99 jail officials in delhi were t...   \n",
       "8   \\na 3storey building collapsed in the vejalpur...   \n",
       "9   \\nat least one manipur police commando lost hi...   \n",
       "10  \\nthe electricity of pakistan's foreign minist...   \n",
       "11  \\ncomedianactor johny lever opened up about di...   \n",
       "12  \\na scammer has reportedly made around 13000 c...   \n",
       "13  \\ntalking about rr opener yashasvi jaiswal who...   \n",
       "14  \\nexwest indies pacer ian bishop said csk pace...   \n",
       "15  \\nformer england captain michael vaughan took ...   \n",
       "16  \\nopen network for digital commerce ondc ceo t...   \n",
       "17  \\njapanbased asahi soft drinks has announced i...   \n",
       "18  \\njurassicera giant animals that lived in seas...   \n",
       "19  \\nthe national investigation agency nia which ...   \n",
       "20  \\nbjp's ahmedabad city unit on thursday organi...   \n",
       "21  \\nan indianorigin fatherson duo and another pe...   \n",
       "22  \\na man from the netherlands reportedly kept h...   \n",
       "23  \\na body has been found in a new zealand cave ...   \n",
       "24  \\noil and natural gas corporation ongc made di...   \n",
       "\n",
       "                                                 temp  \\\n",
       "0   rajasthan royals rr opener yashasvi jaiswal on...   \n",
       "1   rajasthan royals rr on thursday recorded the b...   \n",
       "2   rr on thursday broke the record for scoring mo...   \n",
       "3   rr ' s yashasvi jaiswal today slammed the fast...   \n",
       "4   exindia spinner laxman sivaramakrishnan took a...   \n",
       "5   two persons were killed in a shooting inside a...   \n",
       "6   on the 25th anniversary of pokhran nuclear tes...   \n",
       "7   as many as 99 jail officials in delhi were tra...   \n",
       "8   a 3storey building collapsed in the vejalpur a...   \n",
       "9   at least one manipur police commando lost his ...   \n",
       "10  the electricity of pakistan ' s foreign minist...   \n",
       "11  comedianactor johny lever opened up about diff...   \n",
       "12  a scammer has reportedly made around 13000 cad...   \n",
       "13  talking about rr opener yashasvi jaiswal who s...   \n",
       "14  exwest indies pacer ian bishop said csk pacer ...   \n",
       "15  former england captain michael vaughan took to...   \n",
       "16  open network for digital commerce ondc ceo t k...   \n",
       "17  japanbased asahi soft drinks has announced it ...   \n",
       "18  jurassicera giant animals that lived in seas w...   \n",
       "19  the national investigation agency nia which is...   \n",
       "20  bjp ' s ahmedabad city unit on thursday organi...   \n",
       "21  an indianorigin fatherson duo and another pers...   \n",
       "22  a man from the netherlands reportedly kept his...   \n",
       "23  a body has been found in a new zealand cave wh...   \n",
       "24  oil and natural gas corporation ongc made disc...   \n",
       "\n",
       "                                              stemmed  \n",
       "0   rajasthan royal rr open yashasvi jaiswal on th...  \n",
       "1   rajasthan royal rr on thursday record the bigg...  \n",
       "2   rr on thursday broke the record for score most...  \n",
       "3   rr ' s yashasvi jaiswal today slam the fastest...  \n",
       "4   exindia spinner laxman sivaramakrishnan took a...  \n",
       "5   two person were kill in a shoot insid a merced...  \n",
       "6   on the 25th anniversari of pokhran nuclear tes...  \n",
       "7   as mani as 99 jail offici in delhi were transf...  \n",
       "8   a 3storey build collaps in the vejalpur area o...  \n",
       "9   at least one manipur polic commando lost hi li...  \n",
       "10  the electr of pakistan ' s foreign minist bila...  \n",
       "11  comedianactor johni lever open up about diffic...  \n",
       "12  a scammer ha reportedli made around 13000 cad ...  \n",
       "13  talk about rr open yashasvi jaiswal who slam t...  \n",
       "14  exwest indi pacer ian bishop said csk pacer ma...  \n",
       "15  former england captain michael vaughan took to...  \n",
       "16  open network for digit commerc ondc ceo t kosh...  \n",
       "17  japanbas asahi soft drink ha announc it would ...  \n",
       "18  jurassicera giant anim that live in sea were t...  \n",
       "19  the nation investig agenc nia which is probe t...  \n",
       "20  bjp ' s ahmedabad citi unit on thursday organi...  \n",
       "21  an indianorigin fatherson duo and anoth person...  \n",
       "22  a man from the netherland reportedli kept hi 1...  \n",
       "23  a bodi ha been found in a new zealand cave whe...  \n",
       "24  oil and natur ga corpor ongc made discoveri of...  "
      ]
     },
     "execution_count": 70,
     "metadata": {},
     "output_type": "execute_result"
    }
   ],
   "source": [
    "news_df"
   ]
  },
  {
   "cell_type": "code",
   "execution_count": 71,
   "id": "6756e2b6",
   "metadata": {},
   "outputs": [],
   "source": [
    "news_df['lemmatized'] = news_df['temp'].apply(lemmatize)"
   ]
  },
  {
   "cell_type": "code",
   "execution_count": 72,
   "id": "5fd23a5b",
   "metadata": {},
   "outputs": [],
   "source": [
    "news_df.drop(columns='temp',inplace=True)"
   ]
  },
  {
   "cell_type": "code",
   "execution_count": 73,
   "id": "822eb824",
   "metadata": {
    "scrolled": true
   },
   "outputs": [
    {
     "data": {
      "text/html": [
       "<div>\n",
       "<style scoped>\n",
       "    .dataframe tbody tr th:only-of-type {\n",
       "        vertical-align: middle;\n",
       "    }\n",
       "\n",
       "    .dataframe tbody tr th {\n",
       "        vertical-align: top;\n",
       "    }\n",
       "\n",
       "    .dataframe thead th {\n",
       "        text-align: right;\n",
       "    }\n",
       "</style>\n",
       "<table border=\"1\" class=\"dataframe\">\n",
       "  <thead>\n",
       "    <tr style=\"text-align: right;\">\n",
       "      <th></th>\n",
       "      <th>title</th>\n",
       "      <th>original</th>\n",
       "      <th>clean</th>\n",
       "      <th>stemmed</th>\n",
       "      <th>lemmatized</th>\n",
       "    </tr>\n",
       "  </thead>\n",
       "  <tbody>\n",
       "    <tr>\n",
       "      <th>0</th>\n",
       "      <td>RR's Yashasvi Jaiswal smashes fastest fifty in...</td>\n",
       "      <td>\\nRajasthan Royals (RR) opener Yashasvi Jaiswa...</td>\n",
       "      <td>\\nrajasthan royals rr opener yashasvi jaiswal ...</td>\n",
       "      <td>rajasthan royal rr open yashasvi jaiswal on th...</td>\n",
       "      <td>rajasthan royal rr opener yashasvi jaiswal on ...</td>\n",
       "    </tr>\n",
       "    <tr>\n",
       "      <th>1</th>\n",
       "      <td>Rajasthan Royals record biggest win of IPL 202...</td>\n",
       "      <td>\\nRajasthan Royals (RR) on Thursday recorded t...</td>\n",
       "      <td>\\nrajasthan royals rr on thursday recorded the...</td>\n",
       "      <td>rajasthan royal rr on thursday record the bigg...</td>\n",
       "      <td>rajasthan royal rr on thursday recorded the bi...</td>\n",
       "    </tr>\n",
       "    <tr>\n",
       "      <th>2</th>\n",
       "      <td>RR break record for scoring most runs in 1st o...</td>\n",
       "      <td>\\nRR on Thursday broke the record for scoring ...</td>\n",
       "      <td>\\nrr on thursday broke the record for scoring ...</td>\n",
       "      <td>rr on thursday broke the record for score most...</td>\n",
       "      <td>rr on thursday broke the record for scoring mo...</td>\n",
       "    </tr>\n",
       "    <tr>\n",
       "      <th>3</th>\n",
       "      <td>Which Indians have smashed fifty off 15 or les...</td>\n",
       "      <td>\\nRR's Yashasvi Jaiswal today slammed the fast...</td>\n",
       "      <td>\\nrr's yashasvi jaiswal today slammed the fast...</td>\n",
       "      <td>rr ' s yashasvi jaiswal today slam the fastest...</td>\n",
       "      <td>rr ' s yashasvi jaiswal today slammed the fast...</td>\n",
       "    </tr>\n",
       "    <tr>\n",
       "      <th>4</th>\n",
       "      <td>Laxman Sivaramakrishnan mocks Kamal Haasan ove...</td>\n",
       "      <td>\\nEx-India spinner Laxman Sivaramakrishnan too...</td>\n",
       "      <td>\\nexindia spinner laxman sivaramakrishnan took...</td>\n",
       "      <td>exindia spinner laxman sivaramakrishnan took a...</td>\n",
       "      <td>exindia spinner laxman sivaramakrishnan took a...</td>\n",
       "    </tr>\n",
       "    <tr>\n",
       "      <th>5</th>\n",
       "      <td>2 killed in shooting at Mercedes plant in Germ...</td>\n",
       "      <td>\\nTwo persons were killed in a shooting inside...</td>\n",
       "      <td>\\ntwo persons were killed in a shooting inside...</td>\n",
       "      <td>two person were kill in a shoot insid a merced...</td>\n",
       "      <td>two person were killed in a shooting inside a ...</td>\n",
       "    </tr>\n",
       "    <tr>\n",
       "      <th>6</th>\n",
       "      <td>PM Modi shares video on 25th anniversary of Po...</td>\n",
       "      <td>\\nOn the 25th anniversary of Pokhran nuclear t...</td>\n",
       "      <td>\\non the 25th anniversary of pokhran nuclear t...</td>\n",
       "      <td>on the 25th anniversari of pokhran nuclear tes...</td>\n",
       "      <td>on the 25th anniversary of pokhran nuclear tes...</td>\n",
       "    </tr>\n",
       "    <tr>\n",
       "      <th>7</th>\n",
       "      <td>99 jail officials transferred after gangster's...</td>\n",
       "      <td>\\nAs many as 99 jail officials in Delhi were t...</td>\n",
       "      <td>\\nas many as 99 jail officials in delhi were t...</td>\n",
       "      <td>as mani as 99 jail offici in delhi were transf...</td>\n",
       "      <td>a many a 99 jail official in delhi were transf...</td>\n",
       "    </tr>\n",
       "    <tr>\n",
       "      <th>8</th>\n",
       "      <td>3-storey building collapses in Guj; 4 feared t...</td>\n",
       "      <td>\\nA 3-storey building collapsed in the Vejalpu...</td>\n",
       "      <td>\\na 3storey building collapsed in the vejalpur...</td>\n",
       "      <td>a 3storey build collaps in the vejalpur area o...</td>\n",
       "      <td>a 3storey building collapsed in the vejalpur a...</td>\n",
       "    </tr>\n",
       "    <tr>\n",
       "      <th>9</th>\n",
       "      <td>Commando martyred, 5 injured in shootout with ...</td>\n",
       "      <td>\\nAt least one Manipur police commando lost hi...</td>\n",
       "      <td>\\nat least one manipur police commando lost hi...</td>\n",
       "      <td>at least one manipur polic commando lost hi li...</td>\n",
       "      <td>at least one manipur police commando lost his ...</td>\n",
       "    </tr>\n",
       "    <tr>\n",
       "      <th>10</th>\n",
       "      <td>Power of Bhutto's house goes off during presse...</td>\n",
       "      <td>\\nThe electricity of Pakistan's Foreign Minist...</td>\n",
       "      <td>\\nthe electricity of pakistan's foreign minist...</td>\n",
       "      <td>the electr of pakistan ' s foreign minist bila...</td>\n",
       "      <td>the electricity of pakistan ' s foreign minist...</td>\n",
       "    </tr>\n",
       "    <tr>\n",
       "      <th>11</th>\n",
       "      <td>Father was alcoholic, I sold pens on footpath:...</td>\n",
       "      <td>\\nComedian-actor Johny Lever opened up about d...</td>\n",
       "      <td>\\ncomedianactor johny lever opened up about di...</td>\n",
       "      <td>comedianactor johni lever open up about diffic...</td>\n",
       "      <td>comedianactor johny lever opened up about diff...</td>\n",
       "    </tr>\n",
       "    <tr>\n",
       "      <th>12</th>\n",
       "      <td>Scammer sells AI-generated Frank Ocean songs f...</td>\n",
       "      <td>\\nA scammer has reportedly made around $13,000...</td>\n",
       "      <td>\\na scammer has reportedly made around 13000 c...</td>\n",
       "      <td>a scammer ha reportedli made around 13000 cad ...</td>\n",
       "      <td>a scammer ha reportedly made around 13000 cad ...</td>\n",
       "    </tr>\n",
       "    <tr>\n",
       "      <th>13</th>\n",
       "      <td>One of the most dramatic 3 overs I've called: ...</td>\n",
       "      <td>\\nTalking about RR opener Yashasvi Jaiswal who...</td>\n",
       "      <td>\\ntalking about rr opener yashasvi jaiswal who...</td>\n",
       "      <td>talk about rr open yashasvi jaiswal who slam t...</td>\n",
       "      <td>talking about rr opener yashasvi jaiswal who s...</td>\n",
       "    </tr>\n",
       "    <tr>\n",
       "      <th>14</th>\n",
       "      <td>Pathirana's brutal at 20, I hadn't understood ...</td>\n",
       "      <td>\\nEx-West Indies pacer Ian Bishop said CSK pac...</td>\n",
       "      <td>\\nexwest indies pacer ian bishop said csk pace...</td>\n",
       "      <td>exwest indi pacer ian bishop said csk pacer ma...</td>\n",
       "      <td>exwest indie pacer ian bishop said csk pacer m...</td>\n",
       "    </tr>\n",
       "    <tr>\n",
       "      <th>15</th>\n",
       "      <td>Would've taken Jaiswal as Rahul replacement: V...</td>\n",
       "      <td>\\nFormer England captain Michael Vaughan took ...</td>\n",
       "      <td>\\nformer england captain michael vaughan took ...</td>\n",
       "      <td>former england captain michael vaughan took to...</td>\n",
       "      <td>former england captain michael vaughan took to...</td>\n",
       "    </tr>\n",
       "    <tr>\n",
       "      <th>16</th>\n",
       "      <td>Joining ONDC will become market compulsion for...</td>\n",
       "      <td>\\nOpen Network for Digital Commerce (ONDC) CEO...</td>\n",
       "      <td>\\nopen network for digital commerce ondc ceo t...</td>\n",
       "      <td>open network for digit commerc ondc ceo t kosh...</td>\n",
       "      <td>open network for digital commerce ondc ceo t k...</td>\n",
       "    </tr>\n",
       "    <tr>\n",
       "      <th>17</th>\n",
       "      <td>Japanese soft drinks firm to test CO2 absorbin...</td>\n",
       "      <td>\\nJapan-based Asahi Soft Drinks has announced ...</td>\n",
       "      <td>\\njapanbased asahi soft drinks has announced i...</td>\n",
       "      <td>japanbas asahi soft drink ha announc it would ...</td>\n",
       "      <td>japanbased asahi soft drink ha announced it wo...</td>\n",
       "    </tr>\n",
       "    <tr>\n",
       "      <th>18</th>\n",
       "      <td>Jurassic-era sea giants were twice as big as k...</td>\n",
       "      <td>\\nJurassic-era giant animals that lived in sea...</td>\n",
       "      <td>\\njurassicera giant animals that lived in seas...</td>\n",
       "      <td>jurassicera giant anim that live in sea were t...</td>\n",
       "      <td>jurassicera giant animal that lived in sea wer...</td>\n",
       "    </tr>\n",
       "    <tr>\n",
       "      <th>19</th>\n",
       "      <td>Kerala train fire accused inspired by preacher...</td>\n",
       "      <td>\\nThe National Investigation Agency (NIA), whi...</td>\n",
       "      <td>\\nthe national investigation agency nia which ...</td>\n",
       "      <td>the nation investig agenc nia which is probe t...</td>\n",
       "      <td>the national investigation agency nia which is...</td>\n",
       "    </tr>\n",
       "    <tr>\n",
       "      <th>20</th>\n",
       "      <td>Ahmedabad BJP organises screenings of 'Kerala ...</td>\n",
       "      <td>\\nBJP's Ahmedabad city unit on Thursday organi...</td>\n",
       "      <td>\\nbjp's ahmedabad city unit on thursday organi...</td>\n",
       "      <td>bjp ' s ahmedabad citi unit on thursday organi...</td>\n",
       "      <td>bjp ' s ahmedabad city unit on thursday organi...</td>\n",
       "    </tr>\n",
       "    <tr>\n",
       "      <th>21</th>\n",
       "      <td>3 Indian-origin men sell drugs on dark web in ...</td>\n",
       "      <td>\\nAn Indian-origin father-son duo and another ...</td>\n",
       "      <td>\\nan indianorigin fatherson duo and another pe...</td>\n",
       "      <td>an indianorigin fatherson duo and anoth person...</td>\n",
       "      <td>an indianorigin fatherson duo and another pers...</td>\n",
       "    </tr>\n",
       "    <tr>\n",
       "      <th>22</th>\n",
       "      <td>Dutch man keeps 101-yr-old father's body in fr...</td>\n",
       "      <td>\\nA man from the Netherlands reportedly kept h...</td>\n",
       "      <td>\\na man from the netherlands reportedly kept h...</td>\n",
       "      <td>a man from the netherland reportedli kept hi 1...</td>\n",
       "      <td>a man from the netherlands reportedly kept his...</td>\n",
       "    </tr>\n",
       "    <tr>\n",
       "      <th>23</th>\n",
       "      <td>Body of teen found who was lost in New Zealand...</td>\n",
       "      <td>\\nA body has been found in a New Zealand cave ...</td>\n",
       "      <td>\\na body has been found in a new zealand cave ...</td>\n",
       "      <td>a bodi ha been found in a new zealand cave whe...</td>\n",
       "      <td>a body ha been found in a new zealand cave whe...</td>\n",
       "    </tr>\n",
       "    <tr>\n",
       "      <th>24</th>\n",
       "      <td>ONGC discovers oil, gas in 2 Mumbai offshore b...</td>\n",
       "      <td>\\nOil and Natural Gas Corporation (ONGC) made ...</td>\n",
       "      <td>\\noil and natural gas corporation ongc made di...</td>\n",
       "      <td>oil and natur ga corpor ongc made discoveri of...</td>\n",
       "      <td>oil and natural gas corporation ongc made disc...</td>\n",
       "    </tr>\n",
       "  </tbody>\n",
       "</table>\n",
       "</div>"
      ],
      "text/plain": [
       "                                                title  \\\n",
       "0   RR's Yashasvi Jaiswal smashes fastest fifty in...   \n",
       "1   Rajasthan Royals record biggest win of IPL 202...   \n",
       "2   RR break record for scoring most runs in 1st o...   \n",
       "3   Which Indians have smashed fifty off 15 or les...   \n",
       "4   Laxman Sivaramakrishnan mocks Kamal Haasan ove...   \n",
       "5   2 killed in shooting at Mercedes plant in Germ...   \n",
       "6   PM Modi shares video on 25th anniversary of Po...   \n",
       "7   99 jail officials transferred after gangster's...   \n",
       "8   3-storey building collapses in Guj; 4 feared t...   \n",
       "9   Commando martyred, 5 injured in shootout with ...   \n",
       "10  Power of Bhutto's house goes off during presse...   \n",
       "11  Father was alcoholic, I sold pens on footpath:...   \n",
       "12  Scammer sells AI-generated Frank Ocean songs f...   \n",
       "13  One of the most dramatic 3 overs I've called: ...   \n",
       "14  Pathirana's brutal at 20, I hadn't understood ...   \n",
       "15  Would've taken Jaiswal as Rahul replacement: V...   \n",
       "16  Joining ONDC will become market compulsion for...   \n",
       "17  Japanese soft drinks firm to test CO2 absorbin...   \n",
       "18  Jurassic-era sea giants were twice as big as k...   \n",
       "19  Kerala train fire accused inspired by preacher...   \n",
       "20  Ahmedabad BJP organises screenings of 'Kerala ...   \n",
       "21  3 Indian-origin men sell drugs on dark web in ...   \n",
       "22  Dutch man keeps 101-yr-old father's body in fr...   \n",
       "23  Body of teen found who was lost in New Zealand...   \n",
       "24  ONGC discovers oil, gas in 2 Mumbai offshore b...   \n",
       "\n",
       "                                             original  \\\n",
       "0   \\nRajasthan Royals (RR) opener Yashasvi Jaiswa...   \n",
       "1   \\nRajasthan Royals (RR) on Thursday recorded t...   \n",
       "2   \\nRR on Thursday broke the record for scoring ...   \n",
       "3   \\nRR's Yashasvi Jaiswal today slammed the fast...   \n",
       "4   \\nEx-India spinner Laxman Sivaramakrishnan too...   \n",
       "5   \\nTwo persons were killed in a shooting inside...   \n",
       "6   \\nOn the 25th anniversary of Pokhran nuclear t...   \n",
       "7   \\nAs many as 99 jail officials in Delhi were t...   \n",
       "8   \\nA 3-storey building collapsed in the Vejalpu...   \n",
       "9   \\nAt least one Manipur police commando lost hi...   \n",
       "10  \\nThe electricity of Pakistan's Foreign Minist...   \n",
       "11  \\nComedian-actor Johny Lever opened up about d...   \n",
       "12  \\nA scammer has reportedly made around $13,000...   \n",
       "13  \\nTalking about RR opener Yashasvi Jaiswal who...   \n",
       "14  \\nEx-West Indies pacer Ian Bishop said CSK pac...   \n",
       "15  \\nFormer England captain Michael Vaughan took ...   \n",
       "16  \\nOpen Network for Digital Commerce (ONDC) CEO...   \n",
       "17  \\nJapan-based Asahi Soft Drinks has announced ...   \n",
       "18  \\nJurassic-era giant animals that lived in sea...   \n",
       "19  \\nThe National Investigation Agency (NIA), whi...   \n",
       "20  \\nBJP's Ahmedabad city unit on Thursday organi...   \n",
       "21  \\nAn Indian-origin father-son duo and another ...   \n",
       "22  \\nA man from the Netherlands reportedly kept h...   \n",
       "23  \\nA body has been found in a New Zealand cave ...   \n",
       "24  \\nOil and Natural Gas Corporation (ONGC) made ...   \n",
       "\n",
       "                                                clean  \\\n",
       "0   \\nrajasthan royals rr opener yashasvi jaiswal ...   \n",
       "1   \\nrajasthan royals rr on thursday recorded the...   \n",
       "2   \\nrr on thursday broke the record for scoring ...   \n",
       "3   \\nrr's yashasvi jaiswal today slammed the fast...   \n",
       "4   \\nexindia spinner laxman sivaramakrishnan took...   \n",
       "5   \\ntwo persons were killed in a shooting inside...   \n",
       "6   \\non the 25th anniversary of pokhran nuclear t...   \n",
       "7   \\nas many as 99 jail officials in delhi were t...   \n",
       "8   \\na 3storey building collapsed in the vejalpur...   \n",
       "9   \\nat least one manipur police commando lost hi...   \n",
       "10  \\nthe electricity of pakistan's foreign minist...   \n",
       "11  \\ncomedianactor johny lever opened up about di...   \n",
       "12  \\na scammer has reportedly made around 13000 c...   \n",
       "13  \\ntalking about rr opener yashasvi jaiswal who...   \n",
       "14  \\nexwest indies pacer ian bishop said csk pace...   \n",
       "15  \\nformer england captain michael vaughan took ...   \n",
       "16  \\nopen network for digital commerce ondc ceo t...   \n",
       "17  \\njapanbased asahi soft drinks has announced i...   \n",
       "18  \\njurassicera giant animals that lived in seas...   \n",
       "19  \\nthe national investigation agency nia which ...   \n",
       "20  \\nbjp's ahmedabad city unit on thursday organi...   \n",
       "21  \\nan indianorigin fatherson duo and another pe...   \n",
       "22  \\na man from the netherlands reportedly kept h...   \n",
       "23  \\na body has been found in a new zealand cave ...   \n",
       "24  \\noil and natural gas corporation ongc made di...   \n",
       "\n",
       "                                              stemmed  \\\n",
       "0   rajasthan royal rr open yashasvi jaiswal on th...   \n",
       "1   rajasthan royal rr on thursday record the bigg...   \n",
       "2   rr on thursday broke the record for score most...   \n",
       "3   rr ' s yashasvi jaiswal today slam the fastest...   \n",
       "4   exindia spinner laxman sivaramakrishnan took a...   \n",
       "5   two person were kill in a shoot insid a merced...   \n",
       "6   on the 25th anniversari of pokhran nuclear tes...   \n",
       "7   as mani as 99 jail offici in delhi were transf...   \n",
       "8   a 3storey build collaps in the vejalpur area o...   \n",
       "9   at least one manipur polic commando lost hi li...   \n",
       "10  the electr of pakistan ' s foreign minist bila...   \n",
       "11  comedianactor johni lever open up about diffic...   \n",
       "12  a scammer ha reportedli made around 13000 cad ...   \n",
       "13  talk about rr open yashasvi jaiswal who slam t...   \n",
       "14  exwest indi pacer ian bishop said csk pacer ma...   \n",
       "15  former england captain michael vaughan took to...   \n",
       "16  open network for digit commerc ondc ceo t kosh...   \n",
       "17  japanbas asahi soft drink ha announc it would ...   \n",
       "18  jurassicera giant anim that live in sea were t...   \n",
       "19  the nation investig agenc nia which is probe t...   \n",
       "20  bjp ' s ahmedabad citi unit on thursday organi...   \n",
       "21  an indianorigin fatherson duo and anoth person...   \n",
       "22  a man from the netherland reportedli kept hi 1...   \n",
       "23  a bodi ha been found in a new zealand cave whe...   \n",
       "24  oil and natur ga corpor ongc made discoveri of...   \n",
       "\n",
       "                                           lemmatized  \n",
       "0   rajasthan royal rr opener yashasvi jaiswal on ...  \n",
       "1   rajasthan royal rr on thursday recorded the bi...  \n",
       "2   rr on thursday broke the record for scoring mo...  \n",
       "3   rr ' s yashasvi jaiswal today slammed the fast...  \n",
       "4   exindia spinner laxman sivaramakrishnan took a...  \n",
       "5   two person were killed in a shooting inside a ...  \n",
       "6   on the 25th anniversary of pokhran nuclear tes...  \n",
       "7   a many a 99 jail official in delhi were transf...  \n",
       "8   a 3storey building collapsed in the vejalpur a...  \n",
       "9   at least one manipur police commando lost his ...  \n",
       "10  the electricity of pakistan ' s foreign minist...  \n",
       "11  comedianactor johny lever opened up about diff...  \n",
       "12  a scammer ha reportedly made around 13000 cad ...  \n",
       "13  talking about rr opener yashasvi jaiswal who s...  \n",
       "14  exwest indie pacer ian bishop said csk pacer m...  \n",
       "15  former england captain michael vaughan took to...  \n",
       "16  open network for digital commerce ondc ceo t k...  \n",
       "17  japanbased asahi soft drink ha announced it wo...  \n",
       "18  jurassicera giant animal that lived in sea wer...  \n",
       "19  the national investigation agency nia which is...  \n",
       "20  bjp ' s ahmedabad city unit on thursday organi...  \n",
       "21  an indianorigin fatherson duo and another pers...  \n",
       "22  a man from the netherlands reportedly kept his...  \n",
       "23  a body ha been found in a new zealand cave whe...  \n",
       "24  oil and natural gas corporation ongc made disc...  "
      ]
     },
     "execution_count": 73,
     "metadata": {},
     "output_type": "execute_result"
    }
   ],
   "source": [
    "news_df"
   ]
  },
  {
   "cell_type": "code",
   "execution_count": 74,
   "id": "643a4559",
   "metadata": {},
   "outputs": [],
   "source": [
    "# now codeup_df"
   ]
  },
  {
   "cell_type": "code",
   "execution_count": null,
   "id": "0dab0310",
   "metadata": {},
   "outputs": [],
   "source": []
  },
  {
   "cell_type": "code",
   "execution_count": 75,
   "id": "b06e5dca",
   "metadata": {},
   "outputs": [],
   "source": [
    "codeup_df['clean'] = codeup_df['original'].apply(basic_clean)"
   ]
  },
  {
   "cell_type": "code",
   "execution_count": 76,
   "id": "552b5ee0",
   "metadata": {},
   "outputs": [],
   "source": [
    "codeup_df['temp'] = codeup_df['clean'].apply(tokenize)"
   ]
  },
  {
   "cell_type": "code",
   "execution_count": 77,
   "id": "86ff7f37",
   "metadata": {},
   "outputs": [],
   "source": [
    "codeup_df['stemmed'] = codeup_df['temp'].apply(stem)"
   ]
  },
  {
   "cell_type": "code",
   "execution_count": 78,
   "id": "335349cb",
   "metadata": {},
   "outputs": [],
   "source": [
    "codeup_df['lemmatized'] = codeup_df['temp'].apply(lemmatize)"
   ]
  },
  {
   "cell_type": "code",
   "execution_count": 79,
   "id": "1e48b978",
   "metadata": {},
   "outputs": [],
   "source": [
    "codeup_df.drop(columns='temp',inplace=True)"
   ]
  },
  {
   "cell_type": "code",
   "execution_count": 80,
   "id": "36d41e9e",
   "metadata": {},
   "outputs": [
    {
     "data": {
      "text/html": [
       "<div>\n",
       "<style scoped>\n",
       "    .dataframe tbody tr th:only-of-type {\n",
       "        vertical-align: middle;\n",
       "    }\n",
       "\n",
       "    .dataframe tbody tr th {\n",
       "        vertical-align: top;\n",
       "    }\n",
       "\n",
       "    .dataframe thead th {\n",
       "        text-align: right;\n",
       "    }\n",
       "</style>\n",
       "<table border=\"1\" class=\"dataframe\">\n",
       "  <thead>\n",
       "    <tr style=\"text-align: right;\">\n",
       "      <th></th>\n",
       "      <th>title</th>\n",
       "      <th>original</th>\n",
       "      <th>clean</th>\n",
       "      <th>stemmed</th>\n",
       "      <th>lemmatized</th>\n",
       "    </tr>\n",
       "  </thead>\n",
       "  <tbody>\n",
       "    <tr>\n",
       "      <th>0</th>\n",
       "      <td>Women in tech: Panelist Spotlight – Magdalena ...</td>\n",
       "      <td>\\nWomen in tech: Panelist Spotlight – Magdalen...</td>\n",
       "      <td>\\nwomen in tech panelist spotlight  magdalena ...</td>\n",
       "      <td>women in tech panelist spotlight magdalena rah...</td>\n",
       "      <td>woman in tech panelist spotlight magdalena rah...</td>\n",
       "    </tr>\n",
       "    <tr>\n",
       "      <th>1</th>\n",
       "      <td>Women in tech: Panelist Spotlight – Rachel Rob...</td>\n",
       "      <td>\\nWomen in tech: Panelist Spotlight – Rachel R...</td>\n",
       "      <td>\\nwomen in tech panelist spotlight  rachel rob...</td>\n",
       "      <td>women in tech panelist spotlight rachel robbin...</td>\n",
       "      <td>woman in tech panelist spotlight rachel robbin...</td>\n",
       "    </tr>\n",
       "    <tr>\n",
       "      <th>2</th>\n",
       "      <td>Women in Tech: Panelist Spotlight – Sarah Mellor</td>\n",
       "      <td>\\nWomen in tech: Panelist Spotlight – Sarah Me...</td>\n",
       "      <td>\\nwomen in tech panelist spotlight  sarah mell...</td>\n",
       "      <td>women in tech panelist spotlight sarah mellor ...</td>\n",
       "      <td>woman in tech panelist spotlight sarah mellor ...</td>\n",
       "    </tr>\n",
       "    <tr>\n",
       "      <th>3</th>\n",
       "      <td>Women in Tech: Panelist Spotlight – Madeleine ...</td>\n",
       "      <td>\\nWomen in tech: Panelist Spotlight – Madelein...</td>\n",
       "      <td>\\nwomen in tech panelist spotlight  madeleine ...</td>\n",
       "      <td>women in tech panelist spotlight madelein capp...</td>\n",
       "      <td>woman in tech panelist spotlight madeleine cap...</td>\n",
       "    </tr>\n",
       "    <tr>\n",
       "      <th>4</th>\n",
       "      <td>Black Excellence in Tech: Panelist Spotlight –...</td>\n",
       "      <td>\\nBlack excellence in tech: Panelist Spotlight...</td>\n",
       "      <td>\\nblack excellence in tech panelist spotlight ...</td>\n",
       "      <td>black excel in tech panelist spotlight wilmari...</td>\n",
       "      <td>black excellence in tech panelist spotlight wi...</td>\n",
       "    </tr>\n",
       "    <tr>\n",
       "      <th>5</th>\n",
       "      <td>Black excellence in tech: Panelist Spotlight –...</td>\n",
       "      <td>\\nBlack excellence in tech: Panelist Spotlight...</td>\n",
       "      <td>\\nblack excellence in tech panelist spotlight ...</td>\n",
       "      <td>black excel in tech panelist spotlight stephan...</td>\n",
       "      <td>black excellence in tech panelist spotlight st...</td>\n",
       "    </tr>\n",
       "  </tbody>\n",
       "</table>\n",
       "</div>"
      ],
      "text/plain": [
       "                                               title  \\\n",
       "0  Women in tech: Panelist Spotlight – Magdalena ...   \n",
       "1  Women in tech: Panelist Spotlight – Rachel Rob...   \n",
       "2   Women in Tech: Panelist Spotlight – Sarah Mellor   \n",
       "3  Women in Tech: Panelist Spotlight – Madeleine ...   \n",
       "4  Black Excellence in Tech: Panelist Spotlight –...   \n",
       "5  Black excellence in tech: Panelist Spotlight –...   \n",
       "\n",
       "                                            original  \\\n",
       "0  \\nWomen in tech: Panelist Spotlight – Magdalen...   \n",
       "1  \\nWomen in tech: Panelist Spotlight – Rachel R...   \n",
       "2  \\nWomen in tech: Panelist Spotlight – Sarah Me...   \n",
       "3  \\nWomen in tech: Panelist Spotlight – Madelein...   \n",
       "4  \\nBlack excellence in tech: Panelist Spotlight...   \n",
       "5  \\nBlack excellence in tech: Panelist Spotlight...   \n",
       "\n",
       "                                               clean  \\\n",
       "0  \\nwomen in tech panelist spotlight  magdalena ...   \n",
       "1  \\nwomen in tech panelist spotlight  rachel rob...   \n",
       "2  \\nwomen in tech panelist spotlight  sarah mell...   \n",
       "3  \\nwomen in tech panelist spotlight  madeleine ...   \n",
       "4  \\nblack excellence in tech panelist spotlight ...   \n",
       "5  \\nblack excellence in tech panelist spotlight ...   \n",
       "\n",
       "                                             stemmed  \\\n",
       "0  women in tech panelist spotlight magdalena rah...   \n",
       "1  women in tech panelist spotlight rachel robbin...   \n",
       "2  women in tech panelist spotlight sarah mellor ...   \n",
       "3  women in tech panelist spotlight madelein capp...   \n",
       "4  black excel in tech panelist spotlight wilmari...   \n",
       "5  black excel in tech panelist spotlight stephan...   \n",
       "\n",
       "                                          lemmatized  \n",
       "0  woman in tech panelist spotlight magdalena rah...  \n",
       "1  woman in tech panelist spotlight rachel robbin...  \n",
       "2  woman in tech panelist spotlight sarah mellor ...  \n",
       "3  woman in tech panelist spotlight madeleine cap...  \n",
       "4  black excellence in tech panelist spotlight wi...  \n",
       "5  black excellence in tech panelist spotlight st...  "
      ]
     },
     "execution_count": 80,
     "metadata": {},
     "output_type": "execute_result"
    }
   ],
   "source": [
    "codeup_df"
   ]
  },
  {
   "cell_type": "code",
   "execution_count": 81,
   "id": "18958606",
   "metadata": {},
   "outputs": [
    {
     "data": {
      "text/plain": [
       "'women in tech panelist spotlight magdalena rahn codeup is host a women in tech panel in honor of women histori month on march 29th 2023 to further celebr wed like to spotlight each of our panelist lead up to the discuss to learn a bit about their respect experi as women in the tech industri meet magdalena magdalena rahn is a current codeup student in a data scienc cohort in san antonio texa she ha a profession background in crosscultur commun intern busi develop the wine industri and journal after serv in the us navi she decid to complement her profession skill set by attend the data scienc program at codeup she is set to graduat in march 2023 magdalena is fluent in french bulgarian chinesemandarin spanish and italian we ask magdalena how codeup impact her career and she repli codeup ha provid a solid foundat in analyt process program and data scienc method and it been an encourag to have such support instructor and wonder classmat dont forget to tune in on march 29th to sit in on an insight convers with magdalena'"
      ]
     },
     "execution_count": 81,
     "metadata": {},
     "output_type": "execute_result"
    }
   ],
   "source": [
    "codeup_df.iloc[0,3]"
   ]
  },
  {
   "cell_type": "code",
   "execution_count": 82,
   "id": "6aa607c5",
   "metadata": {},
   "outputs": [
    {
     "data": {
      "text/plain": [
       "'woman in tech panelist spotlight magdalena rahn codeup is hosting a woman in tech panel in honor of woman history month on march 29th 2023 to further celebrate wed like to spotlight each of our panelist leading up to the discussion to learn a bit about their respective experience a woman in the tech industry meet magdalena magdalena rahn is a current codeup student in a data science cohort in san antonio texas she ha a professional background in crosscultural communication international business development the wine industry and journalism after serving in the u navy she decided to complement her professional skill set by attending the data science program at codeup she is set to graduate in march 2023 magdalena is fluent in french bulgarian chinesemandarin spanish and italian we asked magdalena how codeup impacted her career and she replied codeup ha provided a solid foundation in analytical process programming and data science method and it been an encouragement to have such supportive instructor and wonderful classmate dont forget to tune in on march 29th to sit in on an insightful conversation with magdalena'"
      ]
     },
     "execution_count": 82,
     "metadata": {},
     "output_type": "execute_result"
    }
   ],
   "source": [
    "codeup_df.iloc[0,4]"
   ]
  },
  {
   "cell_type": "code",
   "execution_count": null,
   "id": "348a6d5f",
   "metadata": {},
   "outputs": [],
   "source": []
  }
 ],
 "metadata": {
  "kernelspec": {
   "display_name": "Python 3 (ipykernel)",
   "language": "python",
   "name": "python3"
  },
  "language_info": {
   "codemirror_mode": {
    "name": "ipython",
    "version": 3
   },
   "file_extension": ".py",
   "mimetype": "text/x-python",
   "name": "python",
   "nbconvert_exporter": "python",
   "pygments_lexer": "ipython3",
   "version": "3.9.13"
  }
 },
 "nbformat": 4,
 "nbformat_minor": 5
}
