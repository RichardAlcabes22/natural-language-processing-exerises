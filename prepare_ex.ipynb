{
 "cells": [
  {
   "cell_type": "code",
   "execution_count": 141,
   "id": "1756c50d",
   "metadata": {},
   "outputs": [],
   "source": [
    "#standard imports\n",
    "import pandas as pd\n",
    "import numpy as np\n",
    "import unicodedata\n",
    "import re\n",
    "import nltk\n",
    "from bs4 import BeautifulSoup\n",
    "import requests"
   ]
  },
  {
   "cell_type": "code",
   "execution_count": 2,
   "id": "5968e57b",
   "metadata": {},
   "outputs": [],
   "source": [
    "original = \"Paul Erdős and George Pólya were influential Hungarian mathematicians who contributed \\\n",
    "a lot to the field. Erdős's name contains the Hungarian letter 'ő' ('o' with double acute accent), \\\n",
    "but is often incorrectly written as Erdos or Erdös either by mistake or out of typographical necessity\""
   ]
  },
  {
   "cell_type": "code",
   "execution_count": 3,
   "id": "a33d850a",
   "metadata": {},
   "outputs": [
    {
     "data": {
      "text/plain": [
       "\"Paul Erdős and George Pólya were influential Hungarian mathematicians who contributed a lot to the field. Erdős's name contains the Hungarian letter 'ő' ('o' with double acute accent), but is often incorrectly written as Erdos or Erdös either by mistake or out of typographical necessity\""
      ]
     },
     "execution_count": 3,
     "metadata": {},
     "output_type": "execute_result"
    }
   ],
   "source": [
    "original"
   ]
  },
  {
   "cell_type": "markdown",
   "id": "1150f53f",
   "metadata": {},
   "source": [
    "## 1 Function: basic_clean"
   ]
  },
  {
   "cell_type": "markdown",
   "id": "34643309",
   "metadata": {},
   "source": [
    "### lowercase"
   ]
  },
  {
   "cell_type": "code",
   "execution_count": 4,
   "id": "c5c5a38b",
   "metadata": {},
   "outputs": [],
   "source": [
    "lowered = original.lower()"
   ]
  },
  {
   "cell_type": "code",
   "execution_count": 5,
   "id": "cb57a2c2",
   "metadata": {},
   "outputs": [
    {
     "data": {
      "text/plain": [
       "\"paul erdős and george pólya were influential hungarian mathematicians who contributed a lot to the field. erdős's name contains the hungarian letter 'ő' ('o' with double acute accent), but is often incorrectly written as erdos or erdös either by mistake or out of typographical necessity\""
      ]
     },
     "execution_count": 5,
     "metadata": {},
     "output_type": "execute_result"
    }
   ],
   "source": [
    "lowered"
   ]
  },
  {
   "cell_type": "markdown",
   "id": "c067859e",
   "metadata": {},
   "source": [
    "### normalize into unicode (utf-8)"
   ]
  },
  {
   "cell_type": "code",
   "execution_count": 6,
   "id": "0608eb46",
   "metadata": {},
   "outputs": [],
   "source": [
    "normalized = unicodedata.normalize('NFKD', lowered).encode('ascii','ignore').decode('utf-8')"
   ]
  },
  {
   "cell_type": "code",
   "execution_count": 7,
   "id": "36c09ea5",
   "metadata": {},
   "outputs": [
    {
     "data": {
      "text/plain": [
       "\"paul erdos and george polya were influential hungarian mathematicians who contributed a lot to the field. erdos's name contains the hungarian letter 'o' ('o' with double acute accent), but is often incorrectly written as erdos or erdos either by mistake or out of typographical necessity\""
      ]
     },
     "execution_count": 7,
     "metadata": {},
     "output_type": "execute_result"
    }
   ],
   "source": [
    "normalized"
   ]
  },
  {
   "cell_type": "markdown",
   "id": "6fcfdfc9",
   "metadata": {},
   "source": [
    "### replace non-word, single space and single-quote chars"
   ]
  },
  {
   "cell_type": "code",
   "execution_count": 8,
   "id": "47b3eec4",
   "metadata": {},
   "outputs": [
    {
     "data": {
      "text/plain": [
       "\"paul erdos and george polya were influential hungarian mathematicians who contributed a lot to the field erdos's name contains the hungarian letter 'o' 'o' with double acute accent but is often incorrectly written as erdos or erdos either by mistake or out of typographical necessity\""
      ]
     },
     "execution_count": 8,
     "metadata": {},
     "output_type": "execute_result"
    }
   ],
   "source": [
    "re.sub(r'[^a-zA-Z0-9\\'\\s]', '', normalized)"
   ]
  },
  {
   "cell_type": "code",
   "execution_count": 23,
   "id": "0208a190",
   "metadata": {},
   "outputs": [],
   "source": [
    "basicly_clean = re.sub(r'[^a-zA-Z0-9\\'\\s]', '', normalized)"
   ]
  },
  {
   "cell_type": "code",
   "execution_count": 24,
   "id": "5bbc0e39",
   "metadata": {},
   "outputs": [
    {
     "data": {
      "text/plain": [
       "\"paul erdos and george polya were influential hungarian mathematicians who contributed a lot to the field erdos's name contains the hungarian letter 'o' 'o' with double acute accent but is often incorrectly written as erdos or erdos either by mistake or out of typographical necessity\""
      ]
     },
     "execution_count": 24,
     "metadata": {},
     "output_type": "execute_result"
    }
   ],
   "source": [
    "basicly_clean"
   ]
  },
  {
   "cell_type": "markdown",
   "id": "3501f722",
   "metadata": {},
   "source": [
    "### now functionalize this..."
   ]
  },
  {
   "cell_type": "code",
   "execution_count": 11,
   "id": "67702fe4",
   "metadata": {},
   "outputs": [],
   "source": [
    "def basic_clean(string):\n",
    "    '''\n",
    "    takes in a string and outputs a basic-cleaned version:\n",
    "                    -lowercase\n",
    "                    -normalized to unicode set\n",
    "                    -replaced non-word and non-singlespace,non-singlequote chars with ''\n",
    "    '''\n",
    "    lowered = string.lower()\n",
    "    normalized = unicodedata.normalize('NFKD', lowered).encode('ascii','ignore').decode('utf-8')\n",
    "    basic_clean = re.sub(r'[^a-zA-Z0-9\\'\\s]', '', normalized)\n",
    "    return basic_clean"
   ]
  },
  {
   "cell_type": "code",
   "execution_count": 17,
   "id": "90c84a75",
   "metadata": {},
   "outputs": [],
   "source": [
    "test = 'here sis some wsrttroing of sa./23;l3r2892390*(*()*\\U0001F601())'"
   ]
  },
  {
   "cell_type": "code",
   "execution_count": 18,
   "id": "eb2e1391",
   "metadata": {},
   "outputs": [
    {
     "data": {
      "text/plain": [
       "'here sis some wsrttroing of sa./23;l3r2892390*(*()*😁())'"
      ]
     },
     "execution_count": 18,
     "metadata": {},
     "output_type": "execute_result"
    }
   ],
   "source": [
    "test"
   ]
  },
  {
   "cell_type": "code",
   "execution_count": 28,
   "id": "ed8cc6a5",
   "metadata": {},
   "outputs": [],
   "source": [
    "test_clean = basic_clean(test)"
   ]
  },
  {
   "cell_type": "code",
   "execution_count": 29,
   "id": "8041f1da",
   "metadata": {},
   "outputs": [
    {
     "data": {
      "text/plain": [
       "'here sis some wsrttroing of sa23l3r2892390'"
      ]
     },
     "execution_count": 29,
     "metadata": {},
     "output_type": "execute_result"
    }
   ],
   "source": [
    "test_clean"
   ]
  },
  {
   "cell_type": "markdown",
   "id": "f8004767",
   "metadata": {},
   "source": [
    "## 2 Function: tokenize"
   ]
  },
  {
   "cell_type": "code",
   "execution_count": 20,
   "id": "8da5be4f",
   "metadata": {},
   "outputs": [
    {
     "data": {
      "text/plain": [
       "<nltk.tokenize.toktok.ToktokTokenizer at 0x14c248940>"
      ]
     },
     "execution_count": 20,
     "metadata": {},
     "output_type": "execute_result"
    }
   ],
   "source": [
    "tokenizer = nltk.tokenize.ToktokTokenizer()\n",
    "tokenizer"
   ]
  },
  {
   "cell_type": "code",
   "execution_count": 25,
   "id": "d4c09c73",
   "metadata": {},
   "outputs": [],
   "source": [
    "tokenized = tokenizer.tokenize(basicly_clean, return_str=True)"
   ]
  },
  {
   "cell_type": "code",
   "execution_count": 26,
   "id": "a97af1df",
   "metadata": {},
   "outputs": [
    {
     "data": {
      "text/plain": [
       "\"paul erdos and george polya were influential hungarian mathematicians who contributed a lot to the field erdos ' s name contains the hungarian letter ' o ' ' o ' with double acute accent but is often incorrectly written as erdos or erdos either by mistake or out of typographical necessity\""
      ]
     },
     "execution_count": 26,
     "metadata": {},
     "output_type": "execute_result"
    }
   ],
   "source": [
    "tokenized"
   ]
  },
  {
   "cell_type": "markdown",
   "id": "06a015c1",
   "metadata": {},
   "source": [
    "### now functionalize this..."
   ]
  },
  {
   "cell_type": "code",
   "execution_count": 31,
   "id": "2256c956",
   "metadata": {},
   "outputs": [],
   "source": [
    "def tokenize(string):\n",
    "    '''\n",
    "    takes in a string and outputs a tokenized version:\n",
    "    \n",
    "    '''\n",
    "    tokenizer = nltk.tokenize.ToktokTokenizer()\n",
    "    tokenized = tokenizer.tokenize(string, return_str=True)\n",
    "    return tokenized"
   ]
  },
  {
   "cell_type": "code",
   "execution_count": 39,
   "id": "e520e3cb",
   "metadata": {},
   "outputs": [],
   "source": [
    "test_token = tokenize(test_clean)"
   ]
  },
  {
   "cell_type": "code",
   "execution_count": 40,
   "id": "ab94cc34",
   "metadata": {},
   "outputs": [
    {
     "data": {
      "text/plain": [
       "'here sis some wsrttroing of sa23l3r2892390'"
      ]
     },
     "execution_count": 40,
     "metadata": {},
     "output_type": "execute_result"
    }
   ],
   "source": [
    "test_token"
   ]
  },
  {
   "cell_type": "markdown",
   "id": "8f84b60b",
   "metadata": {},
   "source": [
    "## 3 Function: stem"
   ]
  },
  {
   "cell_type": "code",
   "execution_count": 33,
   "id": "34a85f3d",
   "metadata": {},
   "outputs": [],
   "source": [
    "stemmer = nltk.porter.PorterStemmer()"
   ]
  },
  {
   "cell_type": "code",
   "execution_count": 34,
   "id": "980d0665",
   "metadata": {},
   "outputs": [
    {
     "data": {
      "text/plain": [
       "<PorterStemmer>"
      ]
     },
     "execution_count": 34,
     "metadata": {},
     "output_type": "execute_result"
    }
   ],
   "source": [
    "stemmer"
   ]
  },
  {
   "cell_type": "code",
   "execution_count": 35,
   "id": "e18a2714",
   "metadata": {},
   "outputs": [
    {
     "data": {
      "text/plain": [
       "\"paul erdos and george polya were influential hungarian mathematicians who contributed a lot to the field erdos ' s name contains the hungarian letter ' o ' ' o ' with double acute accent but is often incorrectly written as erdos or erdos either by mistake or out of typographical necess\""
      ]
     },
     "execution_count": 35,
     "metadata": {},
     "output_type": "execute_result"
    }
   ],
   "source": [
    "stemmer.stem(tokenized)"
   ]
  },
  {
   "cell_type": "code",
   "execution_count": 36,
   "id": "f60bb652",
   "metadata": {},
   "outputs": [
    {
     "data": {
      "text/plain": [
       "\"paul erdo and georg polya were influenti hungarian mathematician who contribut a lot to the field erdo ' s name contain the hungarian letter ' o ' ' o ' with doubl acut accent but is often incorrectli written as erdo or erdo either by mistak or out of typograph necess\""
      ]
     },
     "execution_count": 36,
     "metadata": {},
     "output_type": "execute_result"
    }
   ],
   "source": [
    "' '.join([stemmer.stem(word) for word in tokenized.split()])"
   ]
  },
  {
   "cell_type": "markdown",
   "id": "f402b000",
   "metadata": {},
   "source": [
    "### now functionalize this..."
   ]
  },
  {
   "cell_type": "code",
   "execution_count": 37,
   "id": "e2fa096c",
   "metadata": {},
   "outputs": [],
   "source": [
    "def stem(string):\n",
    "    '''\n",
    "    takes in a string and outputs a stemmed (Porter) version:\n",
    "    \n",
    "    '''\n",
    "    stemmer = nltk.porter.PorterStemmer()\n",
    "    stemmed = ' '.join([stemmer.stem(word) for word in string.split()])\n",
    "    return stemmed"
   ]
  },
  {
   "cell_type": "code",
   "execution_count": 41,
   "id": "6d9e2826",
   "metadata": {},
   "outputs": [
    {
     "data": {
      "text/plain": [
       "'here si some wsrttro of sa23l3r2892390'"
      ]
     },
     "execution_count": 41,
     "metadata": {},
     "output_type": "execute_result"
    }
   ],
   "source": [
    "stem(test_token)"
   ]
  },
  {
   "cell_type": "markdown",
   "id": "7eb3ff76",
   "metadata": {},
   "source": [
    "## 4 Function: lemmatize"
   ]
  },
  {
   "cell_type": "code",
   "execution_count": 42,
   "id": "b24e730c",
   "metadata": {},
   "outputs": [],
   "source": [
    "lemmatizer = nltk.stem.WordNetLemmatizer()"
   ]
  },
  {
   "cell_type": "code",
   "execution_count": 43,
   "id": "cfa37e49",
   "metadata": {},
   "outputs": [],
   "source": [
    "lemmatized = [lemmatizer.lemmatize(word) for word in tokenized.split()]"
   ]
  },
  {
   "cell_type": "code",
   "execution_count": 44,
   "id": "f3d3993b",
   "metadata": {
    "scrolled": true
   },
   "outputs": [
    {
     "data": {
      "text/plain": [
       "['paul',\n",
       " 'erdos',\n",
       " 'and',\n",
       " 'george',\n",
       " 'polya',\n",
       " 'were',\n",
       " 'influential',\n",
       " 'hungarian',\n",
       " 'mathematician',\n",
       " 'who',\n",
       " 'contributed',\n",
       " 'a',\n",
       " 'lot',\n",
       " 'to',\n",
       " 'the',\n",
       " 'field',\n",
       " 'erdos',\n",
       " \"'\",\n",
       " 's',\n",
       " 'name',\n",
       " 'contains',\n",
       " 'the',\n",
       " 'hungarian',\n",
       " 'letter',\n",
       " \"'\",\n",
       " 'o',\n",
       " \"'\",\n",
       " \"'\",\n",
       " 'o',\n",
       " \"'\",\n",
       " 'with',\n",
       " 'double',\n",
       " 'acute',\n",
       " 'accent',\n",
       " 'but',\n",
       " 'is',\n",
       " 'often',\n",
       " 'incorrectly',\n",
       " 'written',\n",
       " 'a',\n",
       " 'erdos',\n",
       " 'or',\n",
       " 'erdos',\n",
       " 'either',\n",
       " 'by',\n",
       " 'mistake',\n",
       " 'or',\n",
       " 'out',\n",
       " 'of',\n",
       " 'typographical',\n",
       " 'necessity']"
      ]
     },
     "execution_count": 44,
     "metadata": {},
     "output_type": "execute_result"
    }
   ],
   "source": [
    "lemmatized"
   ]
  },
  {
   "cell_type": "markdown",
   "id": "4835fa4a",
   "metadata": {},
   "source": [
    "### now functionalize this..."
   ]
  },
  {
   "cell_type": "code",
   "execution_count": 45,
   "id": "835354dd",
   "metadata": {},
   "outputs": [],
   "source": [
    "def lemmatize(string):\n",
    "    '''\n",
    "    takes in a string and outputs a lemmatized version:\n",
    "    \n",
    "    '''\n",
    "    lemmatizer = nltk.stem.WordNetLemmatizer()\n",
    "    lemmatized = [lemmatizer.lemmatize(word) for word in string.split()]\n",
    "    return lemmatized"
   ]
  },
  {
   "cell_type": "code",
   "execution_count": 54,
   "id": "174504c9",
   "metadata": {},
   "outputs": [],
   "source": [
    "test_lemma = lemmatize(test_token)"
   ]
  },
  {
   "cell_type": "code",
   "execution_count": 55,
   "id": "204dbc98",
   "metadata": {},
   "outputs": [
    {
     "data": {
      "text/plain": [
       "['here', 'si', 'some', 'wsrttroing', 'of', 'sa23l3r2892390']"
      ]
     },
     "execution_count": 55,
     "metadata": {},
     "output_type": "execute_result"
    }
   ],
   "source": [
    "test_lemma"
   ]
  },
  {
   "cell_type": "markdown",
   "id": "21990636",
   "metadata": {},
   "source": [
    "## 5 Function: remove_stopwords"
   ]
  },
  {
   "cell_type": "code",
   "execution_count": 47,
   "id": "f93b1224",
   "metadata": {},
   "outputs": [],
   "source": [
    "stopwords = nltk.corpus.stopwords"
   ]
  },
  {
   "cell_type": "code",
   "execution_count": 48,
   "id": "481ad9ed",
   "metadata": {},
   "outputs": [
    {
     "data": {
      "text/plain": [
       "<WordListCorpusReader in '/Users/richardalcabes/nltk_data/corpora/stopwords'>"
      ]
     },
     "execution_count": 48,
     "metadata": {},
     "output_type": "execute_result"
    }
   ],
   "source": [
    "stopwords"
   ]
  },
  {
   "cell_type": "code",
   "execution_count": 49,
   "id": "62fb8632",
   "metadata": {},
   "outputs": [
    {
     "data": {
      "text/plain": [
       "['i',\n",
       " 'me',\n",
       " 'my',\n",
       " 'myself',\n",
       " 'we',\n",
       " 'our',\n",
       " 'ours',\n",
       " 'ourselves',\n",
       " 'you',\n",
       " \"you're\",\n",
       " \"you've\",\n",
       " \"you'll\",\n",
       " \"you'd\",\n",
       " 'your',\n",
       " 'yours',\n",
       " 'yourself',\n",
       " 'yourselves',\n",
       " 'he',\n",
       " 'him',\n",
       " 'his']"
      ]
     },
     "execution_count": 49,
     "metadata": {},
     "output_type": "execute_result"
    }
   ],
   "source": [
    "stopwords.words('english')[:20]"
   ]
  },
  {
   "cell_type": "code",
   "execution_count": 93,
   "id": "ab01e1c4",
   "metadata": {},
   "outputs": [],
   "source": [
    "garbage = ['words','word','wording']"
   ]
  },
  {
   "cell_type": "code",
   "execution_count": 108,
   "id": "d49998b3",
   "metadata": {},
   "outputs": [],
   "source": [
    "stopper = stopwords.words('english')"
   ]
  },
  {
   "cell_type": "code",
   "execution_count": 109,
   "id": "1754b4bf",
   "metadata": {},
   "outputs": [
    {
     "data": {
      "text/plain": [
       "list"
      ]
     },
     "execution_count": 109,
     "metadata": {},
     "output_type": "execute_result"
    }
   ],
   "source": [
    "type(stopper)"
   ]
  },
  {
   "cell_type": "code",
   "execution_count": 113,
   "id": "37438bed",
   "metadata": {},
   "outputs": [
    {
     "data": {
      "text/plain": [
       "NoneType"
      ]
     },
     "execution_count": 113,
     "metadata": {},
     "output_type": "execute_result"
    }
   ],
   "source": [
    "type(stopper.append('ws'))"
   ]
  },
  {
   "cell_type": "code",
   "execution_count": 111,
   "id": "d254353b",
   "metadata": {},
   "outputs": [
    {
     "data": {
      "text/plain": [
       "NoneType"
      ]
     },
     "execution_count": 111,
     "metadata": {},
     "output_type": "execute_result"
    }
   ],
   "source": [
    "type(stopper2)"
   ]
  },
  {
   "cell_type": "code",
   "execution_count": 50,
   "id": "6a511a20",
   "metadata": {},
   "outputs": [],
   "source": [
    "dunzo_text = ' '.join([word for word in lemmatized \n",
    "                         if word not in stopwords.words('english')])"
   ]
  },
  {
   "cell_type": "code",
   "execution_count": 51,
   "id": "688fd877",
   "metadata": {},
   "outputs": [
    {
     "data": {
      "text/plain": [
       "\"paul erdos george polya influential hungarian mathematician contributed lot field erdos ' name contains hungarian letter ' ' ' ' double acute accent often incorrectly written erdos erdos either mistake typographical necessity\""
      ]
     },
     "execution_count": 51,
     "metadata": {},
     "output_type": "execute_result"
    }
   ],
   "source": [
    "dunzo_text"
   ]
  },
  {
   "cell_type": "markdown",
   "id": "1a389837",
   "metadata": {},
   "source": [
    "### now functionalize this..."
   ]
  },
  {
   "cell_type": "code",
   "execution_count": 137,
   "id": "b0415b98",
   "metadata": {},
   "outputs": [],
   "source": [
    "def remove_stopwords(token_list,extra=[]):\n",
    "    '''\n",
    "    takes in a list of tokens and outputs a version with standard english stopwords removed\n",
    "    additional arguments 'extra_words'  *list of strings* allow user to add to stopword dictionary\n",
    "                         'exclude_words' *list of strings* allow user to remove word from standard stopword dict\n",
    "    \n",
    "    '''\n",
    "    stopwords = nltk.corpus.stopwords\n",
    "    stopw = stopwords.words('english') + extra\n",
    "    dunzo_text = ' '.join([word for word in token_list \n",
    "                         if word not in stopw])\n",
    "    return dunzo_text"
   ]
  },
  {
   "cell_type": "code",
   "execution_count": 140,
   "id": "676c998f",
   "metadata": {
    "scrolled": true
   },
   "outputs": [
    {
     "data": {
      "text/plain": [
       "'sa23l3r2892390'"
      ]
     },
     "execution_count": 140,
     "metadata": {},
     "output_type": "execute_result"
    }
   ],
   "source": [
    "remove_stopwords(test_lemma,extra=['si','wsrttroing'])"
   ]
  },
  {
   "cell_type": "markdown",
   "id": "d6f5d35b",
   "metadata": {},
   "source": [
    "## 6 acquire news_df"
   ]
  },
  {
   "cell_type": "code",
   "execution_count": 146,
   "id": "994c4b6f",
   "metadata": {
    "scrolled": true
   },
   "outputs": [],
   "source": [
    "url = 'https://inshorts.com/en/read/'\n",
    "response = requests.get(url)\n",
    "soup = BeautifulSoup(response.content, 'html.parser')\n",
    "news_div = soup.find_all('div',class_='news-card-content news-right-box')"
   ]
  },
  {
   "cell_type": "code",
   "execution_count": 149,
   "id": "027b2cdf",
   "metadata": {},
   "outputs": [],
   "source": [
    "content = []\n",
    "for i in range(0,len(news_div)):\n",
    "    url= 'https://inshorts.com/en/read/'\n",
    "    #headers = {'User-Agent': 'Codeup Data Science'}\n",
    "    response = requests.get(url)\n",
    "    soup = BeautifulSoup(response.content, 'html.parser')\n",
    "    news_div = soup.find_all('div',class_='news-card-content news-right-box')\n",
    "    gacha = news_div[i].text\n",
    "    content.append(gacha)"
   ]
  },
  {
   "cell_type": "code",
   "execution_count": 151,
   "id": "c4272b87",
   "metadata": {},
   "outputs": [],
   "source": [
    "titles = []\n",
    "for i in range(0,len(news_div)):\n",
    "    url= 'https://inshorts.com/en/read/'\n",
    "    #headers = {'User-Agent': 'Codeup Data Science'}\n",
    "    response = requests.get(url)\n",
    "    soup = BeautifulSoup(response.content, 'html.parser')\n",
    "    headline = soup.find_all('span',itemprop='headline')\n",
    "    gacha = headline[i].text\n",
    "    titles.append(gacha)"
   ]
  },
  {
   "cell_type": "code",
   "execution_count": 152,
   "id": "c1265001",
   "metadata": {},
   "outputs": [],
   "source": [
    "dictionary = {titles[i]:content[i] for i in range(len(news_div))}"
   ]
  },
  {
   "cell_type": "code",
   "execution_count": null,
   "id": "b972ea14",
   "metadata": {},
   "outputs": [],
   "source": []
  },
  {
   "cell_type": "code",
   "execution_count": null,
   "id": "94f54cd0",
   "metadata": {},
   "outputs": [],
   "source": []
  },
  {
   "cell_type": "code",
   "execution_count": null,
   "id": "3b0ce096",
   "metadata": {},
   "outputs": [],
   "source": []
  },
  {
   "cell_type": "code",
   "execution_count": null,
   "id": "a467530f",
   "metadata": {},
   "outputs": [],
   "source": []
  },
  {
   "cell_type": "code",
   "execution_count": null,
   "id": "7a32ae6e",
   "metadata": {},
   "outputs": [],
   "source": []
  }
 ],
 "metadata": {
  "kernelspec": {
   "display_name": "Python 3 (ipykernel)",
   "language": "python",
   "name": "python3"
  },
  "language_info": {
   "codemirror_mode": {
    "name": "ipython",
    "version": 3
   },
   "file_extension": ".py",
   "mimetype": "text/x-python",
   "name": "python",
   "nbconvert_exporter": "python",
   "pygments_lexer": "ipython3",
   "version": "3.9.13"
  }
 },
 "nbformat": 4,
 "nbformat_minor": 5
}
